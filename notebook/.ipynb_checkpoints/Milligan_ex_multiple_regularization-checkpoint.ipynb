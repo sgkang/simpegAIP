{
 "cells": [
  {
   "cell_type": "code",
   "execution_count": 1,
   "metadata": {
    "collapsed": false
   },
   "outputs": [
    {
     "name": "stdout",
     "output_type": "stream",
     "text": [
      "Populating the interactive namespace from numpy and matplotlib\n"
     ]
    }
   ],
   "source": [
    "import numpy as np\n",
    "%pylab inline"
   ]
  },
  {
   "cell_type": "code",
   "execution_count": 2,
   "metadata": {
    "collapsed": false
   },
   "outputs": [],
   "source": [
    "def AofT(time,T, ai, taui):\n",
    "    return ai*np.exp(-time/taui)/(1.+np.exp(-T/(2*taui)))"
   ]
  },
  {
   "cell_type": "code",
   "execution_count": 3,
   "metadata": {
    "collapsed": false
   },
   "outputs": [],
   "source": [
    "from SimPEG import *\n",
    "from simpegem1d.Waveform import CausalConv\n",
    "import sys\n",
    "sys.path.append(\"./DoubleLog/\")\n",
    "from plotting import mapDat\n",
    "import cPickle as pickle"
   ]
  },
  {
   "cell_type": "code",
   "execution_count": 4,
   "metadata": {
    "collapsed": false
   },
   "outputs": [],
   "source": [
    "milligan = pickle.load(open(\"milligan.p\"))"
   ]
  },
  {
   "cell_type": "code",
   "execution_count": 5,
   "metadata": {
    "collapsed": false
   },
   "outputs": [],
   "source": [
    "DAT = milligan['DAT']\n",
    "Header = milligan['header']\n",
    "time_vtem_mus = np.r_[99,120,141,167,198,234,281,339,406,484,573,682,818,974,1151,1370,1641,1953,2307,2745,3286,3911,4620,5495,6578,7828,9245]\n",
    "time = time_vtem_mus[4:]*1e-6\n",
    "obsdata = DAT[:,13:13+27]\n",
    "xyz = np.c_[DAT[:,0], DAT[:,1], DAT[:,3]]\n",
    "line = milligan['Line']"
   ]
  },
  {
   "cell_type": "code",
   "execution_count": 6,
   "metadata": {
    "collapsed": false
   },
   "outputs": [
    {
     "name": "stdout",
     "output_type": "stream",
     "text": [
      "560\n"
     ]
    }
   ],
   "source": [
    "linenum = 6\n",
    "Line = np.unique(line)\n",
    "indline = line == Line[linenum]\n",
    "print Line[linenum]\n",
    "# plt.plot(xyz[:,0], xyz[:,1], '.')\n",
    "# plt.plot(xyz[indline,0], xyz[indline,1], 'r.')"
   ]
  },
  {
   "cell_type": "code",
   "execution_count": 7,
   "metadata": {
    "collapsed": false
   },
   "outputs": [],
   "source": [
    "obs_line = obsdata[indline,4:][::10,:]\n",
    "xyz_line = xyz[indline,:][::10,:]"
   ]
  },
  {
   "cell_type": "code",
   "execution_count": 8,
   "metadata": {
    "collapsed": false
   },
   "outputs": [],
   "source": [
    "class LinearSurvey(Survey.BaseSurvey):\n",
    "    nD = None\n",
    "    xyz = None\n",
    "    uncert = None\n",
    "    def __init__(self, time, xyz,**kwargs): \n",
    "        self.time = time        \n",
    "        self.xyz = xyz\n",
    "        self.ntime = time.size\n",
    "        self.ntx = self.xyz.shape[0]\n",
    "        self.nD = self.ntime*self.ntx\n",
    "                \n",
    "    def projectFields(self, u):\n",
    "        return u\n",
    "    \n",
    "    def setUncertainty(self, dobs, perc=0.1, floor=0.):\n",
    "        self.uncert = np.zeros((self.ntime, self.ntx))\n",
    "        self.dobs = dobs        \n",
    "        dobs = dobs.reshape((self.ntime, self.ntx), order='F')\n",
    "        for itx in range(self.ntx):\n",
    "            ipind = dobs[:,itx]<0.\n",
    "            if (ipind).sum() > 3:\n",
    "                ip = dobs[ipind,itx]\n",
    "                self.uncert[:,itx] = perc*abs(dobs[:,itx]) + abs(ip).max()\n",
    "            else:\n",
    "                self.uncert[:,itx] = perc*abs(dobs[:,itx])+floor\n",
    "        self.uncert = Utils.mkvc(self.uncert)\n",
    "\n",
    "        return self.uncert\n",
    "\n",
    "class LinearProblem(Problem.BaseProblem):\n",
    "\n",
    "    surveyPair = LinearSurvey\n",
    "    tau = None\n",
    "    \n",
    "    def __init__(self, mesh,**kwargs):\n",
    "        Problem.BaseProblem.__init__(self, mesh, **kwargs)\n",
    "        self.setTau()\n",
    "        \n",
    "    #TODO: make general (not it works for db/dt)\n",
    "    def getG(self, currentderiv, timeconv, t0=0.):    \n",
    "        dt = timeconv[1]-timeconv[0]\n",
    "        ntime = time_conv.size\n",
    "        meshtime = Mesh.TensorMesh([dt*np.ones(ntime)], x0=[-dt/2.])\n",
    "        P = meshtime.getInterpolationMat(time+t0, 'CC')        \n",
    "        self.G = np.zeros((self.survey.ntime, self.ntau))\n",
    "        for j in range(self.ntau):\n",
    "            self.G[:,j] = P*(CausalConv(1./self.tau[j]*np.exp(-time_conv/self.tau[j]), -currentderiv, time_conv))    \n",
    "            \n",
    "    def setTau(self, minlogtau=-5, maxlogtau=-2, ntau = 81):\n",
    "        self.tau = np.logspace(minlogtau, maxlogtau, ntau)\n",
    "        self.ntau = ntau\n",
    "        \n",
    "    def fields(self, m, u=None):\n",
    "        m = m.reshape((self.ntau, self.survey.ntx), order='F')\n",
    "        pred = self.G.dot(m)\n",
    "        return Utils.mkvc(pred)\n",
    "\n",
    "    def Jvec(self, m, v, u=None):\n",
    "        v = v.reshape((self.ntau, self.survey.ntx), order='F')\n",
    "        jvec = self.G.dot(v)   \n",
    "        return Utils.mkvc(jvec)\n",
    "\n",
    "    def Jtvec(self, m, v, u=None):\n",
    "        v = v.reshape((self.survey.ntime, self.survey.ntx), order='F')\n",
    "        jtvec = self.G.T.dot(v)\n",
    "        return Utils.mkvc(jtvec)\n"
   ]
  },
  {
   "cell_type": "code",
   "execution_count": 9,
   "metadata": {
    "collapsed": false
   },
   "outputs": [
    {
     "data": {
      "text/plain": [
       "SimPEG.Regularization.BaseRegularization"
      ]
     },
     "execution_count": 9,
     "metadata": {},
     "output_type": "execute_result"
    }
   ],
   "source": [
    "Regularization.BaseRegularization"
   ]
  },
  {
   "cell_type": "code",
   "execution_count": null,
   "metadata": {
    "collapsed": false
   },
   "outputs": [],
   "source": []
  },
  {
   "cell_type": "code",
   "execution_count": 10,
   "metadata": {
    "collapsed": true
   },
   "outputs": [],
   "source": [
    "meshline = Mesh.TensorMesh([2])\n",
    "Gx = meshline.cellGradx"
   ]
  },
  {
   "cell_type": "code",
   "execution_count": 11,
   "metadata": {
    "collapsed": false
   },
   "outputs": [
    {
     "data": {
      "text/plain": [
       "matrix([[ 0.,  0.],\n",
       "        [-2.,  2.],\n",
       "        [ 0.,  0.]])"
      ]
     },
     "execution_count": 11,
     "metadata": {},
     "output_type": "execute_result"
    }
   ],
   "source": [
    "Gx.todense()"
   ]
  },
  {
   "cell_type": "markdown",
   "metadata": {},
   "source": [
    "# Simple exponential basis"
   ]
  },
  {
   "cell_type": "markdown",
   "metadata": {},
   "source": [
    "\n",
    "$$ \\mathbf{A}\\mathbf{\\alpha} = \\mathbf{d}$$"
   ]
  },
  {
   "cell_type": "code",
   "execution_count": 12,
   "metadata": {
    "collapsed": false
   },
   "outputs": [],
   "source": [
    "tind = 12\n",
    "# time = np.load('./exampledata/timevtem.npy')[4:]\n",
    "# obs = np.load('./exampledata/souding.npy')[4:]\n",
    "wave = np.loadtxt('/Users/sgkang/Dropbox/Shared/SeogiDikun/Milligan/Data/7042_106_wform.xyz', skiprows=7)\n",
    "M = 81\n",
    "tau = np.logspace(-5, -2, M)"
   ]
  },
  {
   "cell_type": "code",
   "execution_count": 13,
   "metadata": {
    "collapsed": false
   },
   "outputs": [],
   "source": [
    "twave = (np.arange(10000)+1)*1e-5\n",
    "indstart = 4439\n",
    "indend = 6000\n",
    "t0_wave = twave[indstart:indend].min()\n",
    "time_conv= twave[indstart:indend]-t0_wave"
   ]
  },
  {
   "cell_type": "code",
   "execution_count": 14,
   "metadata": {
    "collapsed": false
   },
   "outputs": [],
   "source": [
    "currentderiv = wave[indstart:indend]\n",
    "currentderiv[time_conv>4.4e-3] = 0.\n",
    "current = CausalConv(wave[indstart:indend], np.ones_like(wave[indstart:indend]), time_conv)"
   ]
  },
  {
   "cell_type": "code",
   "execution_count": 15,
   "metadata": {
    "collapsed": false
   },
   "outputs": [
    {
     "data": {
      "text/plain": [
       "(-4.5, 4.5)"
      ]
     },
     "execution_count": 15,
     "metadata": {},
     "output_type": "execute_result"
    },
    {
     "data": {
      "image/png": "[encoded data removed]",
      "text/plain": [
       "<matplotlib.figure.Figure at 0x109f22350>"
      ]
     },
     "metadata": {},
     "output_type": "display_data"
    }
   ],
   "source": [
    "# figsize(6, 4)\n",
    "\n",
    "plt.plot(time_conv, wave[indstart:indend], 'b.', lw=2, ms=4)\n",
    "plt.plot(time_conv, wave[indstart:indend]*0., 'k--')\n",
    "plt.plot(np.r_[4.4000000e-03, 4.4000000e-03], np.r_[-4.5, 4.5], 'k:')\n",
    "plt.ylim(-4.5, 4.5)\n",
    "# plt.xlim(-2e-4, 5.5e-3)"
   ]
  },
  {
   "cell_type": "code",
   "execution_count": 16,
   "metadata": {
    "collapsed": false
   },
   "outputs": [
    {
     "data": {
      "text/plain": [
       "(0, 1.0)"
      ]
     },
     "execution_count": 16,
     "metadata": {},
     "output_type": "execute_result"
    },
    {
     "data": {
      "image/png": "[encoded data removed]",
      "text/plain": [
       "<matplotlib.figure.Figure at 0x10a2246d0>"
      ]
     },
     "metadata": {},
     "output_type": "display_data"
    }
   ],
   "source": [
    "figsize(6, 4)\n",
    "plt.plot(time_conv, current/current.max(), 'k-')\n",
    "# plt.plot(time_conv, wave[indstart:indend]*0., 'k--')\n",
    "plt.plot(np.r_[4.4000000e-03, 4.4000000e-03], np.r_[1e-6, 1e-2], 'k:')\n",
    "plt.plot(time, np.zeros_like(time), 'r.')\n",
    "plt.ylim(0, 1.)"
   ]
  },
  {
   "cell_type": "code",
   "execution_count": 17,
   "metadata": {
    "collapsed": false
   },
   "outputs": [],
   "source": [
    "from SimPEG import Mesh\n",
    "from simpegem1d.Waveform import SineFun, SineFunDeriv, CausalConv\n",
    "dt = 1e-5\n",
    "t0 = 4.4e-03\n",
    "ntime = time_conv.size\n",
    "meshtime = Mesh.TensorMesh([dt*np.ones(ntime)], x0=[-dt/2.])\n",
    "P = meshtime.getInterpolationMat(time+t0, 'CC')\n",
    "# time_conv = meshtime.gridN\n",
    "# currentderiv = SineFunDeriv(time_conv, t0)\n",
    "# current = SineFun(time_conv, t0)"
   ]
  },
  {
   "cell_type": "code",
   "execution_count": 18,
   "metadata": {
    "collapsed": false
   },
   "outputs": [],
   "source": [
    "temp = np.exp(-time_conv/1e-2)/1e-2\n",
    "out = CausalConv(temp, currentderiv, time_conv)\n",
    "# plt.plot(time_conv, currentderiv)"
   ]
  },
  {
   "cell_type": "code",
   "execution_count": 19,
   "metadata": {
    "collapsed": false
   },
   "outputs": [
    {
     "data": {
      "text/plain": [
       "[<matplotlib.lines.Line2D at 0x10a224e50>]"
      ]
     },
     "execution_count": 19,
     "metadata": {},
     "output_type": "execute_result"
    },
    {
     "data": {
      "image/png": "[encoded data removed]",
      "text/plain": [
       "<matplotlib.figure.Figure at 0x10a22e090>"
      ]
     },
     "metadata": {},
     "output_type": "display_data"
    }
   ],
   "source": [
    "plt.plot(time_conv, out)"
   ]
  },
  {
   "cell_type": "code",
   "execution_count": 20,
   "metadata": {
    "collapsed": false
   },
   "outputs": [
    {
     "data": {
      "text/plain": [
       "(0.0, 0.015600000000000003)"
      ]
     },
     "execution_count": 20,
     "metadata": {},
     "output_type": "execute_result"
    }
   ],
   "source": [
    "time_conv.min(), time_conv.max()"
   ]
  },
  {
   "cell_type": "code",
   "execution_count": 21,
   "metadata": {
    "collapsed": false
   },
   "outputs": [
    {
     "data": {
      "text/plain": [
       "(23, 1561)"
      ]
     },
     "execution_count": 21,
     "metadata": {},
     "output_type": "execute_result"
    }
   ],
   "source": [
    "P.shape"
   ]
  },
  {
   "cell_type": "code",
   "execution_count": 22,
   "metadata": {
    "collapsed": false
   },
   "outputs": [],
   "source": [
    "# N = time.size\n",
    "# A = np.zeros((N, M))\n",
    "# for j in range(M):\n",
    "#     A[:,j] = P*(CausalConv(1./tau[j]*np.exp(-time_conv/tau[j]), -currentderiv, time_conv))"
   ]
  },
  {
   "cell_type": "code",
   "execution_count": 23,
   "metadata": {
    "collapsed": false
   },
   "outputs": [],
   "source": [
    "meshline = Mesh.TensorMesh([xyz_line.shape[0]])\n",
    "prob = LinearProblem(meshline)\n",
    "survey = LinearSurvey(time, xyz_line)\n",
    "prob.pair(survey)\n",
    "prob.getG(currentderiv, time_conv, t0=4.4e-3)\n",
    "uncert = survey.setUncertainty(obs_line.flatten(), perc=0.03, floor=1e-4)"
   ]
  },
  {
   "cell_type": "code",
   "execution_count": 24,
   "metadata": {
    "collapsed": false
   },
   "outputs": [],
   "source": [
    "mtrue = np.zeros(prob.ntau)\n",
    "np.random.seed(1)\n",
    "inds = np.random.random_integers(0, 41, size=5)\n",
    "mtrue[inds] = np.r_[0.1, 2, 1, 4, 5]\n",
    "m0 = (np.repeat(mtrue.reshape([1,-1]), survey.ntx, axis=0)).flatten()"
   ]
  },
  {
   "cell_type": "code",
   "execution_count": 25,
   "metadata": {
    "collapsed": true
   },
   "outputs": [],
   "source": [
    "from SimPEG import Maps"
   ]
  },
  {
   "cell_type": "code",
   "execution_count": 26,
   "metadata": {
    "collapsed": false
   },
   "outputs": [],
   "source": [
    "weightone = np.sqrt(np.diag(np.dot(prob.G.T, prob.G)))\n",
    "\n",
    "weight = (np.repeat(weightone.reshape([1,-1]), survey.ntx, axis=0)).flatten()\n",
    "meshreg = Mesh.TensorMesh([weight.size])\n",
    "wmap = Maps.Weighting(meshreg, weights=weight)\n"
   ]
  },
  {
   "cell_type": "code",
   "execution_count": 27,
   "metadata": {
    "collapsed": false
   },
   "outputs": [
    {
     "data": {
      "text/plain": [
       "[<matplotlib.lines.Line2D at 0x10a51ca50>]"
      ]
     },
     "execution_count": 27,
     "metadata": {},
     "output_type": "execute_result"
    },
    {
     "data": {
      "image/png": "[encoded data removed]",
      "text/plain": [
       "<matplotlib.figure.Figure at 0x10a48db90>"
      ]
     },
     "metadata": {},
     "output_type": "display_data"
    }
   ],
   "source": [
    "plt.semilogx(prob.tau, weightone)"
   ]
  },
  {
   "cell_type": "code",
   "execution_count": 28,
   "metadata": {
    "collapsed": false
   },
   "outputs": [
    {
     "name": "stdout",
     "output_type": "stream",
     "text": [
      "(2691,)\n",
      "(2691,)\n"
     ]
    }
   ],
   "source": [
    "print uncert.shape\n",
    "print survey.dobs.shape"
   ]
  },
  {
   "cell_type": "code",
   "execution_count": 44,
   "metadata": {
    "collapsed": false
   },
   "outputs": [],
   "source": [
    "from SimPEG.Regularization import BaseRegularization as BaseRegularization\n",
    "class SmoothAEMRegularization(BaseRegularization):    \n",
    "    xyz_line = None\n",
    "    ntau = 81\n",
    "    alpha_s = 1e0\n",
    "    alpha_x = 1e0\n",
    "    def __init__(self, mesh, mapping=None, **kwargs):\n",
    "        BaseRegularization.__init__(self, mesh, mapping=mapping, **kwargs)\n",
    "        \n",
    "    @property\n",
    "    def W(self):\n",
    "        \"\"\"Regularization matrix W\"\"\"\n",
    "        if getattr(self, '_W', None) is None:\n",
    "            ntx = self.xyz_line.shape[0]\n",
    "            meshline = Mesh.TensorMesh([ntx])\n",
    "            Gx = meshline.cellGradx\n",
    "            Wx = np.sqrt(self.alpha_x)*sp.kron(Gx, Utils.speye(self.ntau))\n",
    "            Ws = np.sqrt(self.alpha_s)*Utils.speye(self.ntau*ntx)\n",
    "            wlist = (Wx, Ws)\n",
    "            self._W = sp.vstack(wlist)            \n",
    "        return self._W\n"
   ]
  },
  {
   "cell_type": "code",
   "execution_count": 45,
   "metadata": {
    "collapsed": false
   },
   "outputs": [],
   "source": [
    "meshline = Mesh.TensorMesh([survey.ntx])"
   ]
  },
  {
   "cell_type": "code",
   "execution_count": 46,
   "metadata": {
    "collapsed": false
   },
   "outputs": [
    {
     "data": {
      "text/plain": [
       "9558"
      ]
     },
     "execution_count": 46,
     "metadata": {},
     "output_type": "execute_result"
    }
   ],
   "source": [
    "meshline.nF*prob.ntau"
   ]
  },
  {
   "cell_type": "code",
   "execution_count": 47,
   "metadata": {
    "collapsed": false
   },
   "outputs": [],
   "source": [
    "# test = reg.W*Utils.mkvc(mrec)\n",
    "# test = test.reshape((prob.ntau, meshline.nF), order='F')\n",
    "# itau = 11\n",
    "# plt.plot(meshline.vectorCCx, mrec[itau,:])\n",
    "# plt.plot(meshline.vectorNx, test[itau,:])"
   ]
  },
  {
   "cell_type": "code",
   "execution_count": 48,
   "metadata": {
    "collapsed": false
   },
   "outputs": [
    {
     "name": "stdout",
     "output_type": "stream",
     "text": [
      "SimPEG.InvProblem is setting bfgsH0 to the inverse of the eval2Deriv.\n",
      "                    ***Done using same solver as the problem***\n",
      "=============================== Projected GNCG ===============================\n",
      "  #     beta     phi_d     phi_m       f      |proj(x-g)-x|  LS    Comment   \n",
      "-----------------------------------------------------------------------------\n",
      "   0  2.19e-09  7.16e+05  2.58e-16  7.16e+05    1.26e+07      0              \n",
      "   1  2.19e-09  3.77e+05  5.21e-01  3.77e+05    8.35e+05      0              \n",
      "   2  2.19e-09  1.12e+05  2.47e+01  1.12e+05    5.20e+05      0              \n",
      "   3  2.19e-09  1.03e+05  2.93e+01  1.03e+05    5.14e+05      1   Skip BFGS  \n",
      "   4  2.19e-09  9.89e+04  3.94e+01  9.89e+04    4.27e+05      0   Skip BFGS  \n",
      "   5  2.19e-09  7.14e+04  4.29e+01  7.14e+04    7.25e+05      0              \n",
      "   6  2.19e-09  5.45e+04  8.08e+01  5.45e+04    4.87e+05      0              \n",
      "   7  2.19e-09  4.85e+04  6.61e+01  4.85e+04    5.82e+05      0              \n",
      "   8  2.19e-09  4.46e+04  8.98e+01  4.46e+04    5.32e+05      0              \n",
      "   9  2.19e-09  4.15e+04  1.13e+02  4.15e+04    4.76e+05      0   Skip BFGS  \n",
      "  10  2.19e-09  3.91e+04  8.15e+01  3.91e+04    7.00e+05      0              \n",
      "  11  2.19e-09  3.60e+04  8.59e+01  3.60e+04    5.67e+05      0              \n",
      "  12  2.19e-09  3.00e+04  7.86e+01  3.00e+04    1.15e+06      0              \n",
      "  13  2.19e-09  2.89e+04  7.93e+01  2.89e+04    9.33e+05      0              \n",
      "  14  2.19e-09  2.57e+04  1.31e+02  2.57e+04    1.39e+06      0              \n",
      "  15  2.19e-09  2.38e+04  1.83e+02  2.38e+04    1.14e+06      0              \n",
      "  16  2.19e-09  2.23e+04  2.42e+02  2.23e+04    9.47e+05      0              \n",
      "  17  2.19e-09  2.19e+04  2.27e+02  2.19e+04    8.49e+05      0   Skip BFGS  \n",
      "  18  2.19e-09  2.17e+04  2.45e+02  2.17e+04    9.43e+05      0              \n",
      "  19  2.19e-09  2.09e+04  2.99e+02  2.09e+04    9.55e+05      0   Skip BFGS  \n",
      "  20  2.19e-09  2.03e+04  2.59e+02  2.03e+04    8.60e+05      0              \n",
      "  21  2.19e-09  1.97e+04  2.96e+02  1.97e+04    8.61e+05      0              \n",
      "  22  2.19e-09  1.82e+04  3.10e+02  1.82e+04    8.85e+05      0              \n",
      "  23  2.19e-09  1.66e+04  4.24e+02  1.66e+04    9.93e+05      0              \n",
      "  24  2.19e-09  1.61e+04  4.83e+02  1.61e+04    9.33e+05      0              \n",
      "  25  2.19e-09  1.56e+04  5.86e+02  1.56e+04    9.98e+05      0   Skip BFGS  \n",
      "  26  2.19e-09  1.54e+04  5.71e+02  1.54e+04    1.00e+06      0              \n",
      "  27  2.19e-09  1.48e+04  7.19e+02  1.48e+04    1.08e+06      0              \n",
      "  28  2.19e-09  1.43e+04  7.06e+02  1.43e+04    9.90e+05      0              \n",
      "  29  2.19e-09  1.36e+04  6.54e+02  1.36e+04    1.04e+06      0   Skip BFGS  \n",
      "  30  2.19e-09  1.35e+04  6.94e+02  1.35e+04    1.01e+06      0              \n",
      "  31  2.19e-09  1.33e+04  7.94e+02  1.33e+04    1.04e+06      0   Skip BFGS  \n",
      "  32  2.19e-09  1.31e+04  7.29e+02  1.31e+04    9.82e+05      0              \n",
      "  33  2.19e-09  1.29e+04  7.03e+02  1.29e+04    9.79e+05      0   Skip BFGS  \n",
      "  34  2.19e-09  1.28e+04  7.52e+02  1.28e+04    9.72e+05      0              \n",
      "  35  2.19e-09  1.26e+04  7.16e+02  1.26e+04    9.26e+05      0              \n",
      "  36  2.19e-09  1.25e+04  7.18e+02  1.25e+04    9.58e+05      0              \n",
      "  37  2.19e-09  1.25e+04  7.09e+02  1.25e+04    9.60e+05      0              \n",
      "  38  2.19e-09  1.22e+04  8.00e+02  1.22e+04    8.61e+05      0   Skip BFGS  \n",
      "  39  2.19e-09  1.21e+04  8.10e+02  1.21e+04    8.82e+05      0              \n",
      "  40  2.19e-09  1.21e+04  8.21e+02  1.21e+04    8.98e+05      0   Skip BFGS  \n",
      "  41  2.19e-09  1.21e+04  8.14e+02  1.21e+04    8.78e+05      0              \n",
      "  42  2.19e-09  1.20e+04  8.09e+02  1.20e+04    8.95e+05      0   Skip BFGS  \n",
      "  43  2.19e-09  1.20e+04  8.15e+02  1.20e+04    9.10e+05      0              \n",
      "  44  2.19e-09  1.20e+04  8.38e+02  1.20e+04    8.88e+05      0   Skip BFGS  \n",
      "  45  2.19e-09  1.19e+04  8.35e+02  1.19e+04    8.84e+05      0              \n",
      "  46  2.19e-09  1.19e+04  8.29e+02  1.19e+04    8.65e+05      0   Skip BFGS  \n",
      "  47  2.19e-09  1.18e+04  8.24e+02  1.18e+04    8.56e+05      0              \n",
      "  48  2.19e-09  1.18e+04  8.47e+02  1.18e+04    9.25e+05      0   Skip BFGS  \n",
      "  49  2.19e-09  1.17e+04  8.24e+02  1.17e+04    8.68e+05      0              \n",
      "  50  2.19e-09  1.17e+04  8.24e+02  1.17e+04    8.77e+05      0              \n",
      "  51  2.19e-09  1.17e+04  8.08e+02  1.17e+04    8.39e+05      0              \n",
      "  52  2.19e-09  1.16e+04  8.02e+02  1.16e+04    8.48e+05      0              \n",
      "  53  2.19e-09  1.14e+04  8.45e+02  1.14e+04    8.31e+05      0              \n",
      "  54  2.19e-09  1.12e+04  9.24e+02  1.12e+04    8.10e+05      0   Skip BFGS  \n",
      "  55  2.19e-09  1.12e+04  9.50e+02  1.12e+04    8.27e+05      0              \n",
      "  56  2.19e-09  1.11e+04  9.37e+02  1.11e+04    8.02e+05      0              \n",
      "  57  2.19e-09  1.09e+04  9.90e+02  1.09e+04    8.56e+05      0              \n",
      "  58  2.19e-09  1.07e+04  1.03e+03  1.07e+04    8.51e+05      0   Skip BFGS  \n",
      "  59  2.19e-09  1.07e+04  1.01e+03  1.07e+04    8.54e+05      0              \n",
      "  60  2.19e-09  1.06e+04  9.74e+02  1.06e+04    7.96e+05      0   Skip BFGS  \n",
      "  61  2.19e-09  1.05e+04  1.00e+03  1.05e+04    8.38e+05      0              \n",
      "  62  2.19e-09  1.04e+04  1.00e+03  1.04e+04    8.52e+05      0   Skip BFGS  \n",
      "  63  2.19e-09  1.03e+04  9.94e+02  1.03e+04    8.26e+05      0              \n",
      "  64  2.19e-09  1.02e+04  1.00e+03  1.02e+04    8.67e+05      0              \n",
      "  65  2.19e-09  9.70e+03  1.03e+03  9.70e+03    8.34e+05      0   Skip BFGS  \n",
      "  66  2.19e-09  9.58e+03  1.02e+03  9.58e+03    8.08e+05      0              \n",
      "  67  2.19e-09  9.48e+03  1.05e+03  9.48e+03    7.74e+05      0   Skip BFGS  \n",
      "  68  2.19e-09  9.37e+03  1.03e+03  9.37e+03    7.90e+05      0              \n",
      "  69  2.19e-09  9.17e+03  1.07e+03  9.17e+03    7.89e+05      0   Skip BFGS  \n",
      "  70  2.19e-09  9.07e+03  1.02e+03  9.07e+03    7.71e+05      0              \n",
      "  71  2.19e-09  8.97e+03  1.03e+03  8.97e+03    7.29e+05      0              \n",
      "  72  2.19e-09  8.87e+03  1.06e+03  8.87e+03    7.41e+05      0   Skip BFGS  \n",
      "  73  2.19e-09  8.81e+03  1.05e+03  8.81e+03    7.00e+05      0              \n",
      "  74  2.19e-09  8.63e+03  9.80e+02  8.63e+03    7.37e+05      0              \n",
      "  75  2.19e-09  8.54e+03  1.01e+03  8.54e+03    7.82e+05      0   Skip BFGS  \n",
      "  76  2.19e-09  8.48e+03  9.74e+02  8.48e+03    7.25e+05      0              \n",
      "  77  2.19e-09  8.31e+03  1.01e+03  8.31e+03    6.89e+05      0   Skip BFGS  \n",
      "  78  2.19e-09  8.17e+03  9.66e+02  8.17e+03    7.11e+05      0              \n",
      "  79  2.19e-09  7.55e+03  9.90e+02  7.55e+03    6.70e+05      0              \n",
      "  80  2.19e-09  7.39e+03  1.05e+03  7.39e+03    6.50e+05      0   Skip BFGS  \n",
      "  81  2.19e-09  7.29e+03  1.01e+03  7.29e+03    6.95e+05      0              \n",
      "  82  2.19e-09  7.03e+03  1.02e+03  7.03e+03    7.56e+05      0   Skip BFGS  \n",
      "  83  2.19e-09  6.91e+03  1.05e+03  6.91e+03    6.74e+05      0              \n",
      "  84  2.19e-09  6.85e+03  1.05e+03  6.85e+03    6.43e+05      0   Skip BFGS  \n",
      "  85  2.19e-09  6.80e+03  1.07e+03  6.80e+03    6.80e+05      0              \n",
      "  86  2.19e-09  6.73e+03  1.09e+03  6.73e+03    6.55e+05      0              \n",
      "  87  2.19e-09  6.65e+03  1.08e+03  6.65e+03    7.00e+05      0   Skip BFGS  \n",
      "  88  2.19e-09  6.62e+03  1.09e+03  6.62e+03    6.82e+05      0              \n",
      "  89  2.19e-09  6.47e+03  1.14e+03  6.47e+03    6.33e+05      0   Skip BFGS  \n",
      "  90  2.19e-09  6.37e+03  1.13e+03  6.37e+03    6.80e+05      0              \n",
      "  91  2.19e-09  6.21e+03  1.14e+03  6.21e+03    6.50e+05      0              \n",
      "  92  2.19e-09  6.08e+03  1.22e+03  6.08e+03    6.97e+05      0   Skip BFGS  \n",
      "  93  2.19e-09  6.02e+03  1.21e+03  6.02e+03    6.55e+05      0              \n",
      "  94  2.19e-09  6.00e+03  1.21e+03  6.00e+03    6.65e+05      0              \n",
      "  95  2.19e-09  5.99e+03  1.21e+03  5.99e+03    6.74e+05      0              \n",
      "  96  2.19e-09  5.93e+03  1.24e+03  5.93e+03    6.33e+05      0   Skip BFGS  \n",
      "  97  2.19e-09  5.89e+03  1.24e+03  5.89e+03    6.71e+05      0              \n",
      "  98  2.19e-09  5.79e+03  1.30e+03  5.79e+03    6.49e+05      0              \n",
      "  99  2.19e-09  5.76e+03  1.34e+03  5.76e+03    6.53e+05      0              \n",
      " 100  2.19e-09  5.74e+03  1.35e+03  5.74e+03    6.53e+05      0              \n",
      " 101  2.19e-09  5.73e+03  1.34e+03  5.73e+03    6.72e+05      0   Skip BFGS  \n",
      " 102  2.19e-09  5.72e+03  1.34e+03  5.72e+03    6.60e+05      0              \n",
      " 103  2.19e-09  5.71e+03  1.35e+03  5.71e+03    6.59e+05      0              \n",
      " 104  2.19e-09  5.70e+03  1.35e+03  5.70e+03    6.42e+05      0              \n",
      " 105  2.19e-09  5.67e+03  1.36e+03  5.67e+03    6.69e+05      0   Skip BFGS  \n",
      " 106  2.19e-09  5.64e+03  1.36e+03  5.64e+03    6.70e+05      0              \n",
      " 107  2.19e-09  5.64e+03  1.36e+03  5.64e+03    6.59e+05      0              \n",
      " 108  2.19e-09  5.63e+03  1.36e+03  5.63e+03    6.69e+05      0              \n",
      " 109  2.19e-09  5.60e+03  1.37e+03  5.60e+03    6.62e+05      0              \n",
      " 110  2.19e-09  5.59e+03  1.39e+03  5.59e+03    6.61e+05      0              \n",
      " 111  2.19e-09  5.59e+03  1.39e+03  5.59e+03    6.65e+05      0              \n",
      " 112  2.19e-09  5.58e+03  1.40e+03  5.58e+03    6.70e+05      0   Skip BFGS  \n",
      " 113  2.19e-09  5.58e+03  1.40e+03  5.58e+03    6.70e+05      0              \n",
      " 114  2.19e-09  5.56e+03  1.40e+03  5.56e+03    6.96e+05      0   Skip BFGS  \n",
      " 115  2.19e-09  5.54e+03  1.40e+03  5.54e+03    6.78e+05      0              \n",
      " 116  2.19e-09  5.52e+03  1.38e+03  5.52e+03    6.72e+05      0   Skip BFGS  \n",
      " 117  2.19e-09  5.51e+03  1.39e+03  5.51e+03    6.57e+05      0              \n",
      " 118  2.19e-09  5.48e+03  1.39e+03  5.48e+03    6.35e+05      0   Skip BFGS  \n",
      " 119  2.19e-09  5.46e+03  1.39e+03  5.46e+03    6.49e+05      0              \n",
      " 120  2.19e-09  5.46e+03  1.38e+03  5.46e+03    6.55e+05      0              \n",
      " 121  2.19e-09  5.44e+03  1.38e+03  5.44e+03    6.47e+05      0   Skip BFGS  \n",
      " 122  2.19e-09  5.42e+03  1.39e+03  5.42e+03    6.49e+05      0              \n",
      " 123  2.19e-09  5.40e+03  1.38e+03  5.40e+03    6.48e+05      0              \n",
      " 124  2.19e-09  5.32e+03  1.37e+03  5.32e+03    6.78e+05      0   Skip BFGS  \n",
      " 125  2.19e-09  5.28e+03  1.36e+03  5.28e+03    6.31e+05      0              \n",
      " 126  2.19e-09  5.27e+03  1.37e+03  5.27e+03    6.34e+05      0              \n",
      " 127  2.19e-09  5.25e+03  1.36e+03  5.25e+03    6.38e+05      0   Skip BFGS  \n",
      " 128  2.19e-09  5.24e+03  1.37e+03  5.24e+03    6.27e+05      0              \n",
      " 129  2.19e-09  5.18e+03  1.33e+03  5.18e+03    6.27e+05      0              \n",
      " 130  2.19e-09  5.10e+03  1.33e+03  5.10e+03    6.21e+05      0              \n",
      " 131  2.19e-09  5.08e+03  1.34e+03  5.08e+03    6.25e+05      0              \n",
      " 132  2.19e-09  5.07e+03  1.33e+03  5.07e+03    6.45e+05      0              \n",
      " 133  2.19e-09  5.07e+03  1.34e+03  5.07e+03    6.47e+05      0              \n",
      " 134  2.19e-09  5.05e+03  1.34e+03  5.05e+03    6.38e+05      0   Skip BFGS  \n",
      " 135  2.19e-09  5.04e+03  1.34e+03  5.04e+03    6.43e+05      0              \n",
      " 136  2.19e-09  5.02e+03  1.34e+03  5.02e+03    6.53e+05      0              \n",
      " 137  2.19e-09  5.02e+03  1.34e+03  5.02e+03    6.47e+05      0              \n",
      " 138  2.19e-09  5.01e+03  1.34e+03  5.01e+03    6.50e+05      0   Skip BFGS  \n",
      " 139  2.19e-09  5.01e+03  1.34e+03  5.01e+03    6.42e+05      0              \n",
      " 140  2.19e-09  5.01e+03  1.34e+03  5.01e+03    6.38e+05      0   Skip BFGS  \n",
      " 141  2.19e-09  5.01e+03  1.34e+03  5.01e+03    6.41e+05      0              \n",
      " 142  2.19e-09  5.01e+03  1.34e+03  5.01e+03    6.45e+05      0   Skip BFGS  \n",
      " 143  2.19e-09  5.01e+03  1.34e+03  5.01e+03    6.43e+05      0              \n",
      " 144  2.19e-09  5.01e+03  1.34e+03  5.01e+03    6.45e+05      0              \n",
      " 145  2.19e-09  5.00e+03  1.35e+03  5.00e+03    6.58e+05      0   Skip BFGS  \n",
      " 146  2.19e-09  5.00e+03  1.35e+03  5.00e+03    6.47e+05      0              \n",
      " 147  2.19e-09  5.00e+03  1.34e+03  5.00e+03    6.49e+05      0              \n",
      " 148  2.19e-09  4.98e+03  1.35e+03  4.98e+03    6.40e+05      0   Skip BFGS  \n",
      " 149  2.19e-09  4.97e+03  1.34e+03  4.97e+03    6.40e+05      0              \n",
      " 150  2.19e-09  4.95e+03  1.34e+03  4.95e+03    6.44e+05      0   Skip BFGS  \n",
      " 151  2.19e-09  4.94e+03  1.34e+03  4.94e+03    6.41e+05      0              \n",
      " 152  2.19e-09  4.92e+03  1.36e+03  4.92e+03    6.42e+05      0              \n",
      " 153  2.19e-09  4.83e+03  1.39e+03  4.83e+03    6.39e+05      0              \n",
      " 154  2.19e-09  4.75e+03  1.44e+03  4.75e+03    6.59e+05      0   Skip BFGS  \n",
      " 155  2.19e-09  4.72e+03  1.43e+03  4.72e+03    6.37e+05      0              \n",
      " 156  2.19e-09  4.68e+03  1.44e+03  4.68e+03    6.54e+05      0   Skip BFGS  \n",
      " 157  2.19e-09  4.66e+03  1.44e+03  4.66e+03    6.28e+05      0              \n",
      " 158  2.19e-09  4.62e+03  1.44e+03  4.62e+03    6.53e+05      0              \n",
      " 159  2.19e-09  4.53e+03  1.50e+03  4.53e+03    6.32e+05      0              \n",
      " 160  2.19e-09  4.49e+03  1.54e+03  4.49e+03    6.37e+05      0   Skip BFGS  \n",
      " 161  2.19e-09  4.48e+03  1.55e+03  4.48e+03    6.35e+05      0              \n",
      " 162  2.19e-09  4.46e+03  1.57e+03  4.46e+03    6.50e+05      0              \n",
      " 163  2.19e-09  4.44e+03  1.58e+03  4.44e+03    6.22e+05      0              \n",
      " 164  2.19e-09  4.43e+03  1.55e+03  4.43e+03    6.24e+05      0   Skip BFGS  \n",
      " 165  2.19e-09  4.43e+03  1.56e+03  4.43e+03    6.19e+05      0              \n",
      " 166  2.19e-09  4.42e+03  1.56e+03  4.42e+03    6.27e+05      0              \n",
      " 167  2.19e-09  4.41e+03  1.57e+03  4.41e+03    6.09e+05      0              \n",
      " 168  2.19e-09  4.38e+03  1.60e+03  4.38e+03    5.95e+05      0   Skip BFGS  \n",
      " 169  2.19e-09  4.37e+03  1.58e+03  4.37e+03    6.05e+05      0              \n",
      " 170  2.19e-09  4.36e+03  1.56e+03  4.36e+03    6.01e+05      0   Skip BFGS  \n",
      " 171  2.19e-09  4.36e+03  1.56e+03  4.36e+03    6.05e+05      0              \n",
      " 172  2.19e-09  4.35e+03  1.58e+03  4.35e+03    6.03e+05      0              \n",
      " 173  2.19e-09  4.34e+03  1.58e+03  4.34e+03    6.08e+05      0              \n",
      " 174  2.19e-09  4.33e+03  1.58e+03  4.33e+03    5.99e+05      0              \n",
      " 175  2.19e-09  4.33e+03  1.57e+03  4.33e+03    5.99e+05      0              \n",
      " 176  2.19e-09  4.32e+03  1.57e+03  4.32e+03    5.99e+05      0   Skip BFGS  \n",
      " 177  2.19e-09  4.31e+03  1.56e+03  4.31e+03    5.98e+05      0              \n",
      " 178  2.19e-09  4.28e+03  1.58e+03  4.28e+03    5.94e+05      0   Skip BFGS  \n",
      " 179  2.19e-09  4.28e+03  1.58e+03  4.28e+03    5.98e+05      0              \n",
      " 180  2.19e-09  4.27e+03  1.59e+03  4.27e+03    5.99e+05      0   Skip BFGS  \n",
      " 181  2.19e-09  4.27e+03  1.59e+03  4.27e+03    6.04e+05      0              \n",
      " 182  2.19e-09  4.27e+03  1.60e+03  4.27e+03    5.99e+05      0              \n",
      " 183  2.19e-09  4.26e+03  1.60e+03  4.26e+03    5.93e+05      0   Skip BFGS  \n",
      " 184  2.19e-09  4.26e+03  1.60e+03  4.26e+03    5.97e+05      0              \n",
      " 185  2.19e-09  4.25e+03  1.60e+03  4.25e+03    5.90e+05      0   Skip BFGS  \n",
      " 186  2.19e-09  4.25e+03  1.60e+03  4.25e+03    5.91e+05      0              \n",
      " 187  2.19e-09  4.25e+03  1.60e+03  4.25e+03    5.88e+05      0   Skip BFGS  \n",
      " 188  2.19e-09  4.25e+03  1.61e+03  4.25e+03    5.89e+05      0              \n",
      " 189  2.19e-09  4.24e+03  1.60e+03  4.24e+03    5.99e+05      0              \n",
      " 190  2.19e-09  4.23e+03  1.62e+03  4.23e+03    5.92e+05      0              \n",
      " 191  2.19e-09  4.23e+03  1.64e+03  4.23e+03    5.84e+05      0   Skip BFGS  \n",
      " 192  2.19e-09  4.22e+03  1.63e+03  4.22e+03    5.90e+05      0              \n",
      " 193  2.19e-09  4.22e+03  1.64e+03  4.22e+03    5.87e+05      0   Skip BFGS  \n",
      " 194  2.19e-09  4.21e+03  1.64e+03  4.21e+03    5.94e+05      0              \n",
      " 195  2.19e-09  4.20e+03  1.64e+03  4.20e+03    5.92e+05      0   Skip BFGS  \n",
      " 196  2.19e-09  4.19e+03  1.65e+03  4.19e+03    5.84e+05      0              \n",
      " 197  2.19e-09  4.18e+03  1.68e+03  4.18e+03    5.79e+05      0   Skip BFGS  \n",
      " 198  2.19e-09  4.18e+03  1.67e+03  4.18e+03    5.83e+05      0              \n",
      " 199  2.19e-09  4.17e+03  1.66e+03  4.17e+03    5.76e+05      0              \n",
      " 200  2.19e-09  4.14e+03  1.71e+03  4.14e+03    5.78e+05      0   Skip BFGS  \n",
      "------------------------- STOP! -------------------------\n",
      "1 : |fc-fOld| = 2.6294e+01 <= tolF*(1+|f0|) = 7.1580e+04\n",
      "0 : |xc-x_last| = 1.4092e+03 <= tolX*(1+|x0|) = 1.0000e-01\n",
      "0 : |proj(x-g)-x|    = 5.7772e+05 <= tolG          = 1.0000e-10\n",
      "0 : |proj(x-g)-x|    = 5.7772e+05 <= 1e3*eps       = 1.0000e-02\n",
      "1 : maxIter   =     200    <= iter          =    200\n",
      "------------------------- DONE! -------------------------\n"
     ]
    }
   ],
   "source": [
    "# reg = Regularization.BaseRegularization(meshreg, mapping=wmap)\n",
    "# reg = Regularization.BaseRegularization(meshreg)\n",
    "reg = SmoothAEMRegularization(meshreg, mapping=wmap)\n",
    "reg.xyz_line = xyz_line\n",
    "dmis = DataMisfit.l2_DataMisfit(survey)\n",
    "dmis.Wd = 1./(uncert)\n",
    "opt = Optimization.ProjectedGNCG(maxIter=200)\n",
    "# opt = Optimization.InexactGaussNewton(maxIter=20)\n",
    "opt.lower = 1e-20\n",
    "# opt.upper = 1e-10\n",
    "invProb = InvProblem.BaseInvProblem(dmis, reg, opt)\n",
    "betaest = Directives.BetaEstimate_ByEig(beta0_ratio=1e-12)\n",
    "beta = Directives.BetaSchedule()\n",
    "beta.coolingFactor = 1\n",
    "target = Directives.TargetMisfit()\n",
    "inv = Inversion.BaseInversion(invProb, directiveList=[beta, target, betaest])\n",
    "opt.tolG = 1e-10\n",
    "opt.tolG = 1e-10\n",
    "m0 = np.ones_like(weight)*1e-10\n",
    "reg.mref = np.zeros_like(m0)\n",
    "mrec = inv.run(m0)"
   ]
  },
  {
   "cell_type": "code",
   "execution_count": 49,
   "metadata": {
    "collapsed": false
   },
   "outputs": [],
   "source": [
    "mrec = mrec.reshape((prob.ntau, survey.ntx), order='F')"
   ]
  },
  {
   "cell_type": "code",
   "execution_count": null,
   "metadata": {
    "collapsed": false
   },
   "outputs": [],
   "source": []
  },
  {
   "cell_type": "code",
   "execution_count": 50,
   "metadata": {
    "collapsed": false
   },
   "outputs": [
    {
     "data": {
      "text/plain": [
       "1345.5"
      ]
     },
     "execution_count": 50,
     "metadata": {},
     "output_type": "execute_result"
    }
   ],
   "source": [
    "target.target"
   ]
  },
  {
   "cell_type": "code",
   "execution_count": 51,
   "metadata": {
    "collapsed": false
   },
   "outputs": [
    {
     "data": {
      "text/plain": [
       "3276"
      ]
     },
     "execution_count": 51,
     "metadata": {},
     "output_type": "execute_result"
    }
   ],
   "source": [
    "14*234"
   ]
  },
  {
   "cell_type": "code",
   "execution_count": 52,
   "metadata": {
    "collapsed": true
   },
   "outputs": [],
   "source": [
    "pred = prob.fields(mrec)"
   ]
  },
  {
   "cell_type": "code",
   "execution_count": 53,
   "metadata": {
    "collapsed": false
   },
   "outputs": [],
   "source": [
    "pred = pred.reshape((survey.ntime, survey.ntx), order='F')\n",
    "obs = survey.dobs.reshape((survey.ntime, survey.ntx), order='F')\n",
    "UNCERT = survey.uncert.reshape((survey.ntime, survey.ntx), order='F')"
   ]
  },
  {
   "cell_type": "code",
   "execution_count": 67,
   "metadata": {
    "collapsed": false
   },
   "outputs": [],
   "source": [
    "\n",
    "predmap, ticks, ticklabels = mapDat(pred, 1e-3, stretch=3)\n",
    "obsmap, ticks, ticklabels = mapDat(obs, 1e-3, stretch=3)"
   ]
  },
  {
   "cell_type": "code",
   "execution_count": 79,
   "metadata": {
    "collapsed": false
   },
   "outputs": [
    {
     "data": {
      "text/plain": [
       "[<matplotlib.text.Text at 0x1090f4a90>,\n",
       " <matplotlib.text.Text at 0x1090ec890>,\n",
       " <matplotlib.text.Text at 0x109285ad0>,\n",
       " <matplotlib.text.Text at 0x109291250>,\n",
       " <matplotlib.text.Text at 0x109291990>,\n",
       " <matplotlib.text.Text at 0x10929b110>,\n",
       " <matplotlib.text.Text at 0x10929b850>,\n",
       " <matplotlib.text.Text at 0x10929bf90>]"
      ]
     },
     "execution_count": 79,
     "metadata": {},
     "output_type": "execute_result"
    },
    {
     "data": {
      "image/png": "[encoded data removed]",
      "text/plain": [
       "<matplotlib.figure.Figure at 0x108f57b90>"
      ]
     },
     "metadata": {},
     "output_type": "display_data"
    }
   ],
   "source": [
    "itx = 100\n",
    "fig = plt.figure(figsize=(10,3))\n",
    "ax = plt.subplot(111)\n",
    "for i in range(10):\n",
    "    ax.plot(xyz_line[:,0], obsmap[i,:], 'k')\n",
    "    ax.plot(xyz_line[:,0], predmap[i,:], 'b.')\n",
    "ax.set_xlim(xyz_line[:,0].min(), xyz_line[:,0].max())\n",
    "ax.set_ylim(ticks.min(), ticks.max())\n",
    "ax.set_yticks(ticks)\n",
    "# ax.set_ylim(0., ticks.max())\n",
    "\n",
    "plt.plot(xyz_line[itx,0]*np.ones(2), np.r_[ticks.min(), ticks.max()],'k-', lw=2)\n",
    "ax.set_xlabel(\"Easting (m)\")\n",
    "ax.set_yticklabels(ticklabels)"
   ]
  },
  {
   "cell_type": "code",
   "execution_count": 80,
   "metadata": {
    "collapsed": false
   },
   "outputs": [
    {
     "data": {
      "text/plain": [
       "(432987.40000000002, 435648.90000000002)"
      ]
     },
     "execution_count": 80,
     "metadata": {},
     "output_type": "execute_result"
    },
    {
     "data": {
      "image/png": "[encoded data removed]",
      "text/plain": [
       "<matplotlib.figure.Figure at 0x10b3da2d0>"
      ]
     },
     "metadata": {},
     "output_type": "display_data"
    }
   ],
   "source": [
    "figsize(10, 3)\n",
    "# for itau in range(9,11,1):\n",
    "itau = 12\n",
    "plt.plot(xyz_line[:,0], mrec[itau,:], 'k.')\n",
    "xlim(xyz_line[:,0].min(), xyz_line[:,0].max()) \n",
    "# ylim(1e-1, 1e5)"
   ]
  },
  {
   "cell_type": "code",
   "execution_count": 81,
   "metadata": {
    "collapsed": true
   },
   "outputs": [],
   "source": [
    "# for itime in range(time.size):\n",
    "#     plt.semilogy(xyz_line[:,0], obs[itime,:], 'k-')\n",
    "#     plt.semilogy(xyz_line[:,0], pred[itime,:], 'b-')\n",
    "# plt.plot(xyz_line[itx,0]*np.ones(2), np.r_[1e-8, 1e1],'k-', lw=2)\n",
    "# ylim(1e-6, 2e0)\n",
    "# xlim(xyz_line[:,0].min(), xyz_line[:,0].max())"
   ]
  },
  {
   "cell_type": "code",
   "execution_count": 82,
   "metadata": {
    "collapsed": false
   },
   "outputs": [
    {
     "data": {
      "text/plain": [
       "(1e-05, 10.0)"
      ]
     },
     "execution_count": 82,
     "metadata": {},
     "output_type": "execute_result"
    },
    {
     "data": {
      "image/png": "[encoded data removed]",
      "text/plain": [
       "<matplotlib.figure.Figure at 0x10922df10>"
      ]
     },
     "metadata": {},
     "output_type": "display_data"
    }
   ],
   "source": [
    "figsize(6,5)\n",
    "plt.loglog(time, pred[:,itx], 'b-')\n",
    "plt.loglog(time, obs[:,itx], 'k.-')\n",
    "plt.loglog(time, -obs[:,itx], 'k--')\n",
    "plt.loglog(time, -(obs[:,itx]-pred[:,itx]), 'r--')\n",
    "plt.loglog(time, UNCERT[:,itx], 'g-')\n",
    "ylim(1e-5, 1e1)"
   ]
  },
  {
   "cell_type": "code",
   "execution_count": 78,
   "metadata": {
    "collapsed": false
   },
   "outputs": [],
   "source": [
    "\n",
    "# for itx in range(survey.ntx):\n",
    "#     plt.semilogx(prob.tau, mrec[:,itx], '.')"
   ]
  },
  {
   "cell_type": "code",
   "execution_count": 63,
   "metadata": {
    "collapsed": false
   },
   "outputs": [
    {
     "data": {
      "text/plain": [
       "(array([ 3.,  3.,  3.,  2.,  3.,  3.,  2.,  3.,  2.,  3.,  3.,  2.,  3.,\n",
       "         3.,  2.,  3.,  3.,  2.,  3.,  3.,  2.,  3.,  3.,  2.,  3.,  3.,\n",
       "         3.,  2.,  3.,  3.]),\n",
       " array([-5. , -4.9, -4.8, -4.7, -4.6, -4.5, -4.4, -4.3, -4.2, -4.1, -4. ,\n",
       "        -3.9, -3.8, -3.7, -3.6, -3.5, -3.4, -3.3, -3.2, -3.1, -3. , -2.9,\n",
       "        -2.8, -2.7, -2.6, -2.5, -2.4, -2.3, -2.2, -2.1, -2. ]),\n",
       " <a list of 30 Patch objects>)"
      ]
     },
     "execution_count": 63,
     "metadata": {},
     "output_type": "execute_result"
    },
    {
     "data": {
      "image/png": "[encoded data removed]",
      "text/plain": [
       "<matplotlib.figure.Figure at 0x107a4c850>"
      ]
     },
     "metadata": {},
     "output_type": "display_data"
    }
   ],
   "source": [
    "hist(np.log10(tau), bins=30)"
   ]
  },
  {
   "cell_type": "code",
   "execution_count": null,
   "metadata": {
    "collapsed": true
   },
   "outputs": [],
   "source": []
  },
  {
   "cell_type": "code",
   "execution_count": null,
   "metadata": {
    "collapsed": false
   },
   "outputs": [],
   "source": []
  },
  {
   "cell_type": "code",
   "execution_count": 64,
   "metadata": {
    "collapsed": false
   },
   "outputs": [],
   "source": [
    "# mfund = mrec.copy()\n",
    "# mip = mrec.copy()\n",
    "# mfund[mfund<0.] = 0.\n",
    "# mip[mip>0.] = 0.\n",
    "# fund = np.dot(A, mfund)"
   ]
  },
  {
   "cell_type": "code",
   "execution_count": 65,
   "metadata": {
    "collapsed": false
   },
   "outputs": [
    {
     "ename": "ValueError",
     "evalue": "operands could not be broadcast together with shapes (23,117) (2691,) ",
     "output_type": "error",
     "traceback": [
      "\u001b[0;31m---------------------------------------------------------------------------\u001b[0m",
      "\u001b[0;31mValueError\u001b[0m                                Traceback (most recent call last)",
      "\u001b[0;32m<ipython-input-65-c484051f467c>\u001b[0m in \u001b[0;36m<module>\u001b[0;34m()\u001b[0m\n\u001b[0;32m----> 1\u001b[0;31m \u001b[0mip\u001b[0m \u001b[0;34m=\u001b[0m \u001b[0mobs\u001b[0m\u001b[0;34m-\u001b[0m\u001b[0minvProb\u001b[0m\u001b[0;34m.\u001b[0m\u001b[0mdpred\u001b[0m\u001b[0;34m\u001b[0m\u001b[0m\n\u001b[0m",
      "\u001b[0;31mValueError\u001b[0m: operands could not be broadcast together with shapes (23,117) (2691,) "
     ]
    }
   ],
   "source": [
    "ip = obs-invProb.dpred"
   ]
  },
  {
   "cell_type": "code",
   "execution_count": 66,
   "metadata": {
    "collapsed": false
   },
   "outputs": [
    {
     "name": "stdout",
     "output_type": "stream",
     "text": [
      "[ 0.443857  0.443953  0.443771  0.443109  0.442074  0.4411    0.440456\n",
      "  0.440027  0.439647  0.439574  0.440582  0.44333   0.447609  0.4526\n",
      "  0.457863  0.463608  0.470069  0.477098  0.484418  0.491948  0.499463\n",
      "  0.50613   0.511071  0.514366  0.516805  0.518723  0.519728  0.519205\n",
      "  0.516242  0.509467  0.498179  0.483926  0.470083  0.459212  0.451047\n",
      "  0.443332  0.434166  0.423259  0.411439  0.399583  0.388087  0.376913\n",
      "  0.365832  0.35472   0.343813  0.333573  0.324197  0.315442  0.306914\n",
      "  0.298298  0.289477  0.280716  0.272475  0.264778  0.257113  0.249027\n",
      "  0.240477  0.231677  0.222961  0.214638  0.206721  0.198995  0.191415\n",
      "  0.184149  0.177286  0.170866  0.16504   0.159818  0.154926  0.150205\n",
      "  0.145789  0.141676  0.13752   0.133101  0.128707  0.12483   0.1216\n",
      "  0.118721  0.115893  0.113036  0.11012   0.107077  0.10389   0.100616\n",
      "  0.097336  0.094159  0.091193  0.088457  0.085905  0.083534  0.08141\n",
      "  0.079615  0.078201  0.077048  0.075826  0.074347  0.072866  0.071735\n",
      "  0.070898  0.070028  0.068983  0.067868  0.066782  0.06574   0.06472\n",
      "  0.063696  0.062657  0.06164   0.060692  0.05981   0.058946  0.058071\n",
      "  0.05719   0.056302  0.055389  0.054478  0.053651  0.052956  0.052331\n",
      "  0.051668  0.050928  0.050165  0.049444  0.04876   0.048063  0.047371\n",
      "  0.046791  0.046377  0.04606   0.045743  0.045401  0.045053  0.044703\n",
      "  0.044329  0.043911  0.04344   0.042909  0.042385  0.04203   0.041908\n",
      "  0.041813  0.041462  0.040826  0.04008   0.039347  0.038667  0.038089\n",
      "  0.037647  0.037311  0.037039  0.036823  0.03665   0.036503  0.036371\n",
      "  0.036257  0.036156  0.03604   0.035874  0.035655  0.0354    0.035085\n",
      "  0.034663  0.034143  0.033591  0.033041  0.03249   0.031976  0.031592\n",
      "  0.031368  0.031232  0.031108  0.030987  0.030884  0.030806  0.030755\n",
      "  0.030716  0.030673  0.030629  0.030603  0.030593  0.030576  0.030541\n",
      "  0.030503  0.030439  0.030286  0.030013  0.029647  0.0292    0.028669\n",
      "  0.02816   0.027878  0.027885  0.027994  0.028012  0.027916  0.027722\n",
      "  0.027409  0.027008  0.026646  0.026438  0.026399  0.02644   0.026429\n",
      "  0.026301  0.026096  0.025895  0.025704  0.025441  0.025101  0.024844\n",
      "  0.024797  0.024895  0.025016  0.025114  0.025161  0.025146  0.025145\n",
      "  0.025239  0.02538   0.025438  0.025347  0.025152  0.024967  0.024897\n",
      "  0.024939  0.02498   0.024936  0.024813  0.024656  0.024495  0.024342\n",
      "  0.024188  0.024017  0.023831  0.023656  0.023528  0.023452  0.023392\n",
      "  0.023314  0.023212  0.023058  0.022779  0.022389  0.02209   0.022084\n",
      "  0.022306  0.022463  0.022357  0.022058  0.021772  0.021608  0.021526\n",
      "  0.021432  0.021274  0.021058  0.020836  0.020699  0.020704  0.020804\n",
      "  0.020883  0.02088   0.020822  0.020758  0.020698  0.02064   0.020583\n",
      "  0.020514  0.0204    0.020236  0.020061  0.019908  0.019762  0.019585\n",
      "  0.019383  0.019193  0.01903   0.018878  0.018734  0.018587  0.018341\n",
      "  0.017926  0.017487  0.017265  0.017283  0.017357  0.017355] 0.410446161815"
     ]
    },
    {
     "ename": "NameError",
     "evalue": "name 'ip' is not defined",
     "output_type": "error",
     "traceback": [
      "\u001b[0;31m---------------------------------------------------------------------------\u001b[0m",
      "\u001b[0;31mNameError\u001b[0m                                 Traceback (most recent call last)",
      "\u001b[0;32m<ipython-input-66-72c5091fc602>\u001b[0m in \u001b[0;36m<module>\u001b[0;34m()\u001b[0m\n\u001b[1;32m      1\u001b[0m \u001b[0mtind\u001b[0m \u001b[0;34m=\u001b[0m \u001b[0;36m7\u001b[0m\u001b[0;34m\u001b[0m\u001b[0m\n\u001b[0;32m----> 2\u001b[0;31m \u001b[0;32mprint\u001b[0m \u001b[0mobs\u001b[0m\u001b[0;34m[\u001b[0m\u001b[0mtind\u001b[0m\u001b[0;34m]\u001b[0m\u001b[0;34m,\u001b[0m \u001b[0minvProb\u001b[0m\u001b[0;34m.\u001b[0m\u001b[0mdpred\u001b[0m\u001b[0;34m[\u001b[0m\u001b[0mtind\u001b[0m\u001b[0;34m]\u001b[0m\u001b[0;34m,\u001b[0m \u001b[0mip\u001b[0m\u001b[0;34m[\u001b[0m\u001b[0mtind\u001b[0m\u001b[0;34m]\u001b[0m\u001b[0;34m\u001b[0m\u001b[0m\n\u001b[0m",
      "\u001b[0;31mNameError\u001b[0m: name 'ip' is not defined"
     ]
    }
   ],
   "source": [
    "tind = 7\n",
    "print obs[tind], invProb.dpred[tind], ip[tind]"
   ]
  },
  {
   "cell_type": "code",
   "execution_count": 72,
   "metadata": {
    "collapsed": false
   },
   "outputs": [
    {
     "data": {
      "image/png": "[encoded data removed]",
      "text/plain": [
       "<matplotlib.figure.Figure at 0x10aacdc10>"
      ]
     },
     "metadata": {},
     "output_type": "display_data"
    }
   ],
   "source": [
    "fig = plt.figure(figsize=(7,4.5))\n",
    "ax = plt.subplot(111)\n",
    "ax.plot(time, obs, 'k.-', lw=2)\n",
    "# ax.set_ylim(1e-4, 1e0)\n",
    "ax.set_xscale('linear')\n",
    "ax.set_yscale('linear')\n",
    "ax.set_xlim(time.min(), time.max())\n",
    "ax.grid(True)"
   ]
  },
  {
   "cell_type": "code",
   "execution_count": 73,
   "metadata": {
    "collapsed": false
   },
   "outputs": [
    {
     "data": {
      "image/png": "[encoded data removed]",
      "text/plain": [
       "<matplotlib.figure.Figure at 0x10acb0a10>"
      ]
     },
     "metadata": {},
     "output_type": "display_data"
    }
   ],
   "source": [
    "fig = plt.figure(figsize=(7,4.5))\n",
    "ax = plt.subplot(111)\n",
    "ax.plot(time, obs, 'k.-', lw=2)\n",
    "ax.plot(time, -obs, 'k--', lw=2)\n",
    "ax.plot(time, invProb.dpred, 'b-', lw=2)\n",
    "ax.plot(time, -ip, 'r.-', lw=2, ms=10)\n",
    "ax.plot(time, uncert, 'g.-', lw=2, ms=10)\n",
    "ax.set_ylim(1e-4, 1e0)\n",
    "ax.set_xscale('log')\n",
    "ax.set_yscale('log')\n",
    "ax.set_xlim(time.min(), time.max())\n",
    "ax.grid(True)"
   ]
  },
  {
   "cell_type": "code",
   "execution_count": 74,
   "metadata": {
    "collapsed": true
   },
   "outputs": [],
   "source": [
    "predmap, ticks, tickLabels = mapDat(invProb.dpred,1e-3, stretch=3)    "
   ]
  },
  {
   "cell_type": "code",
   "execution_count": 75,
   "metadata": {
    "collapsed": false
   },
   "outputs": [
    {
     "data": {
      "text/plain": [
       "<matplotlib.text.Text at 0x10b208310>"
      ]
     },
     "execution_count": 75,
     "metadata": {},
     "output_type": "execute_result"
    },
    {
     "data": {
      "image/png": "[encoded data removed]",
      "text/plain": [
       "<matplotlib.figure.Figure at 0x109234310>"
      ]
     },
     "metadata": {},
     "output_type": "display_data"
    }
   ],
   "source": [
    "fig = plt.figure(figsize=(5,4))\n",
    "ax = plt.subplot(111)\n",
    "\n",
    "# for i, ind in enumerate(inds):\n",
    "#     temp, dum, dum = mapDat(mtrue[inds][i]*np.exp(-time/tau[ind]), 1e-5, stretch=2)\n",
    "#     plt.semilogx(time, temp, 'k', alpha = 0.5)    \n",
    "outmap, ticks, tickLabels = mapDat(obs,1e-3, stretch=3)    \n",
    "ax.plot(time*1e6, outmap, 'k', lw=2)\n",
    "ax.plot(time*1e6, predmap, 'b', lw=2)\n",
    "ax.plot(time[7:]*1e6, outmap[7:]-predmap[7:], 'r', lw=2)\n",
    "ax.plot(np.r_[-0.002, 0.]*1e6, np.zeros(2), 'k', lw=2)\n",
    "ax.plot(np.zeros(2), np.r_[ticks.min(), ticks.max()], 'k--', lw=1)\n",
    "ax.set_yticks(ticks)\n",
    "ax.set_yticklabels(tickLabels)\n",
    "ax.set_ylim(ticks.min(), ticks.max())\n",
    "ax.plot(np.r_[-0.002, time.max()]*1e6, np.zeros(2), 'k--')\n",
    "ax.set_xlim(-0.002*1e6, time.max()*1e6)\n",
    "\n",
    "ax.set_xlabel(\"Time (micro-s)\", fontsize = 16)\n",
    "ax.set_ylabel(\"$db_z/dt (pV/A$-$m^4)$ \", fontsize = 16)\n",
    "\n",
    "# ax.grid(True)"
   ]
  },
  {
   "cell_type": "code",
   "execution_count": 76,
   "metadata": {
    "collapsed": false
   },
   "outputs": [
    {
     "data": {
      "text/plain": [
       "[<matplotlib.lines.Line2D at 0x10b0b7b90>]"
      ]
     },
     "execution_count": 76,
     "metadata": {},
     "output_type": "execute_result"
    },
    {
     "data": {
      "image/png": "[encoded data removed]",
      "text/plain": [
       "<matplotlib.figure.Figure at 0x10ab17b90>"
      ]
     },
     "metadata": {},
     "output_type": "display_data"
    }
   ],
   "source": [
    "weight_d = np.sqrt(np.diag(np.dot(np.dot(np.diag(1./uncert), A), (np.dot(np.diag(1./uncert), A)).T)))\n",
    "# weight_d = np.sqrt(np.diag( np.dot(A, A.T)))\n",
    "plt.semilogx(time, weight_d)"
   ]
  },
  {
   "cell_type": "code",
   "execution_count": null,
   "metadata": {
    "collapsed": true
   },
   "outputs": [],
   "source": []
  }
 ],
 "metadata": {
  "kernelspec": {
   "display_name": "Python 2",
   "language": "python",
   "name": "python2"
  },
  "language_info": {
   "codemirror_mode": {
    "name": "ipython",
    "version": 2
   },
   "file_extension": ".py",
   "mimetype": "text/x-python",
   "name": "python",
   "nbconvert_exporter": "python",
   "pygments_lexer": "ipython2",
   "version": "2.7.11"
  }
 },
 "nbformat": 4,
 "nbformat_minor": 0
}
