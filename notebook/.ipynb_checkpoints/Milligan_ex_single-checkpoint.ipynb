{
 "cells": [
  {
   "cell_type": "code",
   "execution_count": 1,
   "metadata": {
    "collapsed": false
   },
   "outputs": [
    {
     "name": "stdout",
     "output_type": "stream",
     "text": [
      "Populating the interactive namespace from numpy and matplotlib\n"
     ]
    }
   ],
   "source": [
    "import numpy as np\n",
    "%pylab inline"
   ]
  },
  {
   "cell_type": "code",
   "execution_count": 2,
   "metadata": {
    "collapsed": false
   },
   "outputs": [],
   "source": [
    "def AofT(time,T, ai, taui):\n",
    "    return ai*np.exp(-time/taui)/(1.+np.exp(-T/(2*taui)))"
   ]
  },
  {
   "cell_type": "code",
   "execution_count": 3,
   "metadata": {
    "collapsed": false
   },
   "outputs": [],
   "source": [
    "from SimPEG import *\n",
    "from simpegem1d.Waveform import CausalConv\n",
    "import sys\n",
    "sys.path.append(\"./DoubleLog/\")\n",
    "from plotting import mapDat"
   ]
  },
  {
   "cell_type": "code",
   "execution_count": 4,
   "metadata": {
    "collapsed": false
   },
   "outputs": [],
   "source": [
    "class LinearSurvey(Survey.BaseSurvey):\n",
    "    nD = None\n",
    "    def __init__(self, time, **kwargs): \n",
    "        self.time = time\n",
    "        self.nD = time.size\n",
    "        \n",
    "    def projectFields(self, u):\n",
    "        return u\n",
    "\n",
    "class LinearProblem(Problem.BaseProblem):\n",
    "\n",
    "    surveyPair = LinearSurvey\n",
    "\n",
    "    def __init__(self, mesh, G, **kwargs):\n",
    "        Problem.BaseProblem.__init__(self, mesh, **kwargs)\n",
    "        self.G = G\n",
    "\n",
    "    def fields(self, m, u=None):\n",
    "        return self.G.dot(m)\n",
    "\n",
    "    def Jvec(self, m, v, u=None):\n",
    "        return self.G.dot(v)\n",
    "\n",
    "    def Jtvec(self, m, v, u=None):\n",
    "        return self.G.T.dot(v)\n"
   ]
  },
  {
   "cell_type": "markdown",
   "metadata": {},
   "source": [
    "# Simple exponential basis"
   ]
  },
  {
   "cell_type": "markdown",
   "metadata": {},
   "source": [
    "\n",
    "$$ \\mathbf{A}\\mathbf{\\alpha} = \\mathbf{d}$$"
   ]
  },
  {
   "cell_type": "code",
   "execution_count": 5,
   "metadata": {
    "collapsed": false
   },
   "outputs": [],
   "source": [
    "tind = 12\n",
    "time = np.load('./exampledata/timevtem.npy')[4:]\n",
    "obs = np.load('./exampledata/souding.npy')[4:]\n",
    "wave = np.loadtxt('/Users/sgkang/Dropbox/Shared/SeogiDikun/Milligan/Data/7042_106_wform.xyz', skiprows=7)\n",
    "M = 81\n",
    "tau = np.logspace(-5, -2, M)"
   ]
  },
  {
   "cell_type": "code",
   "execution_count": 6,
   "metadata": {
    "collapsed": false
   },
   "outputs": [],
   "source": [
    "twave = (np.arange(10000)+1)*1e-5\n",
    "indstart = 4439\n",
    "indend = 6000\n",
    "t0_wave = twave[indstart:indend].min()\n",
    "time_conv= twave[indstart:indend]-t0_wave"
   ]
  },
  {
   "cell_type": "code",
   "execution_count": 7,
   "metadata": {
    "collapsed": false
   },
   "outputs": [
    {
     "data": {
      "text/plain": [
       "0.015600000000000003"
      ]
     },
     "execution_count": 7,
     "metadata": {},
     "output_type": "execute_result"
    }
   ],
   "source": [
    "time_conv.max()"
   ]
  },
  {
   "cell_type": "code",
   "execution_count": 8,
   "metadata": {
    "collapsed": false
   },
   "outputs": [],
   "source": [
    "currentderiv = wave[indstart:indend]\n",
    "currentderiv[time_conv>4.4e-3] = 0.\n",
    "current = CausalConv(wave[indstart:indend], np.ones_like(wave[indstart:indend]), time_conv)"
   ]
  },
  {
   "cell_type": "code",
   "execution_count": 9,
   "metadata": {
    "collapsed": false
   },
   "outputs": [
    {
     "data": {
      "text/plain": [
       "array([  0.00000000e+00,   1.00000000e-05,   2.00000000e-05, ...,\n",
       "         1.55800000e-02,   1.55900000e-02,   1.56000000e-02])"
      ]
     },
     "execution_count": 9,
     "metadata": {},
     "output_type": "execute_result"
    }
   ],
   "source": [
    "time_conv"
   ]
  },
  {
   "cell_type": "code",
   "execution_count": 10,
   "metadata": {
    "collapsed": false
   },
   "outputs": [
    {
     "data": {
      "text/plain": [
       "(-4.5, 4.5)"
      ]
     },
     "execution_count": 10,
     "metadata": {},
     "output_type": "execute_result"
    },
    {
     "data": {
      "image/png": "[encoded data removed]",
      "text/plain": [
       "<matplotlib.figure.Figure at 0x107663910>"
      ]
     },
     "metadata": {},
     "output_type": "display_data"
    }
   ],
   "source": [
    "# figsize(6, 4)\n",
    "\n",
    "plt.plot(time_conv, wave[indstart:indend], 'b.', lw=2, ms=4)\n",
    "plt.plot(time_conv, wave[indstart:indend]*0., 'k--')\n",
    "plt.plot(np.r_[4.4000000e-03, 4.4000000e-03], np.r_[-4.5, 4.5], 'k:')\n",
    "plt.ylim(-4.5, 4.5)\n",
    "# plt.xlim(-2e-4, 5.5e-3)"
   ]
  },
  {
   "cell_type": "code",
   "execution_count": 11,
   "metadata": {
    "collapsed": false
   },
   "outputs": [
    {
     "data": {
      "text/plain": [
       "3.0000000000009182e-09"
      ]
     },
     "execution_count": 11,
     "metadata": {},
     "output_type": "execute_result"
    }
   ],
   "source": [
    "current.min()"
   ]
  },
  {
   "cell_type": "code",
   "execution_count": 12,
   "metadata": {
    "collapsed": false
   },
   "outputs": [
    {
     "data": {
      "text/plain": [
       "(0, 1.0)"
      ]
     },
     "execution_count": 12,
     "metadata": {},
     "output_type": "execute_result"
    },
    {
     "data": {
      "image/png": "[encoded data removed]",
      "text/plain": [
       "<matplotlib.figure.Figure at 0x107757b10>"
      ]
     },
     "metadata": {},
     "output_type": "display_data"
    }
   ],
   "source": [
    "figsize(6, 4)\n",
    "plt.plot(time_conv, current/current.max(), 'k-')\n",
    "# plt.plot(time_conv, wave[indstart:indend]*0., 'k--')\n",
    "plt.plot(np.r_[4.4000000e-03, 4.4000000e-03], np.r_[1e-6, 1e-2], 'k:')\n",
    "plt.plot(time, np.zeros_like(time), 'r.')\n",
    "plt.ylim(0, 1.)"
   ]
  },
  {
   "cell_type": "code",
   "execution_count": 13,
   "metadata": {
    "collapsed": false
   },
   "outputs": [],
   "source": [
    "from SimPEG import Mesh\n",
    "from simpegem1d.Waveform import SineFun, SineFunDeriv, CausalConv\n",
    "dt = 1e-5\n",
    "t0 = 4.4000000e-03\n",
    "ntime = time_conv.size\n",
    "meshtime = Mesh.TensorMesh([dt*np.ones(ntime)], x0=[-dt/2.])\n",
    "P = meshtime.getInterpolationMat(time+t0, 'CC')\n",
    "# time_conv = meshtime.gridN\n",
    "# currentderiv = SineFunDeriv(time_conv, t0)\n",
    "# current = SineFun(time_conv, t0)"
   ]
  },
  {
   "cell_type": "code",
   "execution_count": 14,
   "metadata": {
    "collapsed": false
   },
   "outputs": [],
   "source": [
    "temp = np.exp(-time_conv/1e-2)/1e-2\n",
    "out = CausalConv(temp, currentderiv, time_conv)\n",
    "# plt.plot(time_conv, currentderiv)"
   ]
  },
  {
   "cell_type": "code",
   "execution_count": 15,
   "metadata": {
    "collapsed": false
   },
   "outputs": [
    {
     "data": {
      "text/plain": [
       "[<matplotlib.lines.Line2D at 0x1081c2cd0>]"
      ]
     },
     "execution_count": 15,
     "metadata": {},
     "output_type": "execute_result"
    },
    {
     "data": {
      "image/png": "[encoded data removed]",
      "text/plain": [
       "<matplotlib.figure.Figure at 0x1077629d0>"
      ]
     },
     "metadata": {},
     "output_type": "display_data"
    }
   ],
   "source": [
    "plt.plot(time_conv, out)"
   ]
  },
  {
   "cell_type": "code",
   "execution_count": 16,
   "metadata": {
    "collapsed": false
   },
   "outputs": [
    {
     "data": {
      "text/plain": [
       "(0.0, 0.015600000000000003)"
      ]
     },
     "execution_count": 16,
     "metadata": {},
     "output_type": "execute_result"
    }
   ],
   "source": [
    "time_conv.min(), time_conv.max()"
   ]
  },
  {
   "cell_type": "code",
   "execution_count": 17,
   "metadata": {
    "collapsed": false
   },
   "outputs": [
    {
     "data": {
      "text/plain": [
       "(23, 1561)"
      ]
     },
     "execution_count": 17,
     "metadata": {},
     "output_type": "execute_result"
    }
   ],
   "source": [
    "P.shape"
   ]
  },
  {
   "cell_type": "code",
   "execution_count": 18,
   "metadata": {
    "collapsed": false
   },
   "outputs": [],
   "source": [
    "N = time.size\n",
    "A = np.zeros((N, M))\n",
    "for j in range(M):\n",
    "    A[:,j] = P*(CausalConv(1./tau[j]*np.exp(-time_conv/tau[j]), -currentderiv, time_conv))"
   ]
  },
  {
   "cell_type": "code",
   "execution_count": 19,
   "metadata": {
    "collapsed": true
   },
   "outputs": [],
   "source": [
    "mtrue = np.zeros(M)"
   ]
  },
  {
   "cell_type": "code",
   "execution_count": 20,
   "metadata": {
    "collapsed": false
   },
   "outputs": [],
   "source": [
    "np.random.seed(1)\n",
    "inds = np.random.random_integers(0, 41, size=5)\n",
    "mtrue[inds] = np.r_[0.1, 2, 1, 4, 5]"
   ]
  },
  {
   "cell_type": "code",
   "execution_count": 21,
   "metadata": {
    "collapsed": true
   },
   "outputs": [],
   "source": [
    "out = np.dot(A,mtrue)"
   ]
  },
  {
   "cell_type": "code",
   "execution_count": 22,
   "metadata": {
    "collapsed": false
   },
   "outputs": [
    {
     "data": {
      "text/plain": [
       "<matplotlib.text.Text at 0x1082a4090>"
      ]
     },
     "execution_count": 22,
     "metadata": {},
     "output_type": "execute_result"
    },
    {
     "data": {
      "image/png": "[encoded data removed]",
      "text/plain": [
       "<matplotlib.figure.Figure at 0x108237090>"
      ]
     },
     "metadata": {},
     "output_type": "display_data"
    }
   ],
   "source": [
    "fig = plt.figure(figsize=(5,4))\n",
    "ax = plt.subplot(111)\n",
    "\n",
    "# for i, ind in enumerate(inds):\n",
    "#     temp, dum, dum = mapDat(mtrue[inds][i]*np.exp(-time/tau[ind]), 1e-5, stretch=2)\n",
    "#     plt.semilogx(time, temp, 'k', alpha = 0.5)    \n",
    "outmap, ticks, tickLabels = mapDat(obs,1e-3, stretch=3)    \n",
    "ax.plot(time*1e6, outmap, 'k', lw=2)\n",
    "ax.plot(np.r_[-0.002, 0.]*1e6, np.zeros(2), 'k', lw=2)\n",
    "ax.plot(np.zeros(2), np.r_[ticks.min(), ticks.max()], 'k--', lw=1)\n",
    "ax.set_yticks(ticks)\n",
    "ax.set_yticklabels(tickLabels)\n",
    "ax.set_ylim(ticks.min(), ticks.max())\n",
    "ax.plot(np.r_[-0.002, time.max()]*1e6, np.zeros(2), 'k--')\n",
    "ax.set_xlim(-0.002*1e6, time.max()*1e6)\n",
    "\n",
    "ax.set_xlabel(\"Time (micro-s)\", fontsize = 16)\n",
    "ax.set_ylabel(\"$db_z/dt (pV/A$-$m^4)$ \", fontsize = 16)\n",
    "\n",
    "# ax.grid(True)"
   ]
  },
  {
   "cell_type": "code",
   "execution_count": 23,
   "metadata": {
    "collapsed": true
   },
   "outputs": [],
   "source": [
    "# from pymatsolver import MumpsSolver"
   ]
  },
  {
   "cell_type": "code",
   "execution_count": 24,
   "metadata": {
    "collapsed": false
   },
   "outputs": [
    {
     "name": "stdout",
     "output_type": "stream",
     "text": [
      "[ 220.51422846  128.           68.43166333   34.49238477   16.54749499\n",
      "    7.3507014     2.98677355    0.66312625]\n"
     ]
    }
   ],
   "source": [
    "ip = obs[obs<0.]\n",
    "print obs[obs>0.]/abs(ip).max()"
   ]
  },
  {
   "cell_type": "code",
   "execution_count": 25,
   "metadata": {
    "collapsed": true
   },
   "outputs": [],
   "source": [
    "from SimPEG import Maps"
   ]
  },
  {
   "cell_type": "code",
   "execution_count": 26,
   "metadata": {
    "collapsed": true
   },
   "outputs": [],
   "source": [
    "weight = np.sqrt(np.diag(np.dot(A.T, A)))"
   ]
  },
  {
   "cell_type": "code",
   "execution_count": 36,
   "metadata": {
    "collapsed": false
   },
   "outputs": [
    {
     "name": "stdout",
     "output_type": "stream",
     "text": [
      "SimPEG.InvProblem is setting bfgsH0 to the inverse of the eval2Deriv.\n",
      "                    ***Done using same solver as the problem***\n",
      "=============================== Projected GNCG ===============================\n",
      "  #     beta     phi_d     phi_m       f      |proj(x-g)-x|  LS    Comment   \n",
      "-----------------------------------------------------------------------------\n",
      "   0  1.00e-05  4.60e+03  0.00e+00  4.60e+03    2.75e+06      0              \n",
      "   1  1.00e-05  4.05e+03  1.56e-05  4.05e+03    2.81e-03      1              \n",
      "   2  1.00e-05  2.81e+03  6.78e-06  2.81e+03    2.51e-03      0              \n",
      "   3  1.00e-05  2.71e+03  4.68e-06  2.71e+03    1.34e+04      0   Skip BFGS  \n",
      "   4  1.00e-05  2.71e+03  5.47e-06  2.71e+03    2.31e-03      7              \n",
      "   5  1.00e-05  2.71e+03  6.84e-06  2.71e+03    2.49e-03      7   Skip BFGS  \n",
      "   6  1.00e-05  2.70e+03  7.33e-06  2.70e+03    2.57e-03      9   Skip BFGS  \n",
      "   7  1.00e-05  2.70e+03  7.45e-06  2.70e+03    2.81e-03      0   Skip BFGS  \n",
      "   8  1.00e-05  2.70e+03  6.90e-06  2.70e+03    2.22e+03      0              \n",
      "   9  1.00e-05  2.70e+03  1.10e-05  2.70e+03    2.85e-03      8              \n",
      "  10  1.00e-05  2.69e+03  1.07e-05  2.69e+03    1.00e+03      0              \n",
      "------------------------- STOP! -------------------------\n",
      "1 : |fc-fOld| = 1.4719e+00 <= tolF*(1+|f0|) = 4.6010e+02\n",
      "0 : |xc-x_last| = 8.0017e+05 <= tolX*(1+|x0|) = 1.0000e-01\n",
      "0 : |proj(x-g)-x|    = 9.9966e+02 <= tolG          = 1.0000e-10\n",
      "0 : |proj(x-g)-x|    = 9.9966e+02 <= 1e3*eps       = 1.0000e-07\n",
      "1 : maxIter   =      10    <= iter          =     10\n",
      "------------------------- DONE! -------------------------\n"
     ]
    }
   ],
   "source": [
    "mesh = Mesh.TensorMesh([M])\n",
    "wmap = Maps.Weighting(mesh, weights=weight)\n",
    "prob = LinearProblem(mesh, A)\n",
    "survey = LinearSurvey(time)\n",
    "survey.pair(prob)\n",
    "# survey.makeSyntheticData(mtrue, std=0.01)\n",
    "# survey.dobs = out\n",
    "survey.dobs = obs\n",
    "reg = Regularization.BaseRegularization(mesh, mapping=wmap)\n",
    "dmis = DataMisfit.l2_DataMisfit(survey)\n",
    "# uncert = 0.01*(abs(survey.dobs)+abs(ip).max())\n",
    "uncert = 0.05*(abs(survey.dobs)+abs(ip).max())\n",
    "# uncert = 0.05*(abs(survey.dobs))\n",
    "dmis.Wd = 1./(uncert)\n",
    "opt = Optimization.ProjectedGNCG(maxIter=10)\n",
    "# opt = Optimization.InexactGaussNewton(maxIter=20)\n",
    "# opt.lower = -1e-10\n",
    "opt.upper = 1e-10\n",
    "invProb = InvProblem.BaseInvProblem(dmis, reg, opt)\n",
    "invProb.beta = 1e-5\n",
    "beta = Directives.BetaSchedule()\n",
    "beta.coolingFactor = 1\n",
    "target = Directives.TargetMisfit()\n",
    "inv = Inversion.BaseInversion(invProb, directiveList=[beta, target])\n",
    "m0 = np.zeros(M)\n",
    "opt.tolG = 1e-10\n",
    "opt.tolG = 1e-10\n",
    "reg.mref = np.zeros_like(M)\n",
    "mrec = inv.run(m0)"
   ]
  },
  {
   "cell_type": "code",
   "execution_count": 37,
   "metadata": {
    "collapsed": false
   },
   "outputs": [
    {
     "data": {
      "text/plain": [
       "[<matplotlib.lines.Line2D at 0x1080dec90>]"
      ]
     },
     "execution_count": 37,
     "metadata": {},
     "output_type": "execute_result"
    },
    {
     "data": {
      "image/png": "[encoded data removed]",
      "text/plain": [
       "<matplotlib.figure.Figure at 0x109863750>"
      ]
     },
     "metadata": {},
     "output_type": "display_data"
    }
   ],
   "source": [
    "plt.semilogx(tau, weight)"
   ]
  },
  {
   "cell_type": "code",
   "execution_count": 38,
   "metadata": {
    "collapsed": false
   },
   "outputs": [
    {
     "data": {
      "text/plain": [
       "[<matplotlib.lines.Line2D at 0x1092d41d0>]"
      ]
     },
     "execution_count": 38,
     "metadata": {},
     "output_type": "execute_result"
    },
    {
     "data": {
      "image/png": "[encoded data removed]",
      "text/plain": [
       "<matplotlib.figure.Figure at 0x10801d150>"
      ]
     },
     "metadata": {},
     "output_type": "display_data"
    }
   ],
   "source": [
    "plt.semilogx(tau, mrec, '.')"
   ]
  },
  {
   "cell_type": "code",
   "execution_count": 39,
   "metadata": {
    "collapsed": true
   },
   "outputs": [],
   "source": [
    "mfund = mrec.copy()\n",
    "mip = mrec.copy()\n",
    "mfund[mfund<0.] = 0.\n",
    "mip[mip>0.] = 0.\n",
    "fund = np.dot(A, mfund)"
   ]
  },
  {
   "cell_type": "code",
   "execution_count": 40,
   "metadata": {
    "collapsed": false
   },
   "outputs": [],
   "source": [
    "ip = obs-invProb.dpred"
   ]
  },
  {
   "cell_type": "code",
   "execution_count": 41,
   "metadata": {
    "collapsed": false
   },
   "outputs": [
    {
     "name": "stdout",
     "output_type": "stream",
     "text": [
      "0.003309 -0.00248870566202 0.00579770566202\n"
     ]
    }
   ],
   "source": [
    "tind = 7\n",
    "print obs[tind], invProb.dpred[tind], ip[tind]"
   ]
  },
  {
   "cell_type": "code",
   "execution_count": 42,
   "metadata": {
    "collapsed": false
   },
   "outputs": [
    {
     "data": {
      "image/png": "[encoded data removed]",
      "text/plain": [
       "<matplotlib.figure.Figure at 0x109982f90>"
      ]
     },
     "metadata": {},
     "output_type": "display_data"
    }
   ],
   "source": [
    "fig = plt.figure(figsize=(7,4.5))\n",
    "ax = plt.subplot(111)\n",
    "ax.plot(time, obs, 'k.-', lw=2)\n",
    "# ax.set_ylim(1e-4, 1e0)\n",
    "ax.set_xscale('linear')\n",
    "ax.set_yscale('linear')\n",
    "ax.set_xlim(time.min(), time.max())\n",
    "ax.grid(True)"
   ]
  },
  {
   "cell_type": "code",
   "execution_count": 43,
   "metadata": {
    "collapsed": false
   },
   "outputs": [
    {
     "data": {
      "image/png": "[encoded data removed]",
      "text/plain": [
       "<matplotlib.figure.Figure at 0x109990210>"
      ]
     },
     "metadata": {},
     "output_type": "display_data"
    }
   ],
   "source": [
    "fig = plt.figure(figsize=(7,4.5))\n",
    "ax = plt.subplot(111)\n",
    "ax.plot(time, obs, 'k.-', lw=2)\n",
    "ax.plot(time, -obs, 'k--', lw=2)\n",
    "ax.plot(time, -invProb.dpred, 'b-', lw=2)\n",
    "ax.plot(time, -ip, 'r.-', lw=2, ms=10)\n",
    "ax.plot(time, uncert, 'g.-', lw=2, ms=10)\n",
    "ax.set_ylim(1e-4, 1e0)\n",
    "ax.set_xscale('log')\n",
    "ax.set_yscale('log')\n",
    "ax.set_xlim(time.min(), time.max())\n",
    "ax.grid(True)"
   ]
  },
  {
   "cell_type": "code",
   "execution_count": 52,
   "metadata": {
    "collapsed": true
   },
   "outputs": [],
   "source": [
    "predmap, ticks, tickLabels = mapDat(invProb.dpred,1e-3, stretch=3)    "
   ]
  },
  {
   "cell_type": "code",
   "execution_count": 57,
   "metadata": {
    "collapsed": false
   },
   "outputs": [
    {
     "data": {
      "text/plain": [
       "<matplotlib.text.Text at 0x109846e50>"
      ]
     },
     "execution_count": 57,
     "metadata": {},
     "output_type": "execute_result"
    },
    {
     "data": {
      "image/png": "[encoded data removed]",
      "text/plain": [
       "<matplotlib.figure.Figure at 0x107e24190>"
      ]
     },
     "metadata": {},
     "output_type": "display_data"
    }
   ],
   "source": [
    "fig = plt.figure(figsize=(5,4))\n",
    "ax = plt.subplot(111)\n",
    "\n",
    "# for i, ind in enumerate(inds):\n",
    "#     temp, dum, dum = mapDat(mtrue[inds][i]*np.exp(-time/tau[ind]), 1e-5, stretch=2)\n",
    "#     plt.semilogx(time, temp, 'k', alpha = 0.5)    \n",
    "outmap, ticks, tickLabels = mapDat(obs,1e-3, stretch=3)    \n",
    "ax.plot(time*1e6, outmap, 'k', lw=2)\n",
    "ax.plot(time*1e6, predmap, 'b', lw=2)\n",
    "ax.plot(time[7:]*1e6, outmap[7:]-predmap[7:], 'r', lw=2)\n",
    "ax.plot(np.r_[-0.002, 0.]*1e6, np.zeros(2), 'k', lw=2)\n",
    "ax.plot(np.zeros(2), np.r_[ticks.min(), ticks.max()], 'k--', lw=1)\n",
    "ax.set_yticks(ticks)\n",
    "ax.set_yticklabels(tickLabels)\n",
    "ax.set_ylim(ticks.min(), ticks.max())\n",
    "ax.plot(np.r_[-0.002, time.max()]*1e6, np.zeros(2), 'k--')\n",
    "ax.set_xlim(-0.002*1e6, time.max()*1e6)\n",
    "\n",
    "ax.set_xlabel(\"Time (micro-s)\", fontsize = 16)\n",
    "ax.set_ylabel(\"$db_z/dt (pV/A$-$m^4)$ \", fontsize = 16)\n",
    "\n",
    "# ax.grid(True)"
   ]
  },
  {
   "cell_type": "code",
   "execution_count": 77,
   "metadata": {
    "collapsed": false
   },
   "outputs": [
    {
     "data": {
      "text/plain": [
       "[<matplotlib.lines.Line2D at 0x10cc78fd0>]"
      ]
     },
     "execution_count": 77,
     "metadata": {},
     "output_type": "execute_result"
    },
    {
     "data": {
      "image/png": "[encoded data removed]",
      "text/plain": [
       "<matplotlib.figure.Figure at 0x10e43ced0>"
      ]
     },
     "metadata": {},
     "output_type": "display_data"
    }
   ],
   "source": [
    "weight_d = np.sqrt(np.diag(np.dot(np.dot(np.diag(1./uncert), A), (np.dot(np.diag(1./uncert), A)).T)))\n",
    "# weight_d = np.sqrt(np.diag( np.dot(A, A.T)))\n",
    "plt.semilogx(time, weight_d)"
   ]
  },
  {
   "cell_type": "code",
   "execution_count": null,
   "metadata": {
    "collapsed": true
   },
   "outputs": [],
   "source": []
  }
 ],
 "metadata": {
  "kernelspec": {
   "display_name": "Python 2",
   "language": "python",
   "name": "python2"
  },
  "language_info": {
   "codemirror_mode": {
    "name": "ipython",
    "version": 2
   },
   "file_extension": ".py",
   "mimetype": "text/x-python",
   "name": "python",
   "nbconvert_exporter": "python",
   "pygments_lexer": "ipython2",
   "version": "2.7.11"
  }
 },
 "nbformat": 4,
 "nbformat_minor": 0
}
