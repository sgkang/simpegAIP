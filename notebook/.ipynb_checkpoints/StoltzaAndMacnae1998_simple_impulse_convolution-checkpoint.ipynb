{
 "cells": [
  {
   "cell_type": "code",
   "execution_count": 1,
   "metadata": {
    "collapsed": false
   },
   "outputs": [
    {
     "name": "stdout",
     "output_type": "stream",
     "text": [
      "Populating the interactive namespace from numpy and matplotlib\n"
     ]
    }
   ],
   "source": [
    "import numpy as np\n",
    "%pylab inline"
   ]
  },
  {
   "cell_type": "markdown",
   "metadata": {},
   "source": [
    "##  $$A(t,T) = \\Sigma_i A_i P(dI/dt (t)\\otimes e^{-t/\\tau_i})$$"
   ]
  },
  {
   "cell_type": "code",
   "execution_count": 2,
   "metadata": {
    "collapsed": false
   },
   "outputs": [],
   "source": [
    "def AofT(time,T, ai, taui):\n",
    "    return ai*np.exp(-time/taui)/(1.+np.exp(-T/(2*taui)))"
   ]
  },
  {
   "cell_type": "code",
   "execution_count": 3,
   "metadata": {
    "collapsed": false
   },
   "outputs": [],
   "source": [
    "from SimPEG import *\n",
    "import sys\n",
    "sys.path.append(\"./DoubleLog/\")\n",
    "from plotting import mapDat"
   ]
  },
  {
   "cell_type": "code",
   "execution_count": 4,
   "metadata": {
    "collapsed": false
   },
   "outputs": [],
   "source": [
    "class LinearSurvey(Survey.BaseSurvey):\n",
    "    nD = None\n",
    "    def __init__(self, time, **kwargs): \n",
    "        self.time = time\n",
    "        self.nD = time.size\n",
    "        \n",
    "    def projectFields(self, u):\n",
    "        return u\n",
    "\n",
    "class LinearProblem(Problem.BaseProblem):\n",
    "\n",
    "    surveyPair = LinearSurvey\n",
    "\n",
    "    def __init__(self, mesh, G, **kwargs):\n",
    "        Problem.BaseProblem.__init__(self, mesh, **kwargs)\n",
    "        self.G = G\n",
    "\n",
    "    def fields(self, m, u=None):\n",
    "        return self.G.dot(m)\n",
    "\n",
    "    def Jvec(self, m, v, u=None):\n",
    "        return self.G.dot(v)\n",
    "\n",
    "    def Jtvec(self, m, v, u=None):\n",
    "        return self.G.T.dot(v)\n"
   ]
  },
  {
   "cell_type": "markdown",
   "metadata": {},
   "source": [
    "# Simple exponential basis"
   ]
  },
  {
   "cell_type": "markdown",
   "metadata": {},
   "source": [
    "\n",
    "$$ \\mathbf{A}\\mathbf{\\alpha} = \\mathbf{d}$$"
   ]
  },
  {
   "cell_type": "code",
   "execution_count": 5,
   "metadata": {
    "collapsed": true
   },
   "outputs": [],
   "source": [
    "time = np.cumsum(np.r_[0., 1e-5*np.ones(10), 5e-5*np.ones(10), 1e-4*np.ones(10), 5e-4*np.ones(10), 1e-3*np.ones(10)])\n",
    "# time = np.cumsum(np.r_[0., 1e-5*np.ones(10), 5e-5*np.ones(10),1e-4*np.ones(5)])\n",
    "M = 41\n",
    "tau = np.logspace(-4.1, -1, M)"
   ]
  },
  {
   "cell_type": "code",
   "execution_count": 16,
   "metadata": {
    "collapsed": true
   },
   "outputs": [],
   "source": [
    "from simpegem1d.Waveform import SineFun, SineFunDeriv, CausalConv\n",
    "dt = 1e-5\n",
    "P = meshtime.getInterpolationMat(time+t0, 'N')\n",
    "time_conv = meshtime.gridN\n",
    "t0 = 0.003\n",
    "currentderiv = SineFunDeriv(time_conv, t0)\n",
    "current = SineFun(time_conv, t0)"
   ]
  },
  {
   "cell_type": "code",
   "execution_count": 17,
   "metadata": {
    "collapsed": false
   },
   "outputs": [],
   "source": [
    "from SimPEG import Mesh\n",
    "meshtime = Mesh.TensorMesh([np.ones(2**12-1)*dt], x0=\"0\")"
   ]
  },
  {
   "cell_type": "code",
   "execution_count": 18,
   "metadata": {
    "collapsed": false
   },
   "outputs": [
    {
     "data": {
      "text/plain": [
       "[<matplotlib.lines.Line2D at 0x108484b50>]"
      ]
     },
     "execution_count": 18,
     "metadata": {},
     "output_type": "execute_result"
    },
    {
     "data": {
      "image/png": "[encoded data removed]",
      "text/plain": [
       "<matplotlib.figure.Figure at 0x10838b750>"
      ]
     },
     "metadata": {},
     "output_type": "display_data"
    }
   ],
   "source": [
    "temp = np.exp(-time_conv/1e-2)\n",
    "out = CausalConv(temp, currentderiv, time_conv)\n",
    "plt.plot(time_conv, currentderiv)"
   ]
  },
  {
   "cell_type": "code",
   "execution_count": 19,
   "metadata": {
    "collapsed": false
   },
   "outputs": [
    {
     "data": {
      "text/plain": [
       "[<matplotlib.lines.Line2D at 0x1085a6610>]"
      ]
     },
     "execution_count": 19,
     "metadata": {},
     "output_type": "execute_result"
    },
    {
     "data": {
      "image/png": "[encoded data removed]",
      "text/plain": [
       "<matplotlib.figure.Figure at 0x1084b2a90>"
      ]
     },
     "metadata": {},
     "output_type": "display_data"
    }
   ],
   "source": [
    "plt.plot(time_conv, out)"
   ]
  },
  {
   "cell_type": "code",
   "execution_count": 20,
   "metadata": {
    "collapsed": true
   },
   "outputs": [],
   "source": [
    "actind = time_conv>t0"
   ]
  },
  {
   "cell_type": "code",
   "execution_count": 21,
   "metadata": {
    "collapsed": false
   },
   "outputs": [
    {
     "data": {
      "text/plain": [
       "[<matplotlib.lines.Line2D at 0x1084d7790>]"
      ]
     },
     "execution_count": 21,
     "metadata": {},
     "output_type": "execute_result"
    },
    {
     "data": {
      "image/png": "[encoded data removed]",
      "text/plain": [
       "<matplotlib.figure.Figure at 0x1084bdf90>"
      ]
     },
     "metadata": {},
     "output_type": "display_data"
    }
   ],
   "source": [
    "plt.plot(time_conv[actind]-t0, -out[actind])\n",
    "plt.plot(time, -P*out, '.')"
   ]
  },
  {
   "cell_type": "code",
   "execution_count": 22,
   "metadata": {
    "collapsed": false
   },
   "outputs": [
    {
     "data": {
      "text/plain": [
       "(0.0, 0.040950000000001867)"
      ]
     },
     "execution_count": 22,
     "metadata": {},
     "output_type": "execute_result"
    }
   ],
   "source": [
    "time_conv.min(), time_conv.max()"
   ]
  },
  {
   "cell_type": "code",
   "execution_count": 23,
   "metadata": {
    "collapsed": false
   },
   "outputs": [],
   "source": [
    "N = time.size\n",
    "A = np.zeros((N, M))\n",
    "for j in range(M):\n",
    "    A[:,j] = P*(CausalConv(np.exp(-time_conv/tau[j]), -currentderiv, time_conv))"
   ]
  },
  {
   "cell_type": "code",
   "execution_count": 24,
   "metadata": {
    "collapsed": true
   },
   "outputs": [],
   "source": [
    "mtrue = np.zeros(M)"
   ]
  },
  {
   "cell_type": "code",
   "execution_count": 25,
   "metadata": {
    "collapsed": false
   },
   "outputs": [],
   "source": [
    "np.random.seed(1)\n",
    "inds = np.random.random_integers(0, 41, size=5)\n",
    "mtrue[inds] = np.r_[0.1, 2, 1, 4, 5]"
   ]
  },
  {
   "cell_type": "code",
   "execution_count": 26,
   "metadata": {
    "collapsed": true
   },
   "outputs": [],
   "source": [
    "out = np.dot(A,mtrue)"
   ]
  },
  {
   "cell_type": "code",
   "execution_count": 27,
   "metadata": {
    "collapsed": false
   },
   "outputs": [
    {
     "data": {
      "image/png": "[encoded data removed]",
      "text/plain": [
       "<matplotlib.figure.Figure at 0x108376b50>"
      ]
     },
     "metadata": {},
     "output_type": "display_data"
    }
   ],
   "source": [
    "fig = plt.figure(figsize=(6,4.5))\n",
    "ax = plt.subplot(111)\n",
    "\n",
    "for i, ind in enumerate(inds):\n",
    "    temp, dum, dum = mapDat(mtrue[inds][i]*np.exp(-time/tau[ind]), 1e-5, stretch=2)\n",
    "    plt.semilogx(time, temp, 'k', alpha = 0.5)    \n",
    "outmap, ticks, tickLabels = mapDat(out, 1e-5, stretch=2)    \n",
    "ax.semilogx(time, outmap, 'k', lw=2)\n",
    "ax.set_yticks(ticks)\n",
    "ax.set_yticklabels(tickLabels)\n",
    "# ax.set_ylim(ticks.min(), ticks.max())\n",
    "ax.set_ylim(ticks.min(), ticks.max())\n",
    "ax.set_xlim(time.min(), time.max())\n",
    "ax.grid(True)"
   ]
  },
  {
   "cell_type": "code",
   "execution_count": 28,
   "metadata": {
    "collapsed": true
   },
   "outputs": [],
   "source": [
    "# from pymatsolver import MumpsSolver"
   ]
  },
  {
   "cell_type": "code",
   "execution_count": 29,
   "metadata": {
    "collapsed": false
   },
   "outputs": [
    {
     "name": "stdout",
     "output_type": "stream",
     "text": [
      "SimPEG.InvProblem will set Regularization.mref to m0.\n",
      "SimPEG.InvProblem is setting bfgsH0 to the inverse of the eval2Deriv.\n",
      "                    ***Done using same solver as the problem***\n",
      "=============================== Projected GNCG ===============================\n",
      "  #     beta     phi_d     phi_m       f      |proj(x-g)-x|  LS    Comment   \n",
      "-----------------------------------------------------------------------------\n",
      "   0  1.00e-04  6.65e+03  0.00e+00  6.65e+03    4.19e+04      0              \n",
      "   1  1.00e-04  5.93e+03  1.94e-02  5.93e+03    2.85e+03      2              \n",
      "   2  1.00e-04  5.85e+03  3.60e-02  5.85e+03    2.53e+03      4   Skip BFGS  \n",
      "   3  5.00e-05  5.67e+03  6.36e-02  5.67e+03    2.30e+03      4   Skip BFGS  \n",
      "   4  5.00e-05  4.51e+03  6.10e-02  4.51e+03    2.94e+03      0              \n",
      "   5  5.00e-05  4.31e+03  9.57e-01  4.31e+03    7.37e+02      1              \n",
      "   6  2.50e-05  2.55e+03  9.19e-01  2.55e+03    9.81e+02      0              \n",
      "   7  2.50e-05  1.84e+03  3.16e+00  1.84e+03    2.88e+02      1              \n",
      "   8  2.50e-05  1.39e+03  9.63e+00  1.39e+03    4.39e+00      0   Skip BFGS  \n",
      "   9  1.25e-05  1.76e+02  1.19e+01  1.76e+02    4.87e+00      0              \n",
      "  10  1.25e-05  5.05e+01  9.60e+00  5.05e+01    4.54e+01      0   Skip BFGS  \n",
      "------------------------- STOP! -------------------------\n",
      "1 : |fc-fOld| = 0.0000e+00 <= tolF*(1+|f0|) = 6.6551e+02\n",
      "0 : |xc-x_last| = 2.2519e+00 <= tolX*(1+|x0|) = 1.0000e-01\n",
      "0 : |proj(x-g)-x|    = 4.5470e+01 <= tolG          = 1.0000e-01\n",
      "0 : |proj(x-g)-x|    = 4.5470e+01 <= 1e3*eps       = 1.0000e-02\n",
      "0 : maxIter   =      20    <= iter          =     11\n",
      "------------------------- DONE! -------------------------\n"
     ]
    }
   ],
   "source": [
    "mesh = Mesh.TensorMesh([M])\n",
    "prob = LinearProblem(mesh, A)\n",
    "survey = LinearSurvey(time)\n",
    "survey.pair(prob)\n",
    "survey.makeSyntheticData(mtrue, std=0.01)\n",
    "# survey.dobs = out\n",
    "reg = Regularization.BaseRegularization(mesh)\n",
    "dmis = DataMisfit.l2_DataMisfit(survey)\n",
    "dmis.Wd = 1./(0.05*abs(survey.dobs)+0.05*1e-2)\n",
    "opt = Optimization.ProjectedGNCG(maxIter=20)\n",
    "# opt = Optimization.InexactGaussNewton(maxIter=20)\n",
    "opt.lower = -1e-10\n",
    "invProb = InvProblem.BaseInvProblem(dmis, reg, opt)\n",
    "invProb.beta = 1e-4\n",
    "beta = Directives.BetaSchedule()\n",
    "beta.coolingFactor = 2\n",
    "target = Directives.TargetMisfit()\n",
    "inv = Inversion.BaseInversion(invProb, directiveList=[beta, target])\n",
    "m0 = np.zeros_like(survey.mtrue)\n",
    "mrec = inv.run(m0)"
   ]
  },
  {
   "cell_type": "code",
   "execution_count": 30,
   "metadata": {
    "collapsed": false
   },
   "outputs": [
    {
     "data": {
      "text/plain": [
       "[<matplotlib.lines.Line2D at 0x108a71f90>]"
      ]
     },
     "execution_count": 30,
     "metadata": {},
     "output_type": "execute_result"
    },
    {
     "data": {
      "image/png": "[encoded data removed]",
      "text/plain": [
       "<matplotlib.figure.Figure at 0x10838bf50>"
      ]
     },
     "metadata": {},
     "output_type": "display_data"
    }
   ],
   "source": [
    "plt.semilogx(tau, mtrue, '.')\n",
    "plt.semilogx(tau, mrec, '.')"
   ]
  },
  {
   "cell_type": "code",
   "execution_count": 31,
   "metadata": {
    "collapsed": false
   },
   "outputs": [
    {
     "data": {
      "image/png": "[encoded data removed]",
      "text/plain": [
       "<matplotlib.figure.Figure at 0x1090054d0>"
      ]
     },
     "metadata": {},
     "output_type": "display_data"
    }
   ],
   "source": [
    "fig = plt.figure(figsize=(6,4.5))\n",
    "ax = plt.subplot(111)\n",
    "obsmap, ticks, tickLabels = mapDat(survey.dobs, 1e0, stretch=2)    \n",
    "predmap, dum, dum = mapDat(invProb.dpred, 1e0, stretch=2)    \n",
    "ax.loglog(time, survey.dobs, 'k', lw=2)\n",
    "ax.loglog(time, invProb.dpred, 'k.', lw=2)\n",
    "# ax.set_yticks(ticks)\n",
    "# ax.set_yticklabels(tickLabels)\n",
    "# ax.set_ylim(ticks.min(), ticks.max())\n",
    "# ax.set_ylim(ticks.min(), ticks.max())\n",
    "ax.set_xlim(time.min(), time.max())\n",
    "ax.grid(True)"
   ]
  },
  {
   "cell_type": "code",
   "execution_count": null,
   "metadata": {
    "collapsed": true
   },
   "outputs": [],
   "source": []
  }
 ],
 "metadata": {
  "kernelspec": {
   "display_name": "Python 2",
   "language": "python",
   "name": "python2"
  },
  "language_info": {
   "codemirror_mode": {
    "name": "ipython",
    "version": 2
   },
   "file_extension": ".py",
   "mimetype": "text/x-python",
   "name": "python",
   "nbconvert_exporter": "python",
   "pygments_lexer": "ipython2",
   "version": "2.7.11"
  }
 },
 "nbformat": 4,
 "nbformat_minor": 0
}
