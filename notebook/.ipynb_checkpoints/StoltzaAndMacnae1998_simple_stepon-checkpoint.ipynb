{
 "cells": [
  {
   "cell_type": "code",
   "execution_count": 1,
   "metadata": {
    "collapsed": false
   },
   "outputs": [
    {
     "name": "stdout",
     "output_type": "stream",
     "text": [
      "Populating the interactive namespace from numpy and matplotlib\n"
     ]
    }
   ],
   "source": [
    "import numpy as np\n",
    "%pylab inline"
   ]
  },
  {
   "cell_type": "markdown",
   "metadata": {},
   "source": [
    "## $A(t,T) = \\Sigma_i A_i e^{-t/\\tau_i} / (1 + e^{-T/2\\tau_i})$"
   ]
  },
  {
   "cell_type": "code",
   "execution_count": 2,
   "metadata": {
    "collapsed": false
   },
   "outputs": [],
   "source": [
    "def AofT(time,T, ai, taui):\n",
    "    return ai*np.exp(-time/taui)/(1.+np.exp(-T/(2*taui)))"
   ]
  },
  {
   "cell_type": "code",
   "execution_count": 3,
   "metadata": {
    "collapsed": false
   },
   "outputs": [],
   "source": [
    "from SimPEG import *\n",
    "import sys\n",
    "sys.path.append(\"./DoubleLog/\")\n",
    "from plotting import mapDat"
   ]
  },
  {
   "cell_type": "code",
   "execution_count": 4,
   "metadata": {
    "collapsed": false
   },
   "outputs": [],
   "source": [
    "class LinearSurvey(Survey.BaseSurvey):\n",
    "    nD = None\n",
    "    def __init__(self, time, **kwargs): \n",
    "        self.time = time\n",
    "        self.nD = time.size\n",
    "        \n",
    "    def projectFields(self, u):\n",
    "        return u\n",
    "\n",
    "class LinearProblem(Problem.BaseProblem):\n",
    "\n",
    "    surveyPair = LinearSurvey\n",
    "\n",
    "    def __init__(self, mesh, G, **kwargs):\n",
    "        Problem.BaseProblem.__init__(self, mesh, **kwargs)\n",
    "        self.G = G\n",
    "\n",
    "    def fields(self, m, u=None):\n",
    "        return self.G.dot(m)\n",
    "\n",
    "    def Jvec(self, m, v, u=None):\n",
    "        return self.G.dot(v)\n",
    "\n",
    "    def Jtvec(self, m, v, u=None):\n",
    "        return self.G.T.dot(v)\n"
   ]
  },
  {
   "cell_type": "markdown",
   "metadata": {},
   "source": [
    "# Simple exponential basis"
   ]
  },
  {
   "cell_type": "markdown",
   "metadata": {},
   "source": [
    "\n",
    "$$ \\mathbf{A}\\mathbf{\\alpha} = \\mathbf{d}$$"
   ]
  },
  {
   "cell_type": "code",
   "execution_count": 5,
   "metadata": {
    "collapsed": false
   },
   "outputs": [],
   "source": [
    "# time = np.cumsum(np.r_[0., 1e-5*np.ones(10), 5e-5*np.ones(10), 1e-4*np.ones(10), 5e-4*np.ones(10), 1e-3*np.ones(10)])\n",
    "time = np.cumsum(np.r_[0., 1e-5*np.ones(10), 5e-5*np.ones(10),1e-4*np.ones(5)])\n",
    "M = 41\n",
    "tau = np.logspace(-4.1, -1, M)"
   ]
  },
  {
   "cell_type": "code",
   "execution_count": 6,
   "metadata": {
    "collapsed": false
   },
   "outputs": [],
   "source": [
    "N = time.size\n",
    "A = np.zeros((N, M))\n",
    "for j in range(M):\n",
    "    A[:,j] = np.exp(-time/tau[j])"
   ]
  },
  {
   "cell_type": "code",
   "execution_count": 7,
   "metadata": {
    "collapsed": true
   },
   "outputs": [],
   "source": [
    "mtrue = np.zeros(M)"
   ]
  },
  {
   "cell_type": "code",
   "execution_count": 8,
   "metadata": {
    "collapsed": false
   },
   "outputs": [],
   "source": [
    "np.random.seed(1)\n",
    "inds = np.random.random_integers(0, 41, size=5)\n",
    "mtrue[inds] = np.r_[-0.2, 2, 1, 4, 5]"
   ]
  },
  {
   "cell_type": "code",
   "execution_count": 9,
   "metadata": {
    "collapsed": true
   },
   "outputs": [],
   "source": [
    "out = np.dot(A,mtrue)"
   ]
  },
  {
   "cell_type": "code",
   "execution_count": 10,
   "metadata": {
    "collapsed": false
   },
   "outputs": [
    {
     "data": {
      "image/png": "[encoded data removed]",
      "text/plain": [
       "<matplotlib.figure.Figure at 0x10754dc50>"
      ]
     },
     "metadata": {},
     "output_type": "display_data"
    }
   ],
   "source": [
    "fig = plt.figure(figsize=(6,4.5))\n",
    "ax = plt.subplot(111)\n",
    "\n",
    "for i, ind in enumerate(inds):\n",
    "    temp, dum, dum = mapDat(mtrue[inds][i]*np.exp(-time/tau[ind]), 1e-5, stretch=2)\n",
    "    plt.semilogx(time, temp, 'k', alpha = 0.5)    \n",
    "outmap, ticks, tickLabels = mapDat(out, 1e-5, stretch=2)    \n",
    "ax.semilogx(time, outmap, 'k', lw=2)\n",
    "ax.set_yticks(ticks)\n",
    "ax.set_yticklabels(tickLabels)\n",
    "# ax.set_ylim(ticks.min(), ticks.max())\n",
    "ax.set_ylim(ticks.min(), ticks.max())\n",
    "ax.set_xlim(time.min(), time.max())\n",
    "ax.grid(True)"
   ]
  },
  {
   "cell_type": "code",
   "execution_count": 11,
   "metadata": {
    "collapsed": true
   },
   "outputs": [],
   "source": [
    "# from pymatsolver import MumpsSolver"
   ]
  },
  {
   "cell_type": "code",
   "execution_count": 12,
   "metadata": {
    "collapsed": false
   },
   "outputs": [
    {
     "name": "stdout",
     "output_type": "stream",
     "text": [
      "SimPEG.InvProblem will set Regularization.mref to m0.\n",
      "SimPEG.InvProblem is setting bfgsH0 to the inverse of the eval2Deriv.\n",
      "                    ***Done using same solver as the problem***\n",
      "=============================== Projected GNCG ===============================\n",
      "  #     beta     phi_d     phi_m       f      |proj(x-g)-x|  LS    Comment   \n",
      "-----------------------------------------------------------------------------\n",
      "   0  1.00e-04  5.18e+03  0.00e+00  5.18e+03    1.10e+04      0              \n",
      "   1  1.00e-04  9.71e+02  5.19e+00  9.71e+02    3.22e+00      0              \n",
      "   2  1.00e-04  1.35e+02  4.51e+00  1.35e+02    3.00e+00      0              \n",
      "   3  5.00e-05  8.95e+01  5.60e+00  8.95e+01    3.35e+00      0   Skip BFGS  \n",
      "   4  5.00e-05  5.10e+01  5.28e+00  5.10e+01    1.80e+01      0   Skip BFGS  \n",
      "   5  5.00e-05  4.72e+01  6.85e+00  4.72e+01    3.70e+00      1              \n",
      "   6  2.50e-05  1.86e+01  6.32e+00  1.86e+01    2.03e+01      0              \n",
      "   7  2.50e-05  1.34e+01  7.28e+00  1.34e+01    3.82e+00      2              \n",
      "------------------------- STOP! -------------------------\n",
      "1 : |fc-fOld| = 0.0000e+00 <= tolF*(1+|f0|) = 5.1779e+02\n",
      "0 : |xc-x_last| = 5.6126e-01 <= tolX*(1+|x0|) = 1.0000e-01\n",
      "0 : |proj(x-g)-x|    = 4.0853e+00 <= tolG          = 1.0000e-01\n",
      "0 : |proj(x-g)-x|    = 4.0853e+00 <= 1e3*eps       = 1.0000e-02\n",
      "0 : maxIter   =      20    <= iter          =      8\n",
      "------------------------- DONE! -------------------------\n"
     ]
    }
   ],
   "source": [
    "mesh = Mesh.TensorMesh([M])\n",
    "prob = LinearProblem(mesh, A)\n",
    "survey = LinearSurvey(time)\n",
    "survey.pair(prob)\n",
    "survey.makeSyntheticData(mtrue, std=0.01)\n",
    "# survey.dobs = out\n",
    "reg = Regularization.BaseRegularization(mesh)\n",
    "dmis = DataMisfit.l2_DataMisfit(survey)\n",
    "dmis.Wd = 1./(0.05*abs(survey.dobs)+0.05*1e-2)\n",
    "opt = Optimization.ProjectedGNCG(maxIter=20)\n",
    "# opt = Optimization.InexactGaussNewton(maxIter=20)\n",
    "opt.lower = -1e-10\n",
    "invProb = InvProblem.BaseInvProblem(dmis, reg, opt)\n",
    "invProb.beta = 1e-4\n",
    "beta = Directives.BetaSchedule()\n",
    "beta.coolingFactor = 2\n",
    "target = Directives.TargetMisfit()\n",
    "inv = Inversion.BaseInversion(invProb, directiveList=[beta, target])\n",
    "m0 = np.zeros_like(survey.mtrue)\n",
    "mrec = inv.run(m0)"
   ]
  },
  {
   "cell_type": "code",
   "execution_count": 13,
   "metadata": {
    "collapsed": false
   },
   "outputs": [
    {
     "data": {
      "text/plain": [
       "[<matplotlib.lines.Line2D at 0x107706210>]"
      ]
     },
     "execution_count": 13,
     "metadata": {},
     "output_type": "execute_result"
    },
    {
     "data": {
      "image/png": "[encoded data removed]",
      "text/plain": [
       "<matplotlib.figure.Figure at 0x1076e7290>"
      ]
     },
     "metadata": {},
     "output_type": "display_data"
    }
   ],
   "source": [
    "plt.semilogx(tau, mtrue, '.')\n",
    "plt.semilogx(tau, mrec, '.')"
   ]
  },
  {
   "cell_type": "code",
   "execution_count": 14,
   "metadata": {
    "collapsed": false
   },
   "outputs": [
    {
     "data": {
      "image/png": "[encoded data removed]",
      "text/plain": [
       "<matplotlib.figure.Figure at 0x107f4f150>"
      ]
     },
     "metadata": {},
     "output_type": "display_data"
    }
   ],
   "source": [
    "fig = plt.figure(figsize=(6,4.5))\n",
    "ax = plt.subplot(111)\n",
    "obsmap, ticks, tickLabels = mapDat(survey.dobs, 1e0, stretch=2)    \n",
    "predmap, dum, dum = mapDat(invProb.dpred, 1e0, stretch=2)    \n",
    "ax.loglog(time, survey.dobs, 'k', lw=2)\n",
    "ax.loglog(time, invProb.dpred, 'k.', lw=2)\n",
    "# ax.set_yticks(ticks)\n",
    "# ax.set_yticklabels(tickLabels)\n",
    "# ax.set_ylim(ticks.min(), ticks.max())\n",
    "# ax.set_ylim(ticks.min(), ticks.max())\n",
    "ax.set_xlim(time.min(), time.max())\n",
    "ax.grid(True)"
   ]
  },
  {
   "cell_type": "code",
   "execution_count": 15,
   "metadata": {
    "collapsed": true
   },
   "outputs": [],
   "source": [
    "time = np.cumsum(np.r_[0., 1e-5*np.ones(10), 5e-5*np.ones(10), 1e-4*np.ones(10), 5e-4*np.ones(10), 1e-3*np.ones(10)])\n",
    "N = time.size\n",
    "A = np.zeros((N, M))\n",
    "for j in range(M):\n",
    "    A[:,j] = np.exp(-time/tau[j])"
   ]
  },
  {
   "cell_type": "code",
   "execution_count": 16,
   "metadata": {
    "collapsed": true
   },
   "outputs": [],
   "source": [
    "mfund = mtrue.copy()\n",
    "mfund[mfund<0.] = 0.\n",
    "obs = np.dot(A, mtrue)\n",
    "fund = np.dot(A, mfund)\n",
    "pred = np.dot(A, mrec)"
   ]
  },
  {
   "cell_type": "code",
   "execution_count": 17,
   "metadata": {
    "collapsed": true
   },
   "outputs": [],
   "source": [
    "ip = obs-fund\n",
    "ipobs = obs-pred"
   ]
  },
  {
   "cell_type": "code",
   "execution_count": 19,
   "metadata": {
    "collapsed": false
   },
   "outputs": [
    {
     "data": {
      "text/plain": [
       "(1.0000000000000001e-05, 0.016600000000000007)"
      ]
     },
     "execution_count": 19,
     "metadata": {},
     "output_type": "execute_result"
    },
    {
     "data": {
      "image/png": "[encoded data removed]",
      "text/plain": [
       "<matplotlib.figure.Figure at 0x107adaed0>"
      ]
     },
     "metadata": {},
     "output_type": "display_data"
    }
   ],
   "source": [
    "plt.loglog(time, obs, 'k.-', lw=2)\n",
    "plt.loglog(time, -obs, 'k--', lw=2)\n",
    "plt.loglog(time, fund, 'b.', lw=2)\n",
    "plt.loglog(time, pred, 'b-', lw=2)\n",
    "plt.loglog(time, -ip, 'r--', lw=2)\n",
    "plt.loglog(time, abs(ipobs), 'r.', lw=2)\n",
    "plt.ylim(abs(obs).min(), abs(obs).max())\n",
    "plt.xlim(time.min(), time.max())"
   ]
  },
  {
   "cell_type": "markdown",
   "metadata": {},
   "source": [
    "## Range of tau is really important to fit ..."
   ]
  },
  {
   "cell_type": "code",
   "execution_count": null,
   "metadata": {
    "collapsed": true
   },
   "outputs": [],
   "source": []
  }
 ],
 "metadata": {
  "kernelspec": {
   "display_name": "Python 2",
   "language": "python",
   "name": "python2"
  },
  "language_info": {
   "codemirror_mode": {
    "name": "ipython",
    "version": 2
   },
   "file_extension": ".py",
   "mimetype": "text/x-python",
   "name": "python",
   "nbconvert_exporter": "python",
   "pygments_lexer": "ipython2",
   "version": "2.7.11"
  }
 },
 "nbformat": 4,
 "nbformat_minor": 0
}
