{
 "cells": [
  {
   "cell_type": "code",
   "execution_count": 10,
   "metadata": {
    "collapsed": false
   },
   "outputs": [],
   "source": [
    "from SimPEG import *\n",
    "from simpegAIP.TD import ProblemATEMIP_b, ColeColeTimeMap\n",
    "from SimPEG import EM\n",
    "from pymatsolver import MumpsSolver\n",
    "from scipy.constants import mu_0\n",
    "from EMTD.Utils import hzAnalyticDipoleT_CC"
   ]
  },
  {
   "cell_type": "code",
   "execution_count": 24,
   "metadata": {
    "collapsed": false
   },
   "outputs": [],
   "source": [
    "cs, ncx, ncz, npad = 25., 25, 20, 15\n",
    "hx = [(cs,ncx), (cs,npad,1.3)]\n",
    "hz = [(cs,npad,-1.3), (cs,ncz), (cs,npad,1.3)]\n",
    "mesh = Mesh.CylMesh([hx,1,hz], '00C')    \n",
    "sighalf = 1e-2\n",
    "siginf = np.ones(mesh.nC)*1e-8\n",
    "siginf[mesh.gridCC[:,-1]<0.] = sighalf\n",
    "eta = np.ones(mesh.nC)*0.2\n",
    "tau = np.ones(mesh.nC)*0.005\n",
    "c = np.ones(mesh.nC)*0.7\n",
    "m = np.r_[siginf, eta, tau, c]\n",
    "mapping = ColeColeTimeMap(mesh)\n",
    "prob = ProblemATEMIP_b(mesh, mapping=mapping)\n",
    "waveformType=\"STEPOFF\"\n",
    "prob.timeSteps = [(1e-6, 20), (1e-5, 20), (1e-4, 20), (1e-3, 10)]\n",
    "tobs = np.logspace(-4, -2, 21)\n",
    "offset = 50.\n",
    "rx = EM.TDEM.RxTDEM(np.array([[offset, 0., 0.]]), tobs, \"bz\")\n",
    "# src = EM.TDEM.SrcTDEM_CircularLoop_MVP([rx], np.array([[0., 0., 0.]]), 13., waveformType)\n",
    "src = EM.TDEM.SrcTDEM_VMD_MVP([rx], np.array([[0., 0., 0.]]), waveformType=waveformType)\n",
    "survey = EM.TDEM.SurveyTDEM([src])\n",
    "prob.Solver = MumpsSolver\n",
    "prob.pair(survey)"
   ]
  },
  {
   "cell_type": "code",
   "execution_count": 25,
   "metadata": {
    "collapsed": false
   },
   "outputs": [
    {
     "name": "stdout",
     "output_type": "stream",
     "text": [
      ">> Step waveform: Non-zero initial condition\n"
     ]
    }
   ],
   "source": [
    "out = survey.dpred(m)"
   ]
  },
  {
   "cell_type": "code",
   "execution_count": 26,
   "metadata": {
    "collapsed": false
   },
   "outputs": [],
   "source": [
    "bza = mu_0*hzAnalyticDipoleT_CC(offset, rx.times, sigmaInf=sighalf, eta=eta[0], tau=tau[0], c=c[0])"
   ]
  },
  {
   "cell_type": "code",
   "execution_count": 27,
   "metadata": {
    "collapsed": false
   },
   "outputs": [
    {
     "name": "stdout",
     "output_type": "stream",
     "text": [
      "Populating the interactive namespace from numpy and matplotlib\n"
     ]
    },
    {
     "data": {
      "text/plain": [
       "[<matplotlib.lines.Line2D at 0x10cb211d0>]"
      ]
     },
     "execution_count": 27,
     "metadata": {},
     "output_type": "execute_result"
    },
    {
     "data": {
      "image/png": "[encoded data removed]",
      "text/plain": [
       "<matplotlib.figure.Figure at 0x10ad61290>"
      ]
     },
     "metadata": {},
     "output_type": "display_data"
    }
   ],
   "source": [
    "%pylab inline\n",
    "plt.loglog(rx.times, out, 'k')\n",
    "plt.loglog(rx.times, -out, 'k--')\n",
    "plt.loglog(rx.times, bza, 'r.')\n",
    "plt.loglog(rx.times, -bza, 'r.')"
   ]
  },
  {
   "cell_type": "code",
   "execution_count": 30,
   "metadata": {
    "collapsed": false
   },
   "outputs": [
    {
     "name": "stdout",
     "output_type": "stream",
     "text": [
      "0.147401292841\n"
     ]
    }
   ],
   "source": [
    "err = np.linalg.norm(bza-out)/np.linalg.norm(bza)\n",
    "print err"
   ]
  },
  {
   "cell_type": "code",
   "execution_count": 157,
   "metadata": {
    "collapsed": false
   },
   "outputs": [],
   "source": [
    "import numpy as np\n",
    "from SimPEG.Mesh import CylMesh\n",
    "from SimPEG.Utils import meshTensor\n",
    "from EMTD.Utils import hzAnalyticDipoleT_CC\n",
    "from scipy.constants import mu_0\n",
    "import matplotlib.pyplot as plt\n",
    "\n",
    "# flag = \"waveform\"\n",
    "flag = \"STEPOFF\"\n",
    "## Setup up models\n",
    "times = [np.r_[1e-5, 1e-4, 1e-3], \n",
    "         np.r_[20, 20,  10]]       \n",
    "em = EMTD_bConv_waveform()\n",
    "em.mesh = mesh\n",
    "em.sigmaInf = siginf\n",
    "em.eta = eta\n",
    "em.tau = tau\n",
    "em.c = np.ones_like(eta)*0.7\n",
    "em.txLoc = np.array([[0., 0., 0.]])\n",
    "em.rxLoc = np.array([[0., 0., 0.]])\n",
    "em.RxType = 'Fz'\n",
    "em.setTimes(times[0], times[1])\n",
    "em.waveform = \"STEPOFF\"\n",
    "em.sourceType = \"hLoop\"\n",
    "em.loopRadius = 13."
   ]
  },
  {
   "cell_type": "code",
   "execution_count": null,
   "metadata": {
    "collapsed": true
   },
   "outputs": [],
   "source": []
  },
  {
   "cell_type": "code",
   "execution_count": 158,
   "metadata": {
    "collapsed": false
   },
   "outputs": [
    {
     "name": "stdout",
     "output_type": "stream",
     "text": [
      ">>Initial fields: use STEPOFF\n",
      "Factoring 1 of 3...\n",
      "Factor time:  0.0154509544373\n",
      "Done @ 2016-02-03 22:58:17.997055\n",
      ">> Initialize e\n",
      "Factoring 2 of 3...\n",
      "Factor time:  0.00993585586548\n",
      "Done @ 2016-02-03 22:58:22.896852\n",
      "Factoring 3 of 3...\n",
      "Factor time:  0.00957989692688\n",
      "Done @ 2016-02-03 22:58:29.864484\n",
      "FactorTime 0.0349667072296\n",
      "RhsTime 9.33849406242\n",
      "SolveTime 0.0867998600006\n",
      "UpdateTime 5.40082263947\n",
      "TimeAll 15.7640578747\n"
     ]
    }
   ],
   "source": [
    "em.runMUMPS()"
   ]
  },
  {
   "cell_type": "code",
   "execution_count": 167,
   "metadata": {
    "collapsed": false
   },
   "outputs": [
    {
     "name": "stdout",
     "output_type": "stream",
     "text": [
      "Populating the interactive namespace from numpy and matplotlib\n"
     ]
    },
    {
     "data": {
      "text/plain": [
       "[<matplotlib.lines.Line2D at 0x11c4ef6d0>]"
      ]
     },
     "execution_count": 167,
     "metadata": {},
     "output_type": "execute_result"
    },
    {
     "data": {
      "image/png": "[encoded data removed]",
      "text/plain": [
       "<matplotlib.figure.Figure at 0x11b04f2d0>"
      ]
     },
     "metadata": {},
     "output_type": "display_data"
    }
   ],
   "source": [
    "%pylab inline\n",
    "plt.loglog(rx.times, out, 'k')\n",
    "plt.loglog(rx.times, -out, 'k--')\n",
    "plt.loglog(em.tCalc, em.data, 'r.')\n",
    "plt.loglog(em.tCalc, -em.data, 'r.')"
   ]
  },
  {
   "cell_type": "code",
   "execution_count": null,
   "metadata": {
    "collapsed": true
   },
   "outputs": [],
   "source": []
  }
 ],
 "metadata": {
  "kernelspec": {
   "display_name": "Python 2",
   "language": "python",
   "name": "python2"
  },
  "language_info": {
   "codemirror_mode": {
    "name": "ipython",
    "version": 2
   },
   "file_extension": ".py",
   "mimetype": "text/x-python",
   "name": "python",
   "nbconvert_exporter": "python",
   "pygments_lexer": "ipython2",
   "version": "2.7.11"
  }
 },
 "nbformat": 4,
 "nbformat_minor": 0
}
