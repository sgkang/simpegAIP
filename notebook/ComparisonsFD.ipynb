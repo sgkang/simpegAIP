{
 "cells": [
  {
   "cell_type": "code",
   "execution_count": 3,
   "metadata": {
    "collapsed": false
   },
   "outputs": [
    {
     "name": "stdout",
     "output_type": "stream",
     "text": [
      "Populating the interactive namespace from numpy and matplotlib\n"
     ]
    },
    {
     "name": "stderr",
     "output_type": "stream",
     "text": [
      "WARNING: pylab import has clobbered these variables: ['linalg']\n",
      "`%matplotlib` prevents importing * from pylab and numpy\n"
     ]
    }
   ],
   "source": [
    "from SimPEG import *\n",
    "from simpegAIP.FD import AFEMIPProblem_b\n",
    "from SimPEG import EM\n",
    "from pymatsolver import MumpsSolver\n",
    "from scipy.constants import mu_0\n",
    "from simpegAIP.FD import ColeColePropMap\n",
    "from simpegAIP.FD.Utils import hzAnalyticDipoleF_CC, hzAnalyticCentLoopF_CC\n",
    "from scipy.constants import mu_0\n",
    "%pylab inline"
   ]
  },
  {
   "cell_type": "code",
   "execution_count": 4,
   "metadata": {
    "collapsed": false
   },
   "outputs": [],
   "source": [
    "from simpegAIP.FD.Utils import ColeColePelton"
   ]
  },
  {
   "cell_type": "code",
   "execution_count": 5,
   "metadata": {
    "collapsed": false
   },
   "outputs": [],
   "source": [
    "cs, ncx, ncz, npad = 10, 25, 20, 20\n",
    "hx = [(cs,ncx), (cs,npad,1.3)]\n",
    "hz = [(cs,npad,-1.3), (cs,ncz), (cs,npad,1.3)]\n",
    "mesh = Mesh.CylMesh([hx,1,hz], '00C')    \n",
    "sighalf = 1e-3\n",
    "siginf = np.ones(mesh.nC)*1e-8\n",
    "siginf[mesh.gridCC[:,-1]<0.] = sighalf\n",
    "eta = np.ones(mesh.nC)*0.1\n",
    "tau = np.ones(mesh.nC)*0.001\n",
    "c = np.ones(mesh.nC)*0.7\n",
    "m = np.r_[siginf, eta, tau, c]\n",
    "# m0 = np.r_[siginf, eta*0., tau, c]\n",
    "# mapping = ColeColeMap(mesh)"
   ]
  },
  {
   "cell_type": "code",
   "execution_count": 6,
   "metadata": {
    "collapsed": true
   },
   "outputs": [],
   "source": [
    "from simpegAIP.FD.Utils import ColeColePelton, ColeColeSeigel"
   ]
  },
  {
   "cell_type": "code",
   "execution_count": 18,
   "metadata": {
    "collapsed": false
   },
   "outputs": [],
   "source": [
    "offset = 0.\n",
    "frequency = np.logspace(1, 4, 41)\n",
    "rx0 = EM.FDEM.Rx(np.array([[0., 0., 0.]]), 'bzr_sec')\n",
    "rx1 = EM.FDEM.Rx(np.array([[0., 0., 0.]]), 'bzi_sec')\n",
    "srcLists = []\n",
    "nfreq = frequency.size\n",
    "for ifreq in range(nfreq):\n",
    "    src = EM.FDEM.Src.CircularLoop([rx0, rx1], frequency[ifreq], np.array([[0., 0., 0.]]), radius=13.)\n",
    "    srcLists.append(src)\n",
    "survey = EM.FDEM.Survey(srcLists)\n",
    "# sigmaBase = runPrevInv()\n",
    "# maps = [('eta', iMap), ('tau', iMap), ('c', iMap)]\n",
    "maps = [('sigmaInf', iMap), ('eta', iMap), ('tau', iMap), ('c', iMap)]\n",
    "# mapping = {'maps':maps, 'slices':{}, 'defaults':{\"sigmaInf\":sigmaBase}}\n",
    "prob = AFEMIPProblem_b(mesh, mapping=maps)\n",
    "iMap = Maps.IdentityMap(nP=int(mesh.nC))\n",
    "\n",
    "# prob.setPropMap(mapsdict)\n",
    "prob.Solver = MumpsSolver\n",
    "survey.pair(prob)"
   ]
  },
  {
   "cell_type": "code",
   "execution_count": null,
   "metadata": {
    "collapsed": true
   },
   "outputs": [],
   "source": []
  },
  {
   "cell_type": "code",
   "execution_count": 21,
   "metadata": {
    "collapsed": false
   },
   "outputs": [],
   "source": [
    "obs = survey.dpred(m)\n",
    "OBS = obs.reshape((nfreq, 2))"
   ]
  },
  {
   "cell_type": "code",
   "execution_count": 22,
   "metadata": {
    "collapsed": false
   },
   "outputs": [],
   "source": [
    "bza = mu_0*hzAnalyticCentLoopF_CC(src.radius, frequency, sigmaInf=sighalf, eta=eta[0], tau=tau[0], c=c[0])\n",
    "bzem = mu_0*hzAnalyticCentLoopF_CC(src.radius, frequency, sigmaInf=sighalf, eta=eta[0]*0., tau=tau[0], c=c[0])"
   ]
  },
  {
   "cell_type": "code",
   "execution_count": 23,
   "metadata": {
    "collapsed": false
   },
   "outputs": [
    {
     "data": {
      "text/plain": [
       "[<matplotlib.lines.Line2D at 0x109ef1510>]"
      ]
     },
     "execution_count": 23,
     "metadata": {},
     "output_type": "execute_result"
    },
    {
     "data": {
      "image/png": "[encoded data removed]",
      "text/plain": [
       "<matplotlib.figure.Figure at 0x109fc1410>"
      ]
     },
     "metadata": {},
     "output_type": "display_data"
    }
   ],
   "source": [
    "# plt.loglog(frequency, -bza.real)\n",
    "plt.loglog(frequency, abs(bza.imag), 'k')\n",
    "plt.loglog(frequency, abs(OBS[:,1]), 'k.')"
   ]
  },
  {
   "cell_type": "code",
   "execution_count": 24,
   "metadata": {
    "collapsed": false
   },
   "outputs": [
    {
     "data": {
      "text/plain": [
       "[<matplotlib.lines.Line2D at 0x10bee75d0>]"
      ]
     },
     "execution_count": 24,
     "metadata": {},
     "output_type": "execute_result"
    },
    {
     "data": {
      "image/png": "[encoded data removed]",
      "text/plain": [
       "<matplotlib.figure.Figure at 0x10a134cd0>"
      ]
     },
     "metadata": {},
     "output_type": "display_data"
    }
   ],
   "source": [
    "plt.loglog(frequency, abs(bza.real), 'k-')\n",
    "plt.loglog(frequency, abs(OBS[:,0]), '.')"
   ]
  },
  {
   "cell_type": "code",
   "execution_count": null,
   "metadata": {
    "collapsed": true
   },
   "outputs": [],
   "source": []
  }
 ],
 "metadata": {
  "kernelspec": {
   "display_name": "Python 2",
   "language": "python",
   "name": "python2"
  },
  "language_info": {
   "codemirror_mode": {
    "name": "ipython",
    "version": 2
   },
   "file_extension": ".py",
   "mimetype": "text/x-python",
   "name": "python",
   "nbconvert_exporter": "python",
   "pygments_lexer": "ipython2",
   "version": "2.7.11"
  }
 },
 "nbformat": 4,
 "nbformat_minor": 0
}
