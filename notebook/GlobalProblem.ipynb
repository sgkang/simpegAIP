{
 "cells": [
  {
   "cell_type": "code",
   "execution_count": 28,
   "metadata": {
    "collapsed": false
   },
   "outputs": [],
   "source": [
    "from SimPEG import *\n",
    "from SimPEG import EM\n",
    "from scipy.constants import mu_0\n",
    "from pymatsolver import MumpsSolver\n",
    "import numpy as np\n",
    "from SimPEG.Problem import GlobalProblem as GlobalProblem"
   ]
  },
  {
   "cell_type": "code",
   "execution_count": 30,
   "metadata": {
    "collapsed": true
   },
   "outputs": [],
   "source": [
    "from scipy.constants import mu_0\n",
    "def genTensorMesh(locs, sigma=1e-3, t=1e-2, dx=np.r_[50., 50., 50.], ncx=5,ncy=5,ncz=4,npad=8):    \n",
    "    difdist = np.sqrt(2*t/mu_0/sigma)\n",
    "    hx = [(dx[0],npad,-1.3), (dx[0],ncx), (dx[0],npad,1.3)]\n",
    "    hy = [(dx[1],npad,-1.3), (dx[1],ncy), (dx[1],npad,1.3)]\n",
    "#     hz = [(dx[2],npad,-1.3), (dx[2],ncz),(dx[2]*0.5, 4),(dx[2],ncz),(dx[2],npad,1.3)]\n",
    "    hz = [(dx[2],npad-2,-1.3), (dx[2],ncz), (dx[2],ncz),(dx[2],npad-2,1.3)]    \n",
    "    mesh = Mesh.TensorMesh([hx, hy, hz], x0=\"CCC\")\n",
    "    mesh._x0 += locs\n",
    "    return mesh    "
   ]
  },
  {
   "cell_type": "code",
   "execution_count": 31,
   "metadata": {
    "collapsed": true
   },
   "outputs": [],
   "source": [
    "hx = np.ones(10)*50\n",
    "meshsurvey = Mesh.TensorMesh([hx], \"C\")\n",
    "locs = np.c_[meshsurvey.gridCC, np.ones(meshsurvey.nC)*0., np.ones(meshsurvey.nC)]\n",
    "itx = Utils.closestPoints(meshsurvey, np.r_[0.])[0]"
   ]
  },
  {
   "cell_type": "code",
   "execution_count": 32,
   "metadata": {
    "collapsed": false
   },
   "outputs": [
    {
     "name": "stdout",
     "output_type": "stream",
     "text": [
      "Populating the interactive namespace from numpy and matplotlib\n"
     ]
    },
    {
     "name": "stderr",
     "output_type": "stream",
     "text": [
      "WARNING: pylab import has clobbered these variables: ['linalg']\n",
      "`%matplotlib` prevents importing * from pylab and numpy\n"
     ]
    }
   ],
   "source": [
    "%pylab inline"
   ]
  },
  {
   "cell_type": "markdown",
   "metadata": {},
   "source": [
    "# Step1: set up survey"
   ]
  },
  {
   "cell_type": "code",
   "execution_count": 33,
   "metadata": {
    "collapsed": false
   },
   "outputs": [],
   "source": [
    "# mesh = Mesh.TensorMesh.readUBC(\"./models/mesh_composite.msh\")\n",
    "# sigma = mesh.readModelUBC(\"./models/sigmaInf_composite_cond.con\")"
   ]
  },
  {
   "cell_type": "code",
   "execution_count": 34,
   "metadata": {
    "collapsed": true
   },
   "outputs": [],
   "source": [
    "cs, ncx, ncy, ncz, npad = 50., 12, 12, 16, 8\n",
    "hx = [(cs,npad,-1.3), (cs,ncx), (cs,npad,1.3)]\n",
    "hy = [(cs,npad,-1.3), (cs,ncy), (cs,npad,1.3)]\n",
    "hz = [(cs,npad,-1.3), (cs,ncz), (cs,npad,1.3)]"
   ]
  },
  {
   "cell_type": "code",
   "execution_count": 35,
   "metadata": {
    "collapsed": true
   },
   "outputs": [],
   "source": [
    "mesh = Mesh.TensorMesh([hx, hy, hz], \"CCC\")"
   ]
  },
  {
   "cell_type": "code",
   "execution_count": 36,
   "metadata": {
    "collapsed": false
   },
   "outputs": [],
   "source": [
    "sigma = np.ones(mesh.nC)*1e-8\n",
    "sigma[mesh.gridCC[:,2]<0.] = 1e-3\n",
    "blk = Utils.ModelBuilder.getIndicesBlock(np.r_[-100., 100., -50.], np.r_[100., -100., -250.], mesh.gridCC)\n",
    "sigma[blk] = 1e-1"
   ]
  },
  {
   "cell_type": "code",
   "execution_count": 40,
   "metadata": {
    "collapsed": false
   },
   "outputs": [
    {
     "name": "stdout",
     "output_type": "stream",
     "text": [
      "-125.0\n"
     ]
    },
    {
     "data": {
      "text/plain": [
       "(-1200, 1200)"
      ]
     },
     "execution_count": 40,
     "metadata": {},
     "output_type": "execute_result"
    },
    {
     "data": {
      "image/png": "[encoded data removed]",
      "text/plain": [
       "<matplotlib.figure.Figure at 0x108348390>"
      ]
     },
     "metadata": {},
     "output_type": "display_data"
    }
   ],
   "source": [
    "print mesh.vectorCCz[13]\n",
    "mesh.plotSlice(np.log10(sigma), ind=13, grid=True, clim=(-4, -1))\n",
    "plt.plot(locs[:,0], locs[:,1], '.')\n",
    "xlim(-1200, 1200)\n",
    "ylim(-1200, 1200)"
   ]
  },
  {
   "cell_type": "code",
   "execution_count": 38,
   "metadata": {
    "collapsed": false
   },
   "outputs": [
    {
     "name": "stdout",
     "output_type": "stream",
     "text": [
      "-125.0\n"
     ]
    },
    {
     "data": {
      "text/plain": [
       "(-1200, 0.0)"
      ]
     },
     "execution_count": 38,
     "metadata": {},
     "output_type": "execute_result"
    },
    {
     "data": {
      "image/png": "[encoded data removed]",
      "text/plain": [
       "<matplotlib.figure.Figure at 0x1074710d0>"
      ]
     },
     "metadata": {},
     "output_type": "display_data"
    }
   ],
   "source": [
    "print mesh.vectorCCz[13]\n",
    "mesh.plotSlice(np.log10(sigma), ind=13,normal='X', grid=True, clim=(-4, -1))\n",
    "plt.plot(locs[:,0], locs[:,1], '.')\n",
    "plt.plot(locs[itx,0], locs[itx,1], 'ro')\n",
    "xlim(-1200, 1200)\n",
    "ylim(-1200, 0.)"
   ]
  },
  {
   "cell_type": "markdown",
   "metadata": {},
   "source": [
    "## Generate submeshes and mapping"
   ]
  },
  {
   "cell_type": "code",
   "execution_count": 42,
   "metadata": {
    "collapsed": false
   },
   "outputs": [],
   "source": [
    "submeshes = []\n",
    "submaps = []\n",
    "ntx = locs.shape[0]\n",
    "inactind = mesh.gridCC[:,2] > 0.\n",
    "for itx in range(ntx):\n",
    "    meshsub = genTensorMesh(locs[itx,:])\n",
    "    inactindsub = meshsub.gridCC[:,2] > 0.\n",
    "    M2Mmap = Maps.Mesh2MeshTopo([mesh, meshsub], [~inactind, ~inactindsub])\n",
    "    actmap = Maps.ActiveCells(meshsub, ~inactindsub, 1e-8)\n",
    "#     expmap = Maps.ExpMap(meshsub)\n",
    "#     mapping = expmap*actmap*M2Mmap\n",
    "    mapping = actmap*M2Mmap\n",
    "    submaps.append(mapping)\n",
    "    submeshes.append(meshsub)"
   ]
  },
  {
   "cell_type": "code",
   "execution_count": 50,
   "metadata": {
    "collapsed": false
   },
   "outputs": [],
   "source": [
    "def fun(itx=0):\n",
    "#     itx = 3\n",
    "    condsub = submaps[itx]*sigma[~inactind]\n",
    "    print submeshes[itx].vectorCCz[7]\n",
    "    submeshes[itx].plotSlice(np.log10(condsub), ind=7, grid=True, clim=(-4, -1))\n",
    "    plt.plot(locs[:,0], locs[:,1], '.')\n",
    "    plt.plot(locs[itx,0], locs[itx,1], 'ro')\n",
    "    xlim(-1200, 1200)\n",
    "    ylim(-1200, 1200)\n"
   ]
  },
  {
   "cell_type": "code",
   "execution_count": 51,
   "metadata": {
    "collapsed": true
   },
   "outputs": [],
   "source": [
    "from ipywidgets import interact"
   ]
  },
  {
   "cell_type": "code",
   "execution_count": 54,
   "metadata": {
    "collapsed": false
   },
   "outputs": [
    {
     "name": "stdout",
     "output_type": "stream",
     "text": [
      "-124.0\n"
     ]
    },
    {
     "data": {
      "text/plain": [
       "<function __main__.fun>"
      ]
     },
     "execution_count": 54,
     "metadata": {},
     "output_type": "execute_result"
    },
    {
     "data": {
      "image/png": "[encoded data removed]",
      "text/plain": [
       "<matplotlib.figure.Figure at 0x1095cdbd0>"
      ]
     },
     "metadata": {},
     "output_type": "display_data"
    }
   ],
   "source": [
    "interact(fun, itx=(0, 9, 1))"
   ]
  },
  {
   "cell_type": "code",
   "execution_count": 55,
   "metadata": {
    "collapsed": false
   },
   "outputs": [
    {
     "name": "stdout",
     "output_type": "stream",
     "text": [
      "-124.0\n"
     ]
    },
    {
     "data": {
      "text/plain": [
       "(-500, 50.0)"
      ]
     },
     "execution_count": 55,
     "metadata": {},
     "output_type": "execute_result"
    },
    {
     "data": {
      "image/png": "[encoded data removed]",
      "text/plain": [
       "<matplotlib.figure.Figure at 0x10903ea10>"
      ]
     },
     "metadata": {},
     "output_type": "display_data"
    }
   ],
   "source": [
    "itx = 1\n",
    "condsub = submaps[itx]*sigma[~inactind]\n",
    "print submeshes[itx].vectorCCz[7]\n",
    "submeshes[itx].plotSlice(np.log10(condsub), normal='Y', grid=True, clim=(-4, -1))\n",
    "plt.plot(locs[:,0], locs[:,1], '.')\n",
    "plt.plot(locs[itx,0], locs[itx,1], 'ro')\n",
    "xlim(-500, 500)\n",
    "ylim(-500, 50.)"
   ]
  },
  {
   "cell_type": "code",
   "execution_count": 56,
   "metadata": {
    "collapsed": false
   },
   "outputs": [
    {
     "name": "stdout",
     "output_type": "stream",
     "text": [
      "-124.0\n"
     ]
    },
    {
     "data": {
      "text/plain": [
       "(-500, 50.0)"
      ]
     },
     "execution_count": 56,
     "metadata": {},
     "output_type": "execute_result"
    },
    {
     "data": {
      "image/png": "[encoded data removed]",
      "text/plain": [
       "<matplotlib.figure.Figure at 0x1088dc950>"
      ]
     },
     "metadata": {},
     "output_type": "display_data"
    }
   ],
   "source": [
    "itx = 5\n",
    "condsub = submaps[itx]*sigma[~inactind]\n",
    "print submeshes[itx].vectorCCz[7]\n",
    "submeshes[itx].plotSlice(np.log10(condsub), normal='Y', grid=True, clim=(-4, -1))\n",
    "plt.plot(locs[:,0], locs[:,1], '.')\n",
    "plt.plot(locs[itx,0], locs[itx,1], 'ro')\n",
    "xlim(-500, 500)\n",
    "ylim(-500, 50.)"
   ]
  },
  {
   "cell_type": "code",
   "execution_count": 57,
   "metadata": {
    "collapsed": false
   },
   "outputs": [
    {
     "name": "stdout",
     "output_type": "stream",
     "text": [
      "-125.0\n"
     ]
    },
    {
     "data": {
      "text/plain": [
       "(-500, 50.0)"
      ]
     },
     "execution_count": 57,
     "metadata": {},
     "output_type": "execute_result"
    },
    {
     "data": {
      "image/png": "[encoded data removed]",
      "text/plain": [
       "<matplotlib.figure.Figure at 0x10835bb90>"
      ]
     },
     "metadata": {},
     "output_type": "display_data"
    }
   ],
   "source": [
    "print mesh.vectorCCz[13]\n",
    "mesh.plotSlice(np.log10(sigma), ind=13,normal='X', grid=True, clim=(-4, -1))\n",
    "plt.plot(locs[:,0], locs[:,1], '.')\n",
    "plt.plot(locs[itx,0], locs[itx,1], 'ro')\n",
    "xlim(-500, 500)\n",
    "ylim(-500, 50.)"
   ]
  },
  {
   "cell_type": "code",
   "execution_count": 58,
   "metadata": {
    "collapsed": false
   },
   "outputs": [],
   "source": [
    "rxLists = []\n",
    "srcLists = []\n",
    "times = np.logspace(-4, -3, 11)\n",
    "for itx in range(ntx):\n",
    "    rxtmp = EM.TDEM.RxTDEM(locs[itx,:].reshape([1,-1]), times, 'bz')\n",
    "    rxLists.append(rxtmp)\n",
    "    srctmp = EM.TDEM.SrcTDEM_CircularLoop_MVP([rxtmp], locs[itx,:].reshape([1,-1]), 13., \"STEPOFF\")\n",
    "    srcLists.append(srctmp)"
   ]
  },
  {
   "cell_type": "code",
   "execution_count": 59,
   "metadata": {
    "collapsed": true
   },
   "outputs": [],
   "source": [
    "from simpegAIP.TD import ATEM_b\n",
    "from pymatsolver import MumpsSolver"
   ]
  },
  {
   "cell_type": "code",
   "execution_count": 60,
   "metadata": {
    "collapsed": false
   },
   "outputs": [],
   "source": [
    "# prob =ATEM_b.ProblemATEM_b(mesh, Solver=MumpsSolver)\n",
    "# survey = EM.TDEM.SurveyTDEM(srcLists)\n",
    "# prob.pair(survey)\n",
    "# prob.timeSteps = [(5e-5, 10), (1e-4, 10), (5e-4, 10)]\n",
    "# pred = survey.dpred(sigma)\n",
    "# pred = pred.reshape((times.size, ntx), order='F')\n",
    "# np.save('./data/pred', pred)"
   ]
  },
  {
   "cell_type": "code",
   "execution_count": 61,
   "metadata": {
    "collapsed": false
   },
   "outputs": [],
   "source": [
    "# plt.semilogy(locs[:,0], pred.T, 'k-')"
   ]
  },
  {
   "cell_type": "code",
   "execution_count": 62,
   "metadata": {
    "collapsed": false
   },
   "outputs": [],
   "source": [
    "class IdentityMapXXX(Maps.IdentityMap):\n",
    "    nCactive = None\n",
    "    def __init__(self, mesh, **kwargs):\n",
    "        Maps.IdentityMap.__init__(self, mesh, **kwargs)\n",
    "    \n",
    "    @property\n",
    "    def nP(self):\n",
    "        \"\"\"\n",
    "            :rtype: int\n",
    "            :return: number of parameters in the model\n",
    "        \"\"\"\n",
    "        if self.nCactive is None:\n",
    "            raise Exception('Set nCactive')            \n",
    "        return self.nCactive\n",
    "\n",
    "    @property\n",
    "    def shape(self):\n",
    "        \"\"\"\n",
    "            The default shape is (mesh.nC, nP).\n",
    "\n",
    "            :rtype: (int,int)\n",
    "            :return: shape of the operator as a tuple\n",
    "        \"\"\"\n",
    "        return (self.nP, self.nP)"
   ]
  },
  {
   "cell_type": "code",
   "execution_count": 21,
   "metadata": {
    "collapsed": false
   },
   "outputs": [],
   "source": [
    "# imap = IdentityMapXXX(mesh)\n",
    "# imap.nCactive = (~inactind).sum()"
   ]
  },
  {
   "cell_type": "code",
   "execution_count": 64,
   "metadata": {
    "collapsed": false
   },
   "outputs": [],
   "source": [
    "imap = Maps.IdentityMap(nP=int((~inactind).sum()))"
   ]
  },
  {
   "cell_type": "code",
   "execution_count": 74,
   "metadata": {
    "collapsed": false
   },
   "outputs": [],
   "source": [
    "GP = GlobalProblem(ATEM_b.ProblemATEM_b, mesh, mapping=imap, meshes=submeshes)\n",
    "survey = EM.TDEM.SurveyTDEM(srcLists)\n",
    "survey.pair(GP) #other way does not work GP.pair(survey)"
   ]
  },
  {
   "cell_type": "code",
   "execution_count": 67,
   "metadata": {
    "collapsed": false
   },
   "outputs": [
    {
     "name": "stdout",
     "output_type": "stream",
     "text": [
      ">> Step waveform: Non-zero initial condition\n",
      ">> Source 0\n",
      ">> Step waveform: Non-zero initial condition\n",
      ">> Source 1\n",
      ">> Step waveform: Non-zero initial condition\n",
      ">> Source 2\n",
      ">> Step waveform: Non-zero initial condition\n",
      ">> Source 3\n",
      ">> Step waveform: Non-zero initial condition\n",
      ">> Source 4\n",
      ">> Step waveform: Non-zero initial condition\n",
      ">> Source 5\n",
      ">> Step waveform: Non-zero initial condition\n",
      ">> Source 6\n",
      ">> Step waveform: Non-zero initial condition\n",
      ">> Source 7\n",
      ">> Step waveform: Non-zero initial condition\n",
      ">> Source 8\n",
      ">> Step waveform: Non-zero initial condition\n",
      ">> Source 9\n"
     ]
    }
   ],
   "source": [
    "# m = np.log(sigma[~inactind])\n",
    "m = sigma[~inactind]\n",
    "preddecom = []\n",
    "for itx in range(ntx):\n",
    "    prbtmp, surveytmp =  GP.getSubProblemandSubSurvey(submaps[itx], itx)\n",
    "#     prbtmp.verbose = True\n",
    "    prbtmp.Solver = MumpsSolver\n",
    "    prbtmp.timeSteps = [(5e-5, 10), (1e-4, 10), (5e-4, 10)]\n",
    "    predtmp = surveytmp.dpred(m)\n",
    "    preddecom.append(predtmp)\n",
    "    print (\">> Source %i\")%(itx)"
   ]
  },
  {
   "cell_type": "code",
   "execution_count": 68,
   "metadata": {
    "collapsed": true
   },
   "outputs": [],
   "source": [
    "pred = np.load(\"./data/pred.npy\")"
   ]
  },
  {
   "cell_type": "code",
   "execution_count": 69,
   "metadata": {
    "collapsed": false
   },
   "outputs": [
    {
     "data": {
      "text/plain": [
       "[<matplotlib.lines.Line2D at 0x108b75550>]"
      ]
     },
     "execution_count": 69,
     "metadata": {},
     "output_type": "execute_result"
    },
    {
     "data": {
      "image/png": "[encoded data removed]",
      "text/plain": [
       "<matplotlib.figure.Figure at 0x1090724d0>"
      ]
     },
     "metadata": {},
     "output_type": "display_data"
    }
   ],
   "source": [
    "itx = 9\n",
    "plt.loglog(times, pred[:,itx], 'k')\n",
    "plt.loglog(times, preddecom[itx], 'r')\n"
   ]
  },
  {
   "cell_type": "code",
   "execution_count": 70,
   "metadata": {
    "collapsed": true
   },
   "outputs": [],
   "source": [
    "pred_test = (np.vstack(preddecom)).flatten()\n",
    "pred_test = pred_test.reshape((times.size, ntx), order='F')"
   ]
  },
  {
   "cell_type": "code",
   "execution_count": 71,
   "metadata": {
    "collapsed": false
   },
   "outputs": [
    {
     "data": {
      "image/png": "[encoded data removed]",
      "text/plain": [
       "<matplotlib.figure.Figure at 0x1083d24d0>"
      ]
     },
     "metadata": {},
     "output_type": "display_data"
    }
   ],
   "source": [
    "for itime in range(times.size):\n",
    "    plt.semilogy(locs[:,0], pred[itime,:], 'k-')\n",
    "    plt.semilogy(locs[:,0], pred_test[itime,:], 'r.--')\n",
    "    if itime==0:\n",
    "        legend((\"Full\", \"Domain decomposition\"), loc=1, fontsize = 10)"
   ]
  },
  {
   "cell_type": "code",
   "execution_count": 29,
   "metadata": {
    "collapsed": false
   },
   "outputs": [],
   "source": [
    "# survey = EM.FDEM.Survey([Src0, Src1])\n",
    "# GP.pair(survey)\n",
    "\n",
    "# gp1 = GP.getSubProblem(0)\n",
    "# gp1.Solver = MumpsSolver\n",
    "\n",
    "# pu = prb0.fields(m)\n",
    "# gpu = gp1.fields(m)\n",
    "\n",
    "# bfz = mesh.r(pu[Src0, 'b'],'F','Fz','M')\n",
    "# bfz = mesh.r(gpu[Src0, 'b'],'F','Fz','M')\n",
    "# x = np.linspace(-55,55,12)\n",
    "# XYZ = Utils.ndgrid(x,np.r_[0],np.r_[0])\n",
    "# P = mesh.getInterpolationMat(XYZ, 'Fz')\n",
    "\n",
    "# # an = EM.Analytics.FDEM.hzAnalyticDipoleF(x, Src0.freq, sig)\n",
    "\n",
    "# # diff = np.log10(np.abs(P*np.imag(pu[Src0, 'b']) - mu_0*np.imag(an)))\n",
    "# # diff = np.log10(np.abs(P*np.imag(gpu[Src0, 'b']) - mu_0*np.imag(an)))\n",
    "\n",
    "# import matplotlib.pyplot as plt\n",
    "# plt.plot(x,np.log10(np.abs(P*np.imag(pu[Src0, 'b']))), 'r-s')\n",
    "# plt.plot(x,np.log10(np.abs(P*np.imag(gpu[Src0, 'b']))), 'b')\n",
    "# # plt.plot(x,np.log10(np.abs(mu_0*np.imag(an))), 'r')\n",
    "# # plt.plot(x,diff,'g')\n",
    "# plt.show()\n"
   ]
  },
  {
   "cell_type": "code",
   "execution_count": null,
   "metadata": {
    "collapsed": true
   },
   "outputs": [],
   "source": []
  }
 ],
 "metadata": {
  "kernelspec": {
   "display_name": "Python 2",
   "language": "python",
   "name": "python2"
  },
  "language_info": {
   "codemirror_mode": {
    "name": "ipython",
    "version": 2
   },
   "file_extension": ".py",
   "mimetype": "text/x-python",
   "name": "python",
   "nbconvert_exporter": "python",
   "pygments_lexer": "ipython2",
   "version": "2.7.11"
  }
 },
 "nbformat": 4,
 "nbformat_minor": 0
}
