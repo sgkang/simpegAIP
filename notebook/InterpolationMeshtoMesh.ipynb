{
 "cells": [
  {
   "cell_type": "code",
   "execution_count": 1,
   "metadata": {
    "collapsed": false
   },
   "outputs": [
    {
     "name": "stdout",
     "output_type": "stream",
     "text": [
      "Populating the interactive namespace from numpy and matplotlib\n"
     ]
    }
   ],
   "source": [
    "from scipy.spatial import cKDTree\n",
    "%pylab inline"
   ]
  },
  {
   "cell_type": "code",
   "execution_count": 2,
   "metadata": {
    "collapsed": false
   },
   "outputs": [],
   "source": [
    "from SimPEG import *"
   ]
  },
  {
   "cell_type": "code",
   "execution_count": 3,
   "metadata": {
    "collapsed": false
   },
   "outputs": [],
   "source": [
    "mesh = Utils.meshutils.readUBCTensorMesh(\"./models/mesh_composite.msh\")\n",
    "sigma = Utils.meshutils.readUBCTensorModel(\"./models/sigmaInf_composite_cond.con\", mesh)"
   ]
  },
  {
   "cell_type": "code",
   "execution_count": 4,
   "metadata": {
    "collapsed": true
   },
   "outputs": [],
   "source": [
    "from simpegem1d import EM1DAnal"
   ]
  },
  {
   "cell_type": "code",
   "execution_count": 5,
   "metadata": {
    "collapsed": false
   },
   "outputs": [],
   "source": [
    "from scipy.constants import mu_0\n",
    "def genTensorMesh(locs, sigma=1e-3, t=1e-2, dx=np.r_[50., 50., 35.], ncx=5,ncy=5,ncz=4,npad=9):    \n",
    "    difdist = np.sqrt(2*t/mu_0/sigma)\n",
    "    hx = [(dx[0],npad,-1.3), (dx[0],ncx), (dx[0],npad,1.3)]\n",
    "    hy = [(dx[1],npad,-1.3), (dx[1],ncy), (dx[1],npad,1.3)]\n",
    "    hz = [(dx[2],npad-2,-1.3), (dx[2],ncz),(dx[2]*0.5, 4),(dx[2],ncz),(dx[2],npad-2,1.3)]\n",
    "    mesh = Mesh.TensorMesh([hx, hy, hz], x0=\"CCC\")\n",
    "    mesh._x0 += locs\n",
    "    print locs\n",
    "    return mesh    "
   ]
  },
  {
   "cell_type": "code",
   "execution_count": 6,
   "metadata": {
    "collapsed": true
   },
   "outputs": [],
   "source": [
    "#Step1: make a tree\n",
    "inactind = mesh.gridCC[:,2] > 0.\n",
    "tree = cKDTree(zip(mesh.gridCC[~inactind,0], mesh.gridCC[~inactind,1], mesh.gridCC[~inactind,2]))"
   ]
  },
  {
   "cell_type": "code",
   "execution_count": 7,
   "metadata": {
    "collapsed": false
   },
   "outputs": [],
   "source": [
    "hx = np.ones(20)*100\n",
    "hy = np.ones(11)*150\n",
    "meshsurvey = Mesh.TensorMesh([hx,hy,], \"CC\")\n",
    "locs = np.c_[meshsurvey.gridCC, np.ones(meshsurvey.nC)*-30.]\n",
    "itx = Utils.closestPoints(meshsurvey, np.r_[0., 0.])[0]"
   ]
  },
  {
   "cell_type": "code",
   "execution_count": 8,
   "metadata": {
    "collapsed": false
   },
   "outputs": [
    {
     "name": "stdout",
     "output_type": "stream",
     "text": [
      "[-50.   0. -30.]\n"
     ]
    }
   ],
   "source": [
    "# for i in range(220):\n",
    "meshsub = genTensorMesh(locs[itx,:])\n",
    "inactindsub = meshsub.gridCC[:,2] > 0.\n",
    "#Step2: find indices of the nearest neighbors in the flattened array\n",
    "d, inds = tree.query(zip(meshsub.gridCC[~inactindsub,0],meshsub.gridCC[~inactindsub,1],meshsub.gridCC[~inactindsub,2]), k=1)\n",
    "sigma_nearest = np.ones(meshsub.nC)*1e-8\n",
    "#Step2_1: Generate an interpolation matrix\n",
    "P = sp.coo_matrix( (np.ones(inds.size),(np.arange(inds.size), inds)), shape=(inds.size, (~inactind).sum()) )\n",
    "out = P*sigma[~inactind]\n",
    "sigma_nearest[~inactindsub] = out"
   ]
  },
  {
   "cell_type": "code",
   "execution_count": 9,
   "metadata": {
    "collapsed": false
   },
   "outputs": [
    {
     "data": {
      "text/plain": [
       "(7935,)"
      ]
     },
     "execution_count": 9,
     "metadata": {},
     "output_type": "execute_result"
    }
   ],
   "source": [
    "inds.shape"
   ]
  },
  {
   "cell_type": "code",
   "execution_count": 10,
   "metadata": {
    "collapsed": false
   },
   "outputs": [
    {
     "data": {
      "text/plain": [
       "(7935,)"
      ]
     },
     "execution_count": 10,
     "metadata": {},
     "output_type": "execute_result"
    }
   ],
   "source": [
    "d.shape"
   ]
  },
  {
   "cell_type": "code",
   "execution_count": 11,
   "metadata": {
    "collapsed": false
   },
   "outputs": [
    {
     "data": {
      "text/plain": [
       "<7935x72000 sparse matrix of type '<type 'numpy.float64'>'\n",
       "\twith 7935 stored elements in Compressed Sparse Column format>"
      ]
     },
     "execution_count": 11,
     "metadata": {},
     "output_type": "execute_result"
    }
   ],
   "source": [
    "P.tocsc()"
   ]
  },
  {
   "cell_type": "code",
   "execution_count": 12,
   "metadata": {
    "collapsed": false
   },
   "outputs": [],
   "source": [
    "#Step3: interpolate using inverse distance weighting, using 10 nearest neighbours(k=10)\n",
    "d, inds = tree.query(zip(meshsub.gridCC[~inactindsub,0],meshsub.gridCC[~inactindsub,1],meshsub.gridCC[~inactindsub,2]), k=6)\n",
    "w = 1./ d**2\n",
    "sigma_idw = np.ones(meshsub.nC)*1e-8\n",
    "sigma_idw[~inactindsub] = np.exp(np.sum(w*np.log(sigma[inds]), axis = 1) / np.sum(w, axis=1))\n",
    "w = Utils.sdiag(1./np.sum(w, axis=1))*w \n",
    "I = Utils.mkvc(np.arange(inds.shape[0]).reshape([-1,1]).repeat(6, axis=1))\n",
    "J = Utils.mkvc(inds)\n",
    "P = sp.coo_matrix( (Utils.mkvc(w),(I, J)), shape=(inds.shape[0], (~inactind).sum()) )\n",
    "out = np.exp(P*np.log(sigma[~inactind]))\n",
    "sigma_idw = np.ones(meshsub.nC)*1e-8\n",
    "sigma_idw[~inactindsub] = out"
   ]
  },
  {
   "cell_type": "code",
   "execution_count": 13,
   "metadata": {
    "collapsed": false
   },
   "outputs": [
    {
     "data": {
      "text/plain": [
       "(7935, 6)"
      ]
     },
     "execution_count": 13,
     "metadata": {},
     "output_type": "execute_result"
    }
   ],
   "source": [
    "d.shape"
   ]
  },
  {
   "cell_type": "code",
   "execution_count": 16,
   "metadata": {
    "collapsed": false
   },
   "outputs": [
    {
     "data": {
      "text/plain": [
       "7935"
      ]
     },
     "execution_count": 16,
     "metadata": {},
     "output_type": "execute_result"
    }
   ],
   "source": [
    "(~inactindsub).sum()"
   ]
  },
  {
   "cell_type": "code",
   "execution_count": 28,
   "metadata": {
    "collapsed": false
   },
   "outputs": [
    {
     "data": {
      "text/plain": [
       "(7935, 6)"
      ]
     },
     "execution_count": 28,
     "metadata": {},
     "output_type": "execute_result"
    }
   ],
   "source": [
    "inds.shape"
   ]
  },
  {
   "cell_type": "code",
   "execution_count": 14,
   "metadata": {
    "collapsed": false
   },
   "outputs": [
    {
     "ename": "NameError",
     "evalue": "name 'IdentityMap' is not defined",
     "output_type": "error",
     "traceback": [
      "\u001b[0;31m---------------------------------------------------------------------------\u001b[0m",
      "\u001b[0;31mNameError\u001b[0m                                 Traceback (most recent call last)",
      "\u001b[0;32m<ipython-input-14-b60bb706d920>\u001b[0m in \u001b[0;36m<module>\u001b[0;34m()\u001b[0m\n\u001b[0;32m----> 1\u001b[0;31m \u001b[0;32mclass\u001b[0m \u001b[0mMesh2MeshTopo\u001b[0m\u001b[0;34m(\u001b[0m\u001b[0mIdentityMap\u001b[0m\u001b[0;34m)\u001b[0m\u001b[0;34m:\u001b[0m\u001b[0;34m\u001b[0m\u001b[0m\n\u001b[0m\u001b[1;32m      2\u001b[0m     \"\"\"\n\u001b[1;32m      3\u001b[0m         \u001b[0mTakes\u001b[0m \u001b[0ma\u001b[0m \u001b[0mmodel\u001b[0m \u001b[0mon\u001b[0m \u001b[0mone\u001b[0m \u001b[0mmesh\u001b[0m \u001b[0mare\u001b[0m \u001b[0mtranslates\u001b[0m \u001b[0mit\u001b[0m \u001b[0mto\u001b[0m \u001b[0manother\u001b[0m \u001b[0mmesh\u001b[0m\u001b[0;34m\u001b[0m\u001b[0m\n\u001b[1;32m      4\u001b[0m         \u001b[0;32mwith\u001b[0m \u001b[0mconsideration\u001b[0m \u001b[0mof\u001b[0m \u001b[0mtopography\u001b[0m\u001b[0;34m\u001b[0m\u001b[0m\n\u001b[1;32m      5\u001b[0m \u001b[0;34m\u001b[0m\u001b[0m\n",
      "\u001b[0;31mNameError\u001b[0m: name 'IdentityMap' is not defined"
     ]
    }
   ],
   "source": [
    "class Mesh2MeshTopo(IdentityMap):\n",
    "    \"\"\"\n",
    "        Takes a model on one mesh are translates it to another mesh\n",
    "        with consideration of topography\n",
    "\n",
    "    \"\"\"\n",
    "    tree = None\n",
    "    nIterpPts = 6\n",
    "\n",
    "    def __init__(self, meshes, actinds, **kwargs):\n",
    "        Utils.setKwargs(self, **kwargs)\n",
    "\n",
    "        assert type(meshes) is list, \"meshes must be a list of two meshes\"\n",
    "        assert len(meshes) == 2, \"meshes must be a list of two meshes\"\n",
    "        assert type(actinds) is list, \"actinds must be a list of two meshes\"\n",
    "        assert len(actinds) == 2, \"actinds must be a list of two meshes\"\n",
    "        assert meshes[0].dim == meshes[1].dim, \"\"\"The two meshes must be the same dimension\"\"\"\n",
    "\n",
    "        self.mesh  = meshes[0]\n",
    "        self.mesh2 = meshes[1]\n",
    "        self.actind = actinds[0]\n",
    "        self.actind2 = actinds[1]\n",
    "        self.getP()\n",
    "\n",
    "        # Old version using SimPEG interpolation\n",
    "        # self.P = self.mesh2.getInterpolationMat(self.mesh.gridCC,'CC',zerosOutside=True)\n",
    "    \n",
    "    from scipy.interpolate import NearestNDInterpolator        \n",
    "    def genActiveindfromTopo(mesh, xyztopo):    \n",
    "        #TODO: This possibly needs to be improved use vtk(?)\n",
    "        if mesh.dim==3:\n",
    "            nCxy = mesh.nCx*mesh.nCy\n",
    "            Zcc = mesh.gridCC[:,2].reshape((nCxy, mesh.nCz), order='F')\n",
    "            Ftopo = NearestNDInterpolator(xyztopo[:,:2], xyztopo[:,2])\n",
    "            XY = Utils.ndgrid(mesh.vectorCCx, mesh.vectorCCy)\n",
    "            XY.shape\n",
    "            topo = Ftopo(XY)\n",
    "            actind = []                    \n",
    "            for ixy in range(nCxy):\n",
    "                actind.append(topo[ixy] <= Zcc[ixy,:])\n",
    "        else:\n",
    "            raise NotImplementedError(\"Only 3D is working\")\n",
    "\n",
    "        return Utils.mkvc(np.vstack(actind))\n",
    "\n",
    "    #Question .. is it only generated once?\n",
    "    def getP(self):\n",
    "        \"\"\"\n",
    "\n",
    "        \"\"\"\n",
    "        if self.tree==None:\n",
    "            self.tree = cKDTree(zip(self.mesh.gridCC[self.actind,0], self.mesh.gridCC[self.actind,1], self.mesh.gridCC[self.actind,2]))\n",
    "        d, inds = tree.query(zip(self.mesh2.gridCC[self.actind2,0],self.mesh2.gridCC[self.actind2,1],self.mesh2.gridCC[self.actind2,2]), k=self.nIterpPts)\n",
    "        w = 1./ d**2\n",
    "        w = Utils.sdiag(1./np.sum(w, axis=1)) * w\n",
    "        I = Utils.mkvc(np.arange(inds.shape[0]).reshape([-1,1]).repeat(6, axis=1))\n",
    "        J = Utils.mkvc(inds)\n",
    "        P = sp.coo_matrix( (Utils.mkvc(w),(I, J)), shape=(inds.shape[0], (self.actind).sum()) )\n",
    "        self.P = P.tocsc() \n",
    "\n",
    "    @property\n",
    "    def shape(self):\n",
    "        \"\"\"Number of parameters in the model.\"\"\"\n",
    "        # return (self.mesh.nC, self.mesh2.nC)\n",
    "        return (self.actind2.sum(), self.actind.sum())\n",
    "\n",
    "    @property\n",
    "    def nP(self):\n",
    "        \"\"\"Number of parameters in the model.\"\"\"\n",
    "        # return self.mesh2.nC\n",
    "        return self.actind2.sum()\n",
    "\n",
    "    def _transform(self, m):\n",
    "        return self.P*m\n",
    "\n",
    "    def deriv(self, m):\n",
    "        return self.P"
   ]
  },
  {
   "cell_type": "code",
   "execution_count": 121,
   "metadata": {
    "collapsed": false
   },
   "outputs": [],
   "source": [
    "M2Mmap = Mesh2MeshTopo([mesh, meshsub], [~inactind, ~inactindsub])\n",
    "actmap = Maps.ActiveCells(meshsub, ~inactindsub, np.log(1e-8))\n",
    "expmap = Maps.ExpMap(meshsub)\n",
    "mapping = expmap*actmap*M2Mmap\n",
    "test = mapping*np.log(sigma[~inactind])"
   ]
  },
  {
   "cell_type": "code",
   "execution_count": 124,
   "metadata": {
    "collapsed": false
   },
   "outputs": [
    {
     "name": "stdout",
     "output_type": "stream",
     "text": [
      "-24.99\n"
     ]
    },
    {
     "data": {
      "text/plain": [
       "<matplotlib.text.Text at 0x109670410>"
      ]
     },
     "execution_count": 124,
     "metadata": {},
     "output_type": "execute_result"
    },
    {
     "data": {
      "image/png": "[encoded data removed]",
      "text/plain": [
       "<matplotlib.figure.Figure at 0x109e196d0>"
      ]
     },
     "metadata": {},
     "output_type": "display_data"
    }
   ],
   "source": [
    "fig = plt.figure(figsize = (12, 4))\n",
    "ax = plt.subplot(121)\n",
    "print mesh.vectorCCz[19]\n",
    "indz = 17\n",
    "mesh.plotSlice(np.log10(sigma), ind = indz, grid=True, clim=(-3, -1), ax=ax)\n",
    "ax.plot(meshsurvey.gridCC[:,0],meshsurvey.gridCC[:,1], 'w.')\n",
    "ax.plot(meshsurvey.gridCC[itx,0],meshsurvey.gridCC[itx,1], 'ro')\n",
    "ax.set_xlim(-1200, 1200)\n",
    "ax.set_ylim(-1200, 1200)\n",
    "ax.set_title((\"z=%3.1f\")%(mesh.vectorCCz[indz])) \n",
    "ax1 = plt.subplot(122)\n",
    "indzsub = 9\n",
    "meshsub.plotSlice(np.log10(test), ind = indzsub, grid=True, clim=(-3, -1), ax=ax1)\n",
    "ax1.plot(meshsurvey.gridCC[:,0],meshsurvey.gridCC[:,1], 'w.')\n",
    "ax1.plot(meshsurvey.gridCC[itx,0],meshsurvey.gridCC[itx,1], 'ro')\n",
    "ax1.set_xlim(-1200, 1200)\n",
    "ax1.set_ylim(-1200, 1200)\n",
    "ax1.set_title((\"z=%3.1f\")%(meshsub.vectorCCz[indzsub])) "
   ]
  },
  {
   "cell_type": "code",
   "execution_count": 125,
   "metadata": {
    "collapsed": false
   },
   "outputs": [
    {
     "data": {
      "text/plain": [
       "(-1000, 1000)"
      ]
     },
     "execution_count": 125,
     "metadata": {},
     "output_type": "execute_result"
    },
    {
     "data": {
      "image/png": "[encoded data removed]",
      "text/plain": [
       "<matplotlib.figure.Figure at 0x1096cd350>"
      ]
     },
     "metadata": {},
     "output_type": "display_data"
    }
   ],
   "source": [
    "itx = 216\n",
    "mesh.plotSlice(np.log10(sigma), ind = 17, grid=True, clim=(-3, -1))\n",
    "plt.plot(meshsurvey.gridCC[itx,0],meshsurvey.gridCC[itx,1], 'ro')\n",
    "xlim(-1000, 1000)\n",
    "ylim(-1000, 1000)"
   ]
  },
  {
   "cell_type": "code",
   "execution_count": 126,
   "metadata": {
    "collapsed": false
   },
   "outputs": [
    {
     "data": {
      "text/plain": [
       "(-1000, 1000)"
      ]
     },
     "execution_count": 126,
     "metadata": {},
     "output_type": "execute_result"
    },
    {
     "data": {
      "image/png": "[encoded data removed]",
      "text/plain": [
       "<matplotlib.figure.Figure at 0x109825150>"
      ]
     },
     "metadata": {},
     "output_type": "display_data"
    }
   ],
   "source": [
    "meshsub.plotSlice(np.log10(sigma_nearest), ind = 10, grid=True, clim=(-3, -1))\n",
    "plt.plot(meshsurvey.gridCC[itx,0],meshsurvey.gridCC[itx,1], 'ro')\n",
    "xlim(-1000, 1000)\n",
    "ylim(-1000, 1000)"
   ]
  },
  {
   "cell_type": "code",
   "execution_count": 127,
   "metadata": {
    "collapsed": false
   },
   "outputs": [
    {
     "data": {
      "text/plain": [
       "(-1000, 1000)"
      ]
     },
     "execution_count": 127,
     "metadata": {},
     "output_type": "execute_result"
    },
    {
     "data": {
      "image/png": "[encoded data removed]",
      "text/plain": [
       "<matplotlib.figure.Figure at 0x109edafd0>"
      ]
     },
     "metadata": {},
     "output_type": "display_data"
    }
   ],
   "source": [
    "meshsub.plotSlice(np.log10(sigma_idw), ind = 10, grid=True, clim=(-3, -1))\n",
    "plt.plot(meshsurvey.gridCC[itx,0],meshsurvey.gridCC[itx,1], 'ro')\n",
    "xlim(-1000, 1000)\n",
    "ylim(-1000, 1000)"
   ]
  },
  {
   "cell_type": "code",
   "execution_count": 128,
   "metadata": {
    "collapsed": false
   },
   "outputs": [
    {
     "data": {
      "text/plain": [
       "(-1000, 1000)"
      ]
     },
     "execution_count": 128,
     "metadata": {},
     "output_type": "execute_result"
    },
    {
     "data": {
      "image/png": "[encoded data removed]",
      "text/plain": [
       "<matplotlib.figure.Figure at 0x10c9deb50>"
      ]
     },
     "metadata": {},
     "output_type": "display_data"
    }
   ],
   "source": [
    "meshsub.plotSlice(np.log10(test), ind = 10, grid=True, clim=(-3, -1))\n",
    "plt.plot(meshsurvey.gridCC[itx,0],meshsurvey.gridCC[itx,1], 'ro')\n",
    "xlim(-1000, 1000)\n",
    "ylim(-1000, 1000)"
   ]
  },
  {
   "cell_type": "code",
   "execution_count": 129,
   "metadata": {
    "collapsed": false
   },
   "outputs": [
    {
     "data": {
      "text/plain": [
       "(-1000, 1000)"
      ]
     },
     "execution_count": 129,
     "metadata": {},
     "output_type": "execute_result"
    },
    {
     "data": {
      "image/png": "[encoded data removed]",
      "text/plain": [
       "<matplotlib.figure.Figure at 0x10ce24e90>"
      ]
     },
     "metadata": {},
     "output_type": "display_data"
    }
   ],
   "source": [
    "itx = 45\n",
    "mesh.plotSlice(np.log10(sigma), ind = 12,normal='Y', grid=True, clim=(-3, -1))\n",
    "plt.plot(locs[itx,0],locs[itx,2], 'ro')\n",
    "xlim(-1000, 1000)\n",
    "ylim(-1000, 1000)"
   ]
  },
  {
   "cell_type": "code",
   "execution_count": 130,
   "metadata": {
    "collapsed": false
   },
   "outputs": [
    {
     "data": {
      "text/plain": [
       "(-1000, 1000)"
      ]
     },
     "execution_count": 130,
     "metadata": {},
     "output_type": "execute_result"
    },
    {
     "data": {
      "image/png": "[encoded data removed]",
      "text/plain": [
       "<matplotlib.figure.Figure at 0x10cf70a10>"
      ]
     },
     "metadata": {},
     "output_type": "display_data"
    }
   ],
   "source": [
    "itx = 45\n",
    "meshsub.plotSlice(np.log10(sigma_nearest), ind = 12, normal='Y', grid=True, clim=(-3, -1))\n",
    "plt.plot(locs[itx,0],locs[itx,2], 'ro')\n",
    "xlim(-1000, 1000)\n",
    "ylim(-1000, 1000)"
   ]
  },
  {
   "cell_type": "code",
   "execution_count": 131,
   "metadata": {
    "collapsed": false
   },
   "outputs": [
    {
     "data": {
      "text/plain": [
       "(-1000, 1000)"
      ]
     },
     "execution_count": 131,
     "metadata": {},
     "output_type": "execute_result"
    },
    {
     "data": {
      "image/png": "[encoded data removed]",
      "text/plain": [
       "<matplotlib.figure.Figure at 0x10db58790>"
      ]
     },
     "metadata": {},
     "output_type": "display_data"
    }
   ],
   "source": [
    "itx = 45\n",
    "meshsub.plotSlice(np.log10(sigma_idw), ind = 12, normal='Y', grid=True, clim=(-3, -1))\n",
    "plt.plot(locs[itx,0],locs[itx,2], 'ro')\n",
    "xlim(-1000, 1000)\n",
    "ylim(-1000, 1000)"
   ]
  },
  {
   "cell_type": "code",
   "execution_count": null,
   "metadata": {
    "collapsed": true
   },
   "outputs": [],
   "source": []
  },
  {
   "cell_type": "code",
   "execution_count": null,
   "metadata": {
    "collapsed": true
   },
   "outputs": [],
   "source": []
  }
 ],
 "metadata": {
  "kernelspec": {
   "display_name": "Python 2",
   "language": "python",
   "name": "python2"
  },
  "language_info": {
   "codemirror_mode": {
    "name": "ipython",
    "version": 2
   },
   "file_extension": ".py",
   "mimetype": "text/x-python",
   "name": "python",
   "nbconvert_exporter": "python",
   "pygments_lexer": "ipython2",
   "version": "2.7.11"
  }
 },
 "nbformat": 4,
 "nbformat_minor": 0
}
