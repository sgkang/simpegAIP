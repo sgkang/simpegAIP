{
 "cells": [
  {
   "cell_type": "code",
   "execution_count": 1,
   "metadata": {
    "collapsed": false
   },
   "outputs": [
    {
     "name": "stdout",
     "output_type": "stream",
     "text": [
      "Populating the interactive namespace from numpy and matplotlib\n"
     ]
    }
   ],
   "source": [
    "import numpy as np\n",
    "%pylab inline"
   ]
  },
  {
   "cell_type": "code",
   "execution_count": 2,
   "metadata": {
    "collapsed": false
   },
   "outputs": [],
   "source": [
    "def AofT(time,T, ai, taui):\n",
    "    return ai*np.exp(-time/taui)/(1.+np.exp(-T/(2*taui)))"
   ]
  },
  {
   "cell_type": "code",
   "execution_count": 9,
   "metadata": {
    "collapsed": false
   },
   "outputs": [],
   "source": [
    "from SimPEG import *\n",
    "from simpegem1d.Waveform import CausalConv\n",
    "import sys\n",
    "sys.path.append(\"./DoubleLog/\")\n",
    "from plotting import mapDat"
   ]
  },
  {
   "cell_type": "code",
   "execution_count": 10,
   "metadata": {
    "collapsed": false
   },
   "outputs": [],
   "source": [
    "class LinearSurvey(Survey.BaseSurvey):\n",
    "    nD = None\n",
    "    def __init__(self, time, **kwargs): \n",
    "        self.time = time\n",
    "        self.nD = time.size\n",
    "        \n",
    "    def projectFields(self, u):\n",
    "        return u\n",
    "\n",
    "class LinearProblem(Problem.BaseProblem):\n",
    "\n",
    "    surveyPair = LinearSurvey\n",
    "\n",
    "    def __init__(self, mesh, G, **kwargs):\n",
    "        Problem.BaseProblem.__init__(self, mesh, **kwargs)\n",
    "        self.G = G\n",
    "\n",
    "    def fields(self, m, u=None):\n",
    "        return self.G.dot(m)\n",
    "\n",
    "    def Jvec(self, m, v, u=None):\n",
    "        return self.G.dot(v)\n",
    "\n",
    "    def Jtvec(self, m, v, u=None):\n",
    "        return self.G.T.dot(v)"
   ]
  },
  {
   "cell_type": "markdown",
   "metadata": {},
   "source": [
    "# Simple exponential basis"
   ]
  },
  {
   "cell_type": "markdown",
   "metadata": {},
   "source": [
    "\n",
    "$$ \\mathbf{A}\\mathbf{\\alpha} = \\mathbf{d}$$"
   ]
  },
  {
   "cell_type": "code",
   "execution_count": 11,
   "metadata": {
    "collapsed": false
   },
   "outputs": [],
   "source": [
    "tind = 12\n",
    "time = np.load('./exampledata/timevtem.npy')[4:]\n",
    "obs = np.load('./exampledata/souding_weak.npy')[4:]\n",
    "wave = np.loadtxt('/Users/sgkang/Dropbox/Shared/SeogiDikun/Milligan/Data/7042_106_wform.xyz', skiprows=7)\n",
    "M = 81\n",
    "tau = np.logspace(-5, -2, M)"
   ]
  },
  {
   "cell_type": "code",
   "execution_count": 12,
   "metadata": {
    "collapsed": false
   },
   "outputs": [],
   "source": [
    "twave = (np.arange(10000)+1)*1e-5\n",
    "indstart = 4439\n",
    "indend = 6000\n",
    "t0_wave = twave[indstart:indend].min()\n",
    "time_conv= twave[indstart:indend]-t0_wave"
   ]
  },
  {
   "cell_type": "code",
   "execution_count": 13,
   "metadata": {
    "collapsed": false
   },
   "outputs": [
    {
     "data": {
      "text/plain": [
       "0.015600000000000003"
      ]
     },
     "execution_count": 13,
     "metadata": {},
     "output_type": "execute_result"
    }
   ],
   "source": [
    "time_conv.max()"
   ]
  },
  {
   "cell_type": "code",
   "execution_count": 14,
   "metadata": {
    "collapsed": false
   },
   "outputs": [],
   "source": [
    "currentderiv = wave[indstart:indend]\n",
    "currentderiv[time_conv>4.4e-3] = 0.\n",
    "current = CausalConv(wave[indstart:indend], np.ones_like(wave[indstart:indend]), time_conv)"
   ]
  },
  {
   "cell_type": "code",
   "execution_count": 15,
   "metadata": {
    "collapsed": false
   },
   "outputs": [
    {
     "data": {
      "text/plain": [
       "array([  0.00000000e+00,   1.00000000e-05,   2.00000000e-05, ...,\n",
       "         1.55800000e-02,   1.55900000e-02,   1.56000000e-02])"
      ]
     },
     "execution_count": 15,
     "metadata": {},
     "output_type": "execute_result"
    }
   ],
   "source": [
    "time_conv"
   ]
  },
  {
   "cell_type": "code",
   "execution_count": 16,
   "metadata": {
    "collapsed": false
   },
   "outputs": [
    {
     "data": {
      "text/plain": [
       "(-4.5, 4.5)"
      ]
     },
     "execution_count": 16,
     "metadata": {},
     "output_type": "execute_result"
    },
    {
     "data": {
      "image/png": "[encoded data removed]",
      "text/plain": [
       "<matplotlib.figure.Figure at 0x10773a890>"
      ]
     },
     "metadata": {},
     "output_type": "display_data"
    }
   ],
   "source": [
    "# figsize(6, 4)\n",
    "\n",
    "plt.plot(time_conv, wave[indstart:indend], 'b.', lw=2, ms=4)\n",
    "plt.plot(time_conv, wave[indstart:indend]*0., 'k--')\n",
    "plt.plot(np.r_[4.4000000e-03, 4.4000000e-03], np.r_[-4.5, 4.5], 'k:')\n",
    "plt.ylim(-4.5, 4.5)\n",
    "# plt.xlim(-2e-4, 5.5e-3)"
   ]
  },
  {
   "cell_type": "code",
   "execution_count": 17,
   "metadata": {
    "collapsed": false
   },
   "outputs": [
    {
     "data": {
      "text/plain": [
       "3.0000000000009182e-09"
      ]
     },
     "execution_count": 17,
     "metadata": {},
     "output_type": "execute_result"
    }
   ],
   "source": [
    "current.min()"
   ]
  },
  {
   "cell_type": "code",
   "execution_count": 18,
   "metadata": {
    "collapsed": false
   },
   "outputs": [
    {
     "data": {
      "text/plain": [
       "(0, 1.0)"
      ]
     },
     "execution_count": 18,
     "metadata": {},
     "output_type": "execute_result"
    },
    {
     "data": {
      "image/png": "[encoded data removed]",
      "text/plain": [
       "<matplotlib.figure.Figure at 0x10776fc90>"
      ]
     },
     "metadata": {},
     "output_type": "display_data"
    }
   ],
   "source": [
    "figsize(6, 4)\n",
    "plt.plot(time_conv, current/current.max(), 'k-')\n",
    "# plt.plot(time_conv, wave[indstart:indend]*0., 'k--')\n",
    "plt.plot(np.r_[4.4000000e-03, 4.4000000e-03], np.r_[1e-6, 1e-2], 'k:')\n",
    "plt.plot(time, np.zeros_like(time), 'r.')\n",
    "plt.ylim(0, 1.)"
   ]
  },
  {
   "cell_type": "code",
   "execution_count": 19,
   "metadata": {
    "collapsed": false
   },
   "outputs": [],
   "source": [
    "from SimPEG import Mesh\n",
    "from simpegem1d.Waveform import SineFun, SineFunDeriv, CausalConv\n",
    "dt = 1e-5\n",
    "t0 = 4.4000000e-03\n",
    "ntime = time_conv.size\n",
    "meshtime = Mesh.TensorMesh([dt*np.ones(ntime)], x0=[-dt/2.])\n",
    "P = meshtime.getInterpolationMat(time+t0, 'CC')\n",
    "# time_conv = meshtime.gridN\n",
    "# currentderiv = SineFunDeriv(time_conv, t0)\n",
    "# current = SineFun(time_conv, t0)"
   ]
  },
  {
   "cell_type": "code",
   "execution_count": 20,
   "metadata": {
    "collapsed": false
   },
   "outputs": [],
   "source": [
    "temp = np.exp(-time_conv/1e-2)/1e-2\n",
    "out = CausalConv(temp, currentderiv, time_conv)\n",
    "# plt.plot(time_conv, currentderiv)"
   ]
  },
  {
   "cell_type": "code",
   "execution_count": 21,
   "metadata": {
    "collapsed": false
   },
   "outputs": [
    {
     "data": {
      "text/plain": [
       "[<matplotlib.lines.Line2D at 0x107a6a090>]"
      ]
     },
     "execution_count": 21,
     "metadata": {},
     "output_type": "execute_result"
    },
    {
     "data": {
      "image/png": "[encoded data removed]",
      "text/plain": [
       "<matplotlib.figure.Figure at 0x10795e3d0>"
      ]
     },
     "metadata": {},
     "output_type": "display_data"
    }
   ],
   "source": [
    "plt.plot(time_conv, out)"
   ]
  },
  {
   "cell_type": "code",
   "execution_count": 22,
   "metadata": {
    "collapsed": false
   },
   "outputs": [
    {
     "data": {
      "text/plain": [
       "(0.0, 0.015600000000000003)"
      ]
     },
     "execution_count": 22,
     "metadata": {},
     "output_type": "execute_result"
    }
   ],
   "source": [
    "time_conv.min(), time_conv.max()"
   ]
  },
  {
   "cell_type": "code",
   "execution_count": 23,
   "metadata": {
    "collapsed": false
   },
   "outputs": [
    {
     "data": {
      "text/plain": [
       "(23, 1561)"
      ]
     },
     "execution_count": 23,
     "metadata": {},
     "output_type": "execute_result"
    }
   ],
   "source": [
    "P.shape"
   ]
  },
  {
   "cell_type": "code",
   "execution_count": 24,
   "metadata": {
    "collapsed": false
   },
   "outputs": [],
   "source": [
    "N = time.size\n",
    "A = np.zeros((N, M))\n",
    "for j in range(M):\n",
    "    A[:,j] = P*(CausalConv(1./tau[j]*np.exp(-time_conv/tau[j]), -currentderiv, time_conv))"
   ]
  },
  {
   "cell_type": "code",
   "execution_count": 25,
   "metadata": {
    "collapsed": true
   },
   "outputs": [],
   "source": [
    "mtrue = np.zeros(M)"
   ]
  },
  {
   "cell_type": "code",
   "execution_count": 26,
   "metadata": {
    "collapsed": false
   },
   "outputs": [],
   "source": [
    "np.random.seed(1)\n",
    "inds = np.random.random_integers(0, 41, size=5)\n",
    "mtrue[inds] = np.r_[0.1, 2, 1, 4, 5]"
   ]
  },
  {
   "cell_type": "code",
   "execution_count": 27,
   "metadata": {
    "collapsed": true
   },
   "outputs": [],
   "source": [
    "out = np.dot(A,mtrue)"
   ]
  },
  {
   "cell_type": "code",
   "execution_count": 28,
   "metadata": {
    "collapsed": false
   },
   "outputs": [
    {
     "data": {
      "image/png": "[encoded data removed]",
      "text/plain": [
       "<matplotlib.figure.Figure at 0x107793190>"
      ]
     },
     "metadata": {},
     "output_type": "display_data"
    }
   ],
   "source": [
    "fig = plt.figure(figsize=(5,4))\n",
    "ax = plt.subplot(111)\n",
    "\n",
    "# for i, ind in enumerate(inds):\n",
    "#     temp, dum, dum = mapDat(mtrue[inds][i]*np.exp(-time/tau[ind]), 1e-5, stretch=2)\n",
    "#     plt.semilogx(time, temp, 'k', alpha = 0.5)    \n",
    "outmap, ticks, tickLabels = mapDat(obs,1e-3, stretch=3)    \n",
    "ax.semilogx(time, outmap, 'k', lw=2)\n",
    "ax.set_yticks(ticks)\n",
    "ax.set_yticklabels(tickLabels)\n",
    "# ax.set_ylim(ticks.min(), ticks.max())\n",
    "ax.set_xlim(time.min(), time.max())\n",
    "ax.grid(True)"
   ]
  },
  {
   "cell_type": "code",
   "execution_count": 29,
   "metadata": {
    "collapsed": true
   },
   "outputs": [],
   "source": [
    "# from pymatsolver import MumpsSolver"
   ]
  },
  {
   "cell_type": "code",
   "execution_count": 30,
   "metadata": {
    "collapsed": false
   },
   "outputs": [
    {
     "name": "stdout",
     "output_type": "stream",
     "text": [
      "[  1.50625688e+03   1.03992431e+03   7.01240826e+02   4.69947248e+02\n",
      "   3.17316514e+02   2.17385321e+02   1.49032110e+02   1.01708716e+02\n",
      "   6.80917431e+01   4.51857798e+01   2.91467890e+01   1.88669725e+01\n",
      "   1.12522936e+01   6.16972477e+00   3.42660550e+00   1.61009174e+00\n",
      "   1.07798165e-01]\n"
     ]
    }
   ],
   "source": [
    "ip = obs[obs<0.]\n",
    "print obs[obs>0.]/abs(ip).max()"
   ]
  },
  {
   "cell_type": "code",
   "execution_count": 31,
   "metadata": {
    "collapsed": false
   },
   "outputs": [
    {
     "data": {
      "text/plain": [
       "[<matplotlib.lines.Line2D at 0x107911810>]"
      ]
     },
     "execution_count": 31,
     "metadata": {},
     "output_type": "execute_result"
    },
    {
     "data": {
      "image/png": "[encoded data removed]",
      "text/plain": [
       "<matplotlib.figure.Figure at 0x107a74790>"
      ]
     },
     "metadata": {},
     "output_type": "display_data"
    }
   ],
   "source": [
    "weight = np.sqrt(np.diag(np.dot(A.T, A)))\n",
    "plt.plot(tau, weight)"
   ]
  },
  {
   "cell_type": "code",
   "execution_count": 32,
   "metadata": {
    "collapsed": true
   },
   "outputs": [],
   "source": [
    "from SimPEG import Maps"
   ]
  },
  {
   "cell_type": "code",
   "execution_count": 33,
   "metadata": {
    "collapsed": false
   },
   "outputs": [
    {
     "name": "stdout",
     "output_type": "stream",
     "text": [
      "SimPEG.InvProblem is setting bfgsH0 to the inverse of the eval2Deriv.\n",
      "                    ***Done using same solver as the problem***\n",
      "=============================== Projected GNCG ===============================\n",
      "  #     beta     phi_d     phi_m       f      |proj(x-g)-x|  LS    Comment   \n",
      "-----------------------------------------------------------------------------\n",
      "   0  1.00e-04  3.04e+03  0.00e+00  3.04e+03    1.01e+06      0              \n",
      "   1  1.00e-04  2.94e+03  9.13e-06  2.94e+03    2.09e+05      3              \n",
      "   2  1.00e-04  2.88e+03  2.45e-05  2.88e+03    1.59e+05      4   Skip BFGS  \n",
      "   3  1.00e-04  2.74e+03  1.95e-04  2.74e+03    5.99e+04      2   Skip BFGS  \n",
      "   4  1.00e-04  2.71e+03  1.10e-03  2.71e+03    1.32e+04      1   Skip BFGS  \n",
      "   5  1.00e-04  1.24e+03  1.09e-03  1.24e+03    1.76e+04      0              \n",
      "   6  1.00e-04  1.19e+03  2.31e-03  1.19e+03    4.47e+03      1              \n",
      "   7  1.00e-04  9.34e+02  5.63e-03  9.34e+02    3.87e+02      0   Skip BFGS  \n",
      "   8  1.00e-04  4.08e+02  4.72e-03  4.08e+02    2.34e+03      0              \n",
      "   9  1.00e-04  2.53e+02  1.15e-02  2.53e+02    8.61e-01      0   Skip BFGS  \n",
      "  10  1.00e-04  2.47e+02  1.16e-02  2.47e+02    3.79e+00      3              \n",
      "------------------------- STOP! -------------------------\n",
      "1 : |fc-fOld| = 6.2324e+00 <= tolF*(1+|f0|) = 3.0434e+02\n",
      "0 : |xc-x_last| = 8.9897e+04 <= tolX*(1+|x0|) = 1.0000e-01\n",
      "0 : |proj(x-g)-x|    = 3.7877e+00 <= tolG          = 1.0000e-01\n",
      "0 : |proj(x-g)-x|    = 3.7877e+00 <= 1e3*eps       = 1.0000e-02\n",
      "1 : maxIter   =      10    <= iter          =     10\n",
      "------------------------- DONE! -------------------------\n"
     ]
    }
   ],
   "source": [
    "mesh = Mesh.TensorMesh([M])\n",
    "wmap = Maps.Weighting(mesh, weights=weight)\n",
    "prob = LinearProblem(mesh, A)\n",
    "survey = LinearSurvey(time)\n",
    "survey.pair(prob)\n",
    "# survey.makeSyntheticData(mtrue, std=0.01)\n",
    "# survey.dobs = out\n",
    "survey.dobs = obs\n",
    "reg = Regularization.BaseRegularization(mesh, mapping=wmap)\n",
    "# reg = Regularization.BaseRegularization(mesh)\n",
    "dmis = DataMisfit.l2_DataMisfit(survey)\n",
    "# uncert = 0.01*(abs(survey.dobs)+abs(ip).max())\n",
    "uncert = 0.05*(abs(survey.dobs)+abs(ip).max())\n",
    "dmis.Wd = 1./(uncert)\n",
    "opt = Optimization.ProjectedGNCG(maxIter=10)\n",
    "# opt = Optimization.InexactGaussNewton(maxIter=20)\n",
    "opt.lower = -1e-10\n",
    "invProb = InvProblem.BaseInvProblem(dmis, reg, opt)\n",
    "invProb.beta = 1e-4\n",
    "beta = Directives.BetaSchedule()\n",
    "beta.coolingFactor = 1\n",
    "target = Directives.TargetMisfit()\n",
    "inv = Inversion.BaseInversion(invProb, directiveList=[beta, target])\n",
    "m0 = np.zeros(M)\n",
    "reg.mref = np.zeros_like(M)\n",
    "mrec = inv.run(m0)"
   ]
  },
  {
   "cell_type": "code",
   "execution_count": 34,
   "metadata": {
    "collapsed": false
   },
   "outputs": [
    {
     "data": {
      "text/plain": [
       "[<matplotlib.lines.Line2D at 0x1077d2450>]"
      ]
     },
     "execution_count": 34,
     "metadata": {},
     "output_type": "execute_result"
    },
    {
     "data": {
      "image/png": "[encoded data removed]",
      "text/plain": [
       "<matplotlib.figure.Figure at 0x107d45290>"
      ]
     },
     "metadata": {},
     "output_type": "display_data"
    }
   ],
   "source": [
    "# plt.semilogx(tau, mtrue, '.')\n",
    "plt.semilogx(tau, mrec, '.')"
   ]
  },
  {
   "cell_type": "code",
   "execution_count": 35,
   "metadata": {
    "collapsed": false
   },
   "outputs": [
    {
     "name": "stdout",
     "output_type": "stream",
     "text": [
      "[-0.03255555  0.01643406  0.01800222  0.00871257  0.00051413 -0.00297504\n",
      " -0.00480093 -0.00425742 -0.0028921  -0.00184528 -0.0012905  -0.00028878\n",
      "  0.00013386  0.00015968  0.00022762  0.00014902 -0.00015768 -0.00050284\n",
      " -0.0002683  -0.0002563  -0.00040969 -0.00022709 -0.00014801]\n"
     ]
    }
   ],
   "source": [
    "ip = obs-invProb.dpred\n",
    "print ip"
   ]
  },
  {
   "cell_type": "code",
   "execution_count": 36,
   "metadata": {
    "collapsed": false
   },
   "outputs": [
    {
     "name": "stdout",
     "output_type": "stream",
     "text": [
      "0.044345 0.0486024217735 -0.00425742177346\n"
     ]
    }
   ],
   "source": [
    "tind = 7\n",
    "print obs[tind], invProb.dpred[tind], ip[tind]"
   ]
  },
  {
   "cell_type": "code",
   "execution_count": 37,
   "metadata": {
    "collapsed": false
   },
   "outputs": [
    {
     "data": {
      "image/png": "[encoded data removed]",
      "text/plain": [
       "<matplotlib.figure.Figure at 0x107edc850>"
      ]
     },
     "metadata": {},
     "output_type": "display_data"
    }
   ],
   "source": [
    "fig = plt.figure(figsize=(7,4.5))\n",
    "ax = plt.subplot(111)\n",
    "ax.plot(time, obs, 'k.-', lw=2)\n",
    "ax.plot(time, -obs, 'k--', lw=2)\n",
    "ax.plot(time, invProb.dpred, 'b-', lw=2)\n",
    "ax.plot(time, -ip, 'r.-', lw=2, ms=10)\n",
    "ax.plot(time, uncert, 'g.-', lw=2, ms=10)\n",
    "# ax.set_ylim(1e-4, 1e0)\n",
    "ax.set_xscale('log')\n",
    "ax.set_yscale('log')\n",
    "ax.set_xlim(time.min(), time.max())\n",
    "ax.grid(True)"
   ]
  },
  {
   "cell_type": "code",
   "execution_count": 62,
   "metadata": {
    "collapsed": false
   },
   "outputs": [
    {
     "data": {
      "text/plain": [
       "[<matplotlib.lines.Line2D at 0x107db9450>]"
      ]
     },
     "execution_count": 62,
     "metadata": {},
     "output_type": "execute_result"
    },
    {
     "data": {
      "image/png": "[encoded data removed]",
      "text/plain": [
       "<matplotlib.figure.Figure at 0x109bdf8d0>"
      ]
     },
     "metadata": {},
     "output_type": "display_data"
    }
   ],
   "source": [
    "# weight_d = np.sqrt(np.diag(np.dot(np.dot(np.diag(1./uncert), A), (np.dot(np.diag(1./uncert), A)).T)))\n",
    "weight_d = np.sqrt(np.diag( np.dot(A, A.T)))\n",
    "plt.loglog(time, weight_d)"
   ]
  },
  {
   "cell_type": "code",
   "execution_count": 63,
   "metadata": {
    "collapsed": false
   },
   "outputs": [
    {
     "data": {
      "text/plain": [
       "[<matplotlib.lines.Line2D at 0x10a1083d0>]"
      ]
     },
     "execution_count": 63,
     "metadata": {},
     "output_type": "execute_result"
    },
    {
     "data": {
      "image/png": "[encoded data removed]",
      "text/plain": [
       "<matplotlib.figure.Figure at 0x10a2df450>"
      ]
     },
     "metadata": {},
     "output_type": "display_data"
    }
   ],
   "source": [
    "Aw = np.dot(np.diag(1./uncert), A)\n",
    "weight = np.sqrt( np.diag(np.dot(A.T, A)))\n",
    "plt.semilogx(tau, weight)"
   ]
  },
  {
   "cell_type": "code",
   "execution_count": null,
   "metadata": {
    "collapsed": true
   },
   "outputs": [],
   "source": []
  },
  {
   "cell_type": "code",
   "execution_count": null,
   "metadata": {
    "collapsed": true
   },
   "outputs": [],
   "source": []
  }
 ],
 "metadata": {
  "kernelspec": {
   "display_name": "Python 2",
   "language": "python",
   "name": "python2"
  },
  "language_info": {
   "codemirror_mode": {
    "name": "ipython",
    "version": 2
   },
   "file_extension": ".py",
   "mimetype": "text/x-python",
   "name": "python",
   "nbconvert_exporter": "python",
   "pygments_lexer": "ipython2",
   "version": "2.7.11"
  }
 },
 "nbformat": 4,
 "nbformat_minor": 0
}
