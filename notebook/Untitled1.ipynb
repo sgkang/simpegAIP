{
 "cells": [
  {
   "cell_type": "code",
   "execution_count": 1,
   "metadata": {
    "collapsed": false
   },
   "outputs": [],
   "source": [
    "from SimPEG import *\n",
    "from simpegAIP.FD import AFEMIPProblem_b\n",
    "from SimPEG import EM\n",
    "from pymatsolver import MumpsSolver\n",
    "from scipy.constants import mu_0"
   ]
  },
  {
   "cell_type": "code",
   "execution_count": null,
   "metadata": {
    "collapsed": true
   },
   "outputs": [],
   "source": [
    "cs, ncx, ncz, npad = 25., 25, 20, 15\n",
    "hx = [(cs,ncx), (cs,npad,1.3)]\n",
    "hz = [(cs,npad,-1.3), (cs,ncz), (cs,npad,1.3)]\n",
    "mesh = Mesh.CylMesh([hx,1,hz], '00C')    \n",
    "sighalf = 1e-2\n",
    "siginf = np.ones(mesh.nC)*1e-8\n",
    "siginf[mesh.gridCC[:,-1]<0.] = sighalf\n",
    "eta = np.ones(mesh.nC)*0.2\n",
    "tau = np.ones(mesh.nC)*0.005\n",
    "c = np.ones(mesh.nC)*0.7\n",
    "m = np.r_[siginf, eta, tau, c]\n",
    "mapping = ColeColeTimeMap(mesh)\n",
    "prob = ProblemATEMIP_b(mesh, mapping=mapping)\n",
    "waveformType=\"STEPOFF\"\n",
    "prob.timeSteps = [(1e-6, 20), (1e-5, 20), (1e-4, 20), (1e-3, 10)]\n",
    "tobs = np.logspace(-4, -2, 21)\n",
    "offset = 50.\n",
    "rx = EM.TDEM.RxTDEM(np.array([[offset, 0., 0.]]), tobs, \"bz\")\n",
    "# src = EM.TDEM.SrcTDEM_CircularLoop_MVP([rx], np.array([[0., 0., 0.]]), 13., waveformType)\n",
    "src = EM.TDEM.SrcTDEM_VMD_MVP([rx], np.array([[0., 0., 0.]]), waveformType=waveformType)\n",
    "survey = EM.TDEM.SurveyTDEM([src])\n",
    "prob.Solver = MumpsSolver\n",
    "prob.pair(survey)"
   ]
  }
 ],
 "metadata": {
  "kernelspec": {
   "display_name": "Python 2",
   "language": "python",
   "name": "python2"
  },
  "language_info": {
   "codemirror_mode": {
    "name": "ipython",
    "version": 2
   },
   "file_extension": ".py",
   "mimetype": "text/x-python",
   "name": "python",
   "nbconvert_exporter": "python",
   "pygments_lexer": "ipython2",
   "version": "2.7.11"
  }
 },
 "nbformat": 4,
 "nbformat_minor": 0
}
