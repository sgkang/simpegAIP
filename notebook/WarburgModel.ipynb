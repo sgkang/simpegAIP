{
 "cells": [
  {
   "cell_type": "code",
   "execution_count": 1,
   "metadata": {
    "collapsed": false
   },
   "outputs": [
    {
     "name": "stdout",
     "output_type": "stream",
     "text": [
      "Populating the interactive namespace from numpy and matplotlib\n"
     ]
    }
   ],
   "source": [
    "%pylab inline"
   ]
  },
  {
   "cell_type": "code",
   "execution_count": 3,
   "metadata": {
    "collapsed": true
   },
   "outputs": [],
   "source": [
    "from scipy.special import erfc"
   ]
  },
  {
   "cell_type": "code",
   "execution_count": 37,
   "metadata": {
    "collapsed": true
   },
   "outputs": [],
   "source": [
    "def dsig(eta, tau, t):\n",
    "    b = 1./(1.-eta)/np.sqrt(tau)\n",
    "    a = eta*b\n",
    "    return a*(1./np.sqrt(np.pi*t) - b*np.exp(b**2*t)*erfc(b*np.sqrt(t)))"
   ]
  },
  {
   "cell_type": "code",
   "execution_count": 90,
   "metadata": {
    "collapsed": false
   },
   "outputs": [
    {
     "data": {
      "text/plain": [
       "array([  1.86364958e+02,   1.59865148e+02,   1.36936903e+02,\n",
       "         1.17104173e+02,   9.99550172e+01,   8.51330189e+01,\n",
       "         7.23298539e+01,   6.12788398e+01,   5.17493398e+01,\n",
       "         4.35418994e+01,   3.64840147e+01,   3.04264433e+01,\n",
       "         2.52399818e+01,   2.08126436e+01,   1.70471843e+01,\n",
       "         1.38589303e+01,   1.11738756e+01,   8.92702411e+00,\n",
       "         7.06096219e+00,   5.52465205e+00,   4.27244358e+00,\n",
       "         3.26330054e+00,   2.46023312e+00,   1.82991954e+00,\n",
       "         1.34248568e+00,   9.71399063e-01,   6.93422785e-01,\n",
       "         4.88573330e-01,   3.40033804e-01,   2.33991209e-01,\n",
       "         1.59388671e-01,   1.07605077e-01,   7.20897210e-02,\n",
       "         4.79855075e-02,   3.17712977e-02,   2.09452940e-02,\n",
       "         1.37607700e-02,   9.01614273e-03,   5.89495083e-03,\n",
       "         3.84795092e-03,   2.50861362e-03])"
      ]
     },
     "execution_count": 90,
     "metadata": {},
     "output_type": "execute_result"
    }
   ],
   "source": [
    "dsig(0.1, 0.01, t)"
   ]
  },
  {
   "cell_type": "code",
   "execution_count": 91,
   "metadata": {
    "collapsed": false
   },
   "outputs": [
    {
     "data": {
      "text/plain": [
       "[<matplotlib.lines.Line2D at 0x110d914d0>]"
      ]
     },
     "execution_count": 91,
     "metadata": {},
     "output_type": "execute_result"
    },
    {
     "data": {
      "image/png": "[encoded data removed]",
      "text/plain": [
       "<matplotlib.figure.Figure at 0x110d48350>"
      ]
     },
     "metadata": {},
     "output_type": "display_data"
    }
   ],
   "source": [
    "t = np.logspace(-5, 0., 41)\n",
    "plt.loglog(t, dsig(0.1, 0.01, t))\n",
    "plt.loglog(t, dsig(0.1, 0.1, t))\n",
    "plt.loglog(t, dsig(0.1, 1, t))"
   ]
  },
  {
   "cell_type": "code",
   "execution_count": 92,
   "metadata": {
    "collapsed": true
   },
   "outputs": [],
   "source": [
    "# def petaconvfun(a, b, we, time, P):\n",
    "def petaconvfun(m, time=t):\n",
    "    a, b = m[0], m[1]    \n",
    "    kernel = lambda t: a*(1./np.sqrt(np.pi*t) - b*np.exp(b**2*t)*erfc(b*np.sqrt(t)))\n",
    "    temp = kernel(time)\n",
    "#     temp = Convolution.CausalConvIntSingle(we, time, kernel)\n",
    "#     out = P*temp\n",
    "    out = temp.copy()\n",
    "    return out\n",
    "\n",
    "# def petaJconvfun(a, b, we, time, P):\n",
    "def petaJconvfun(m, time=t):    \n",
    "    a, b = m[0], m[1]\n",
    "    kernela = lambda x: 1./np.sqrt(np.pi*t) - b*np.exp(b**2*t)*erfc(b*np.sqrt(t))\n",
    "    kernelb = lambda x: a*(2*b*np.sqrt(t)/np.sqrt(np.pi) \\\n",
    "                        - 2*b**2*t*np.exp(b**2*t)*erfc(b*np.sqrt(t))\\\n",
    "                        - np.exp(b**2*t)*erfc(b*np.sqrt(t)))\n",
    "    tempa = kernela(time)\n",
    "    tempb = kernelb(time)\n",
    "#     tempa = Convolution.CausalConvIntSingle(we, time, kernela)\n",
    "#     tempb = Convolution.CausalConvIntSingle(we, time, kernelb)\n",
    "#     J = np.c_[P*tempeta, P*temptau]\n",
    "    J = np.c_[tempa, tempb]\n",
    "    return J"
   ]
  },
  {
   "cell_type": "code",
   "execution_count": 93,
   "metadata": {
    "collapsed": true
   },
   "outputs": [],
   "source": [
    "from SimPEG import Tests"
   ]
  },
  {
   "cell_type": "code",
   "execution_count": 94,
   "metadata": {
    "collapsed": false
   },
   "outputs": [],
   "source": [
    "eta, tau = 0.1, 0.1\n",
    "b = 1./(1.-eta)/np.sqrt(tau)\n",
    "a = eta*b\n",
    "\n",
    "m0 = np.r_[a, b]\n",
    "J = petaJconvfun(m0)\n",
    "dobs = petaconvfun(m0)"
   ]
  },
  {
   "cell_type": "code",
   "execution_count": 95,
   "metadata": {
    "collapsed": true
   },
   "outputs": [],
   "source": [
    "def Jvec(m, mx):\n",
    "    J = petaJconvfun(m)\n",
    "    return np.dot(J, mx)"
   ]
  },
  {
   "cell_type": "code",
   "execution_count": 96,
   "metadata": {
    "collapsed": false
   },
   "outputs": [
    {
     "name": "stdout",
     "output_type": "stream",
     "text": [
      "==================== checkDerivative ====================\n",
      "iter    h         |ft-f0|   |ft-f0-h*J0*dx|  Order\n",
      "---------------------------------------------------------\n",
      " 0   1.00e-01    5.095e+01     3.693e-03      nan\n",
      " 1   1.00e-02    5.096e+00     3.693e-05      2.000\n",
      " 2   1.00e-03    5.096e-01     3.693e-07      2.000\n",
      " 3   1.00e-04    5.096e-02     3.693e-09      2.000\n",
      " 4   1.00e-05    5.096e-03     3.693e-11      2.000\n",
      " 5   1.00e-06    5.096e-04     3.743e-13      1.994\n",
      " 6   1.00e-07    5.096e-05     1.691e-14      1.345\n",
      "========================= PASS! =========================\n",
      "Awesome, Sgkang, just awesome.\n",
      "\n"
     ]
    }
   ],
   "source": [
    "derChk = lambda m: [petaconvfun(m), lambda mx: Jvec(m0, mx)]\n",
    "passed = Tests.checkDerivative(derChk, m0, plotIt=False)"
   ]
  }
 ],
 "metadata": {
  "kernelspec": {
   "display_name": "Python 2",
   "language": "python",
   "name": "python2"
  },
  "language_info": {
   "codemirror_mode": {
    "name": "ipython",
    "version": 2
   },
   "file_extension": ".py",
   "mimetype": "text/x-python",
   "name": "python",
   "nbconvert_exporter": "python",
   "pygments_lexer": "ipython2",
   "version": "2.7.11"
  }
 },
 "nbformat": 4,
 "nbformat_minor": 0
}
