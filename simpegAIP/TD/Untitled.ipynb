{
 "cells": [
  {
   "cell_type": "code",
   "execution_count": 2,
   "metadata": {
    "collapsed": false
   },
   "outputs": [],
   "source": [
    "from SimPEG import Mesh, Survey, Problem, Utils, Models, Maps, PropMaps, np, sp, Solver as SimpegSolver\n",
    "from scipy.constants import mu_0\n",
    "from SimPEG.EM.Base import BaseEMProblem, EMPropMap\n",
    "from SimPEG.EM.TDEM.BaseTDEM import FieldsTDEM\n",
    "from SimPEG.Problem import BaseTimeProblem\n",
    "from simpegAIP.TD.BaseATEM import BaseATEMProblem\n",
    "from simpegAIP.TD import ProblemATEM_b\n",
    "import SimPEG.EM as EM\n",
    "import EMTD\n",
    "from EMTD.Utils import hzAnalyticCentLoopT\n",
    "from pymatsolver import MumpsSolver\n",
    "import matplotlib.pyplot as plt"
   ]
  },
  {
   "cell_type": "code",
   "execution_count": 3,
   "metadata": {
    "collapsed": false
   },
   "outputs": [],
   "source": [
    "# timeon = np.cumsum(np.r_[np.ones(10)*1e-3, np.ones(10)*5e-4, np.ones(10)*1e-4])\n",
    "# timeon -= timeon.max()\n",
    "# timeoff = np.cumsum(np.r_[np.ones(10)*5e-5, np.ones(10)*1e-4, np.ones(10)*5e-4, np.ones(10)*1e-3, np.ones(10)*1e-3])\n",
    "# time = np.r_[timeon, timeoff]\n",
    "# current_on = np.ones_like(timeon)\n",
    "# current_on[[0,-1]] = 0.\n",
    "# current = np.r_[current_on, np.zeros_like(timeoff)]\n",
    "# wave = np.c_[time, current]\n",
    "cs, ncx, ncz, npad = 20., 25, 25, 15\n",
    "hx = [(cs,ncx), (cs,npad,1.3)]\n",
    "hz = [(cs,npad,-1.3), (cs,ncz), (cs,npad,1.3)]\n",
    "mesh = Mesh.CylMesh([hx,1,hz], '00C')    \n",
    "prb = ProblemATEM_b(mesh)\n",
    "prb.waveformType = \"STEPOFF\"\n",
    "prb.timeSteps = [(5e-5, 10), (1e-4, 10), (5e-4, 10), (1e-3, 10),(5e-3, 10)]\n",
    "# prb.currentwaveform(wave)\n",
    "# prb.t0 = time.min()\n",
    "tobs = np.logspace(-4, -2, 21)\n",
    "rx = EM.TDEM.RxTDEM(np.array([[0., 0., 0.]]), tobs, \"bz\")\n",
    "src = EM.TDEM.SrcTDEM_CircularLoop_MVP([rx], np.array([[0., 0., 0.]]), 13., \"STEPOFF\")\n",
    "survey = EM.TDEM.SurveyTDEM([src])\n",
    "prb.Solver = MumpsSolver\n",
    "sigma = np.ones(mesh.nC)*1e-8\n",
    "active = mesh.gridCC[:,2]<0.\n",
    "sig_half = 1e-2\n",
    "sigma[active] = sig_half\n",
    "prb.pair(survey)"
   ]
  },
  {
   "cell_type": "code",
   "execution_count": 4,
   "metadata": {
    "collapsed": false
   },
   "outputs": [
    {
     "data": {
      "text/plain": [
       "'STEPOFF'"
      ]
     },
     "execution_count": 4,
     "metadata": {},
     "output_type": "execute_result"
    }
   ],
   "source": [
    "prb.waveformType"
   ]
  },
  {
   "cell_type": "code",
   "execution_count": 8,
   "metadata": {
    "collapsed": false
   },
   "outputs": [],
   "source": [
    "tobs = np.logspace(-4, -2, 21)\n",
    "rx = EM.TDEM.RxTDEM(np.array([[0., 0., 0.]]), tobs, \"bz\")\n",
    "src = EM.TDEM.SrcTDEM_CircularLoop_MVP([rx], np.array([[0., 0., 0.]]), 13., \"STEPOFF\")\n",
    "survey = EM.TDEM.SurveyTDEM([src])\n",
    "prb.Solver = MumpsSolver\n",
    "sigma = np.ones(mesh.nC)*1e-8\n",
    "active = mesh.gridCC[:,2]<0.\n",
    "sig_half = 1e-2\n",
    "sigma[active] = sig_half\n",
    "prb.pair(survey)"
   ]
  },
  {
   "cell_type": "code",
   "execution_count": 10,
   "metadata": {
    "collapsed": false
   },
   "outputs": [
    {
     "name": "stdout",
     "output_type": "stream",
     "text": [
      ">> Step waveform: Non-zero initial condition\n"
     ]
    }
   ],
   "source": [
    "out = survey.dpred(sigma)"
   ]
  },
  {
   "cell_type": "code",
   "execution_count": 11,
   "metadata": {
    "collapsed": false
   },
   "outputs": [
    {
     "name": "stdout",
     "output_type": "stream",
     "text": [
      ">> Step waveform: Non-zero initial condition\n"
     ]
    }
   ],
   "source": [
    "out = survey.dpred(sigma)\n",
    "bz_ana = mu_0*hzAnalyticCentLoopT(13., rx.times, sig_half)"
   ]
  },
  {
   "cell_type": "code",
   "execution_count": 12,
   "metadata": {
    "collapsed": false
   },
   "outputs": [
    {
     "name": "stdout",
     "output_type": "stream",
     "text": [
      "Populating the interactive namespace from numpy and matplotlib\n"
     ]
    }
   ],
   "source": [
    "%pylab inline"
   ]
  },
  {
   "cell_type": "code",
   "execution_count": 13,
   "metadata": {
    "collapsed": false
   },
   "outputs": [
    {
     "data": {
      "text/plain": [
       "[<matplotlib.lines.Line2D at 0x10a1dd850>]"
      ]
     },
     "execution_count": 13,
     "metadata": {},
     "output_type": "execute_result"
    },
    {
     "data": {
      "image/png": "[encoded data removed]",
      "text/plain": [
       "<matplotlib.figure.Figure at 0x10a150ad0>"
      ]
     },
     "metadata": {},
     "output_type": "display_data"
    }
   ],
   "source": [
    "plt.loglog(rx.times, bz_ana)\n",
    "plt.loglog(rx.times, out)"
   ]
  },
  {
   "cell_type": "code",
   "execution_count": 11,
   "metadata": {
    "collapsed": false
   },
   "outputs": [
    {
     "data": {
      "text/plain": [
       "array([ 0.,  0.,  0.,  0.,  0.,  0.,  0.,  0.,  0.,  0.,  0.,  0.,  0.,\n",
       "        0.,  0.,  0.,  0.,  0.,  0.,  0.,  0.])"
      ]
     },
     "execution_count": 11,
     "metadata": {},
     "output_type": "execute_result"
    }
   ],
   "source": [
    "out"
   ]
  },
  {
   "cell_type": "code",
   "execution_count": 8,
   "metadata": {
    "collapsed": false
   },
   "outputs": [
    {
     "data": {
      "text/plain": [
       "0.27337065127601784"
      ]
     },
     "execution_count": 8,
     "metadata": {},
     "output_type": "execute_result"
    }
   ],
   "source": []
  },
  {
   "cell_type": "code",
   "execution_count": null,
   "metadata": {
    "collapsed": true
   },
   "outputs": [],
   "source": []
  }
 ],
 "metadata": {
  "kernelspec": {
   "display_name": "Python 2",
   "language": "python",
   "name": "python2"
  }
 },
 "nbformat": 4,
 "nbformat_minor": 0
}
